{
  "nbformat": 4,
  "nbformat_minor": 0,
  "metadata": {
    "colab": {
      "provenance": []
    },
    "kernelspec": {
      "name": "python3",
      "display_name": "Python 3"
    },
    "language_info": {
      "name": "python"
    }
  },
  "cells": [
    {
      "cell_type": "markdown",
      "source": [
        "#Statistics Basic Assignment\n",
        "\n",
        "##A) **Theoretical Questions**\n",
        "\n",
        "1. What is statistics, and why is it important?\n",
        "- Statistics is the science of collecting, analyzing, interpreting, presenting, and organizing data. It is important because it enables informed decision-making by providing tools to summarize data, identify patterns, and draw conclusions under uncertainty.\n",
        "\n",
        "2. What are the two main types of statistics?\n",
        "\n",
        "  The two main types of statistics are:\n",
        "\n",
        "\n",
        "  - Descriptive statistics: Summarizes and describes features of a dataset.\n",
        "\n",
        "\n",
        "  - Inferential statistics: Makes predictions or inferences about a population based on a sample.\n",
        "\n",
        "\n",
        "3. What are descriptive statistics?\n",
        "\n",
        "- Descriptive statistics summarize and organize characteristics of a dataset using measures such as mean, median, mode, variance, and standard deviation.\n",
        "\n",
        "4. What is inferential statistics?\n",
        "\n",
        "- Inferential statistics involves making generalizations, predictions, or decisions about a population based on data sampled from it.\n",
        "\n",
        "5. What is sampling in statistics?\n",
        "\n",
        "- Sampling is the process of selecting a subset of individuals or observations from a population to estimate characteristics of the whole population.\n",
        "\n",
        "6. What are the different types of sampling methods?\n",
        "\n",
        "\n",
        "- Simple random sampling\n",
        "\n",
        "\n",
        "- Systematic sampling\n",
        "\n",
        "\n",
        "- Stratified sampling\n",
        "\n",
        "\n",
        "- Cluster sampling\n",
        "\n",
        "\n",
        "- Convenience sampling\n",
        "\n",
        "\n",
        "\n",
        "7. What is the difference between random and non-random sampling?\n",
        "\n",
        "\n",
        "- Random sampling: Every individual has an equal chance of selection, reducing bias.\n",
        "\n",
        "\n",
        "- Non-random sampling: Selection is based on criteria or convenience, which may introduce bias.\n",
        "\n",
        "8. Define and give examples of qualitative and quantitative data.\n",
        "\n",
        "\n",
        "- Qualitative data: Describes categories or qualities (e.g., colors, names).\n",
        "\n",
        "\n",
        "- Quantitative data: Represents numerical values (e.g., height, weight).\n",
        "\n",
        "9. What are the different types of data in statistics?\n",
        "\n",
        "\n",
        "- Qualitative (categorical): nominal, ordinal\n",
        "\n",
        "\n",
        "- Quantitative (numerical): discrete, continuous\n",
        "\n",
        "10. Explain nominal, ordinal, interval, and ratio levels of measurement.\n",
        "\n",
        "\n",
        "- Nominal: Categories without order (e.g., gender, religion)\n",
        "\n",
        "\n",
        "- Ordinal: Categories with a meaningful order (e.g., rankings)\n",
        "\n",
        "\n",
        "- Interval: Ordered, equal intervals, no true zero (e.g., temperature in Celsius)\n",
        "\n",
        "\n",
        "- Ratio: Ordered, equal intervals, true zero exists (e.g., height, weight)\n",
        "\n",
        "11. What is the measure of central tendency?\n",
        "\n",
        "- It refers to statistical measures that describe the center point of a dataset, typically mean, median, and mode.\n",
        "\n",
        "12. Define mean, median, and mode.\n",
        "\n",
        "\n",
        "- Mean: The arithmetic average of all data points.\n",
        "\n",
        "\n",
        "- Median: The middle value when data is ordered.\n",
        "\n",
        "\n",
        "- Mode: The most frequently occurring value(s).\n",
        "\n",
        "13. What is the significance of the measure of central tendency?\n",
        "\n",
        "- It provides a single value representing the center of a dataset, aiding in data summarization and comparison.\n",
        "\n",
        "14. What is variance, and how is it calculated?\n",
        "\n",
        "- Variance measures the average squared deviation from the mean.\n",
        "\n",
        "\n",
        "15. What is standard deviation, and why is it important?\n",
        "\n",
        "- Standard deviation is the square root of variance and indicates the average distance of data points from the mean. It is important for understanding data dispersion.\n",
        "\n",
        "16. Define and explain the term range in statistics.\n",
        "\n",
        "- Range is the difference between the maximum and minimum values in a dataset, showing the data spread.\n",
        "\n",
        "17. What is the difference between variance and standard deviation?\n",
        "\n",
        "- Variance is in squared units of data, while standard deviation is in the same units as the data, making it more interpretable.\n",
        "\n",
        "18. What is skewness in a dataset?\n",
        "\n",
        "- Skewness measures the asymmetry of data distribution around the mean.\n",
        "\n",
        "19. What does it mean if a dataset is positively or negatively skewed?\n",
        "\n",
        "\n",
        "- Positively skewed: Tail extends to the right; mean > median\n",
        "\n",
        "\n",
        "- Negatively skewed: Tail extends to the left; mean < median\n",
        "\n",
        "20. Define and explain kurtosis.\n",
        "\n",
        "- Kurtosis measures tailedness of a distribution, indicating the propensity for outliers. High kurtosis means heavy tails. Hence low kurtosis means light tails.\n",
        "\n",
        "21. What is the purpose of covariance?\n",
        "\n",
        "- Covariance indicates the direction of a linear relationship between two variables.\n",
        "\n",
        "22. What does correlation measure in statistics?\n",
        "\n",
        "- Correlation quantifies the strength and direction of a linear relationship between two variables, scaled between -1 and 1.\n",
        "\n",
        "23. What is the difference between covariance and correlation?\n",
        "\n",
        "- Covariance measures directional relationship magnitude without scale standardization. Correlation standardizes covariance, making it dimensionless.\n",
        "\n",
        "24. What are some real-world applications of statistics?\n",
        "\n",
        "- Statistics is applied in business analytics, healthcare, economics, engineering, social sciences, market research, and quality control, among other fields"
      ],
      "metadata": {
        "id": "4kAJN2nGu29J"
      }
    },
    {
      "cell_type": "markdown",
      "source": [
        "## B) Practical Questions\n",
        "\n",
        "1. How do you calculate the mean, median, and mode of a dataset?"
      ],
      "metadata": {
        "id": "6sh1x6c_w7zV"
      }
    },
    {
      "cell_type": "code",
      "source": [
        "import statistics as stats\n",
        "data = [10, 20, 20, 30, 40, 40, 40, 50]\n",
        "\n",
        "mean = stats.mean(data)\n",
        "median = stats.median(data)\n",
        "mode = stats.mode(data)\n",
        "\n",
        "print(f\"Mean: {mean}, Median: {median}, Mode: {mode}\")"
      ],
      "metadata": {
        "colab": {
          "base_uri": "https://localhost:8080/"
        },
        "id": "vRFBuTuf0f-x",
        "outputId": "83400f2d-61f8-45fd-c01a-cb983fc2d64b"
      },
      "execution_count": 5,
      "outputs": [
        {
          "output_type": "stream",
          "name": "stdout",
          "text": [
            "Mean: 31.25, Median: 35.0, Mode: 40\n"
          ]
        }
      ]
    },
    {
      "cell_type": "markdown",
      "source": [
        "2. Write a Python program to compute the variance and standard deviation of a dataset?"
      ],
      "metadata": {
        "id": "lDko769qxEZc"
      }
    },
    {
      "cell_type": "code",
      "source": [
        "variance = stats.variance(data)\n",
        "stdev = stats.stdev(data)\n",
        "\n",
        "print(f\"Variance: {variance}, Standard Deviation: {stdev}\")"
      ],
      "metadata": {
        "colab": {
          "base_uri": "https://localhost:8080/"
        },
        "id": "oYE-KWvA0gih",
        "outputId": "0e8654cc-dffc-4783-d3a2-9ce53eedd5c6"
      },
      "execution_count": 6,
      "outputs": [
        {
          "output_type": "stream",
          "name": "stdout",
          "text": [
            "Variance: 183.92857142857142, Standard Deviation: 13.562026818605375\n"
          ]
        }
      ]
    },
    {
      "cell_type": "markdown",
      "source": [
        "3. Create a dataset and classify it into nominal, ordinal, interval, and ratio types?"
      ],
      "metadata": {
        "id": "2CJHOxXuxEW3"
      }
    },
    {
      "cell_type": "code",
      "source": [
        "dataset = {\n",
        "    \"nominal\": [\"Red\", \"Blue\", \"Green\"],\n",
        "    \"ordinal\": [\"Low\", \"Medium\", \"High\"],\n",
        "    \"interval\": [10, 20, 30],\n",
        "    \"ratio\": [5.0, 10.0, 15.0]\n",
        "}"
      ],
      "metadata": {
        "id": "HTB9pz860hPx"
      },
      "execution_count": 7,
      "outputs": []
    },
    {
      "cell_type": "markdown",
      "source": [
        "4. Implement sampling techniques like random sampling and stratified sampling?"
      ],
      "metadata": {
        "id": "KIukWuvHxET_"
      }
    },
    {
      "cell_type": "code",
      "source": [
        "import numpy as np\n",
        "import pandas as pd\n",
        "\n",
        "data = pd.DataFrame({\n",
        "    'ID': range(1, 101),\n",
        "    'Value': np.random.randint(10, 100, 100)\n",
        "})\n",
        "\n",
        "# Simple random sampling: select 10 random rows\n",
        "random_sample = data.sample(n=10, random_state=42)\n",
        "\n",
        "print(\"Random Sample:\")\n",
        "print(random_sample)"
      ],
      "metadata": {
        "colab": {
          "base_uri": "https://localhost:8080/"
        },
        "id": "Ym5kJrnN0hlw",
        "outputId": "3246d8a3-ba07-4d5a-8b9a-d2a8c4d362f7"
      },
      "execution_count": 10,
      "outputs": [
        {
          "output_type": "stream",
          "name": "stdout",
          "text": [
            "Random Sample:\n",
            "    ID  Value\n",
            "83  84     58\n",
            "53  54     81\n",
            "70  71     25\n",
            "45  46     60\n",
            "44  45     99\n",
            "39  40     88\n",
            "22  23     61\n",
            "80  81     58\n",
            "10  11     91\n",
            "0    1     81\n"
          ]
        }
      ]
    },
    {
      "cell_type": "code",
      "source": [
        "# Add a category column for stratification\n",
        "data['Category'] = ['A'] * 50 + ['B'] * 50\n",
        "\n",
        "# Perform stratified sampling: 5 samples from each category\n",
        "stratified_sample = data.groupby('Category').sample(n=5, random_state=42)\n",
        "\n",
        "print(\"\\nStratified Sample:\")\n",
        "print(stratified_sample)"
      ],
      "metadata": {
        "colab": {
          "base_uri": "https://localhost:8080/"
        },
        "id": "PmBWLcwI2dj0",
        "outputId": "16dbeefd-742a-4231-942a-888d1db177d6"
      },
      "execution_count": 11,
      "outputs": [
        {
          "output_type": "stream",
          "name": "stdout",
          "text": [
            "\n",
            "Stratified Sample:\n",
            "    ID  Value Category\n",
            "13  14     57        A\n",
            "39  40     88        A\n",
            "30  31     88        A\n",
            "45  46     60        A\n",
            "17  18     67        A\n",
            "79  80     45        B\n",
            "88  89     18        B\n",
            "52  53     17        B\n",
            "96  97     58        B\n",
            "95  96     84        B\n"
          ]
        }
      ]
    },
    {
      "cell_type": "markdown",
      "source": [
        "5. Write a Python function to calculate the range of a dataset?"
      ],
      "metadata": {
        "id": "Uagn5a9LxERP"
      }
    },
    {
      "cell_type": "code",
      "source": [
        "def calculate_range(data):\n",
        "    return max(data) - min(data)\n",
        "\n",
        "# Example usage\n",
        "dataset = [10, 20, 35, 40, 50]\n",
        "result = calculate_range(dataset)\n",
        "print(f\"Range: {result}\")"
      ],
      "metadata": {
        "colab": {
          "base_uri": "https://localhost:8080/"
        },
        "id": "gWElKSDt0h_L",
        "outputId": "c2047d30-5f0c-440f-f205-1cd6589005d7"
      },
      "execution_count": 13,
      "outputs": [
        {
          "output_type": "stream",
          "name": "stdout",
          "text": [
            "Range: 40\n"
          ]
        }
      ]
    },
    {
      "cell_type": "markdown",
      "source": [
        "6. Create a dataset and plot its histogram to visualize skewness?"
      ],
      "metadata": {
        "id": "VRFbF-OYxEOV"
      }
    },
    {
      "cell_type": "code",
      "source": [
        "import numpy as np\n",
        "import matplotlib.pyplot as plt\n",
        "\n",
        "# Create a positively skewed dataset (exponential distribution)\n",
        "data = np.random.exponential(scale=2.0, size=1000)\n",
        "\n",
        "# Plot histogram\n",
        "plt.hist(data, bins=30, edgecolor='black')\n",
        "plt.title('Histogram to Visualize Skewness')\n",
        "plt.xlabel('Value')\n",
        "plt.ylabel('Frequency')\n",
        "plt.show()"
      ],
      "metadata": {
        "colab": {
          "base_uri": "https://localhost:8080/",
          "height": 472
        },
        "id": "g9YyJfsL0iq5",
        "outputId": "dec716e7-4899-47a4-c439-78c3a0ac66c1"
      },
      "execution_count": 15,
      "outputs": [
        {
          "output_type": "display_data",
          "data": {
            "text/plain": [
              "<Figure size 640x480 with 1 Axes>"
            ],
            "image/png": "[encoded data removed]"
          },
          "metadata": {}
        }
      ]
    },
    {
      "cell_type": "markdown",
      "source": [
        "7. Calculate skewness and kurtosis of a dataset using Python libraries?"
      ],
      "metadata": {
        "id": "SK07WYB1xELk"
      }
    },
    {
      "cell_type": "code",
      "source": [
        "import numpy as np\n",
        "from scipy.stats import skew, kurtosis\n",
        "\n",
        "data = np.random.normal(0, 1, 1000)\n",
        "\n",
        "print(\"Skewness:\", skew(data))\n",
        "print(\"Kurtosis:\", kurtosis(data))"
      ],
      "metadata": {
        "colab": {
          "base_uri": "https://localhost:8080/"
        },
        "id": "DnmJtv990jJR",
        "outputId": "546cc1d5-f429-4a17-f0af-e8ac2d9a5f07"
      },
      "execution_count": 16,
      "outputs": [
        {
          "output_type": "stream",
          "name": "stdout",
          "text": [
            "Skewness: 0.01603038936322674\n",
            "Kurtosis: 0.07718744557296198\n"
          ]
        }
      ]
    },
    {
      "cell_type": "markdown",
      "source": [
        "8. Generate a dataset and demonstrate positive and negative skewness?"
      ],
      "metadata": {
        "id": "dPwQYceSxEFr"
      }
    },
    {
      "cell_type": "code",
      "source": [
        "import matplotlib.pyplot as plt\n",
        "\n",
        "# Positive skew\n",
        "pos_skew = np.random.exponential(scale=2, size=1000)\n",
        "# Negative skew\n",
        "neg_skew = -np.random.exponential(scale=2, size=1000)\n",
        "\n",
        "# Plot\n",
        "plt.hist(pos_skew, bins=30, alpha=0.7, label='Positive Skew')\n",
        "plt.hist(neg_skew, bins=30, alpha=0.7, label='Negative Skew')\n",
        "plt.legend()\n",
        "plt.show()"
      ],
      "metadata": {
        "colab": {
          "base_uri": "https://localhost:8080/",
          "height": 430
        },
        "id": "09BeYFOu0jiB",
        "outputId": "9a9f15cd-283f-4d98-bbc7-d62c984e992c"
      },
      "execution_count": 17,
      "outputs": [
        {
          "output_type": "display_data",
          "data": {
            "text/plain": [
              "<Figure size 640x480 with 1 Axes>"
            ],
            "image/png": "[encoded data removed]"
          },
          "metadata": {}
        }
      ]
    },
    {
      "cell_type": "markdown",
      "source": [
        "9. Write a Python script to calculate covariance between two datasets?"
      ],
      "metadata": {
        "id": "vjyGw-kbxEC9"
      }
    },
    {
      "cell_type": "code",
      "source": [
        "x = np.random.randint(1, 100, 50)\n",
        "y = np.random.randint(1, 100, 50)\n",
        "\n",
        "cov = np.cov(x, y)[0, 1]\n",
        "print(\"Covariance:\", cov)"
      ],
      "metadata": {
        "colab": {
          "base_uri": "https://localhost:8080/"
        },
        "id": "cK16jmHv0j-o",
        "outputId": "8ae7bf87-b2a6-4cab-a44a-82327214df2d"
      },
      "execution_count": 18,
      "outputs": [
        {
          "output_type": "stream",
          "name": "stdout",
          "text": [
            "Covariance: 3.5812244897959142\n"
          ]
        }
      ]
    },
    {
      "cell_type": "markdown",
      "source": [
        "10. Write a Python script to calculate the correlation coefficient between two datasets?"
      ],
      "metadata": {
        "id": "9QEUI1muxEAE"
      }
    },
    {
      "cell_type": "code",
      "source": [
        "corr = np.corrcoef(x, y)[0, 1]\n",
        "print(\"Correlation coefficient:\", corr)"
      ],
      "metadata": {
        "colab": {
          "base_uri": "https://localhost:8080/"
        },
        "id": "cE-HOKIp0kqZ",
        "outputId": "ee915746-cb15-4448-9e61-1302aa4cf86e"
      },
      "execution_count": 19,
      "outputs": [
        {
          "output_type": "stream",
          "name": "stdout",
          "text": [
            "Correlation coefficient: 0.0050130834195095285\n"
          ]
        }
      ]
    },
    {
      "cell_type": "markdown",
      "source": [
        "11. Create a scatter plot to visualize the relationship between two variables?"
      ],
      "metadata": {
        "id": "mwcjaxT5xD8z"
      }
    },
    {
      "cell_type": "code",
      "source": [
        "plt.scatter(x, y)\n",
        "plt.title(\"Scatter Plot\")\n",
        "plt.xlabel(\"X\")\n",
        "plt.ylabel(\"Y\")\n",
        "plt.show()"
      ],
      "metadata": {
        "colab": {
          "base_uri": "https://localhost:8080/",
          "height": 472
        },
        "id": "w0CqKE4c0k_o",
        "outputId": "16eef0b9-d081-489e-8d76-c459f71fc9f8"
      },
      "execution_count": 20,
      "outputs": [
        {
          "output_type": "display_data",
          "data": {
            "text/plain": [
              "<Figure size 640x480 with 1 Axes>"
            ],
            "image/png": "[encoded data removed]"
          },
          "metadata": {}
        }
      ]
    },
    {
      "cell_type": "markdown",
      "source": [
        "12. Implement and compare simple random sampling and systematic sampling?"
      ],
      "metadata": {
        "id": "SRoPhfMCx5tT"
      }
    },
    {
      "cell_type": "code",
      "source": [
        "import pandas as pd\n",
        "data = pd.Series(range(1, 101))\n",
        "\n",
        "# Simple random sample\n",
        "simple_random = data.sample(10, random_state=1)\n",
        "\n",
        "# Systematic sample: every 10th item\n",
        "systematic = data.iloc[::10]\n",
        "\n",
        "print(\"Simple Random:\\n\", simple_random.sort_index())\n",
        "print(\"\\nSystematic:\\n\", systematic)"
      ],
      "metadata": {
        "colab": {
          "base_uri": "https://localhost:8080/"
        },
        "id": "IwWFNjII0lWB",
        "outputId": "6e8ca759-41cd-4e9d-882d-cfe5b49a9b99"
      },
      "execution_count": 21,
      "outputs": [
        {
          "output_type": "stream",
          "name": "stdout",
          "text": [
            "Simple Random:\n",
            " 17    18\n",
            "33    34\n",
            "36    37\n",
            "65    66\n",
            "69    70\n",
            "80    81\n",
            "81    82\n",
            "82    83\n",
            "84    85\n",
            "93    94\n",
            "dtype: int64\n",
            "\n",
            "Systematic:\n",
            " 0      1\n",
            "10    11\n",
            "20    21\n",
            "30    31\n",
            "40    41\n",
            "50    51\n",
            "60    61\n",
            "70    71\n",
            "80    81\n",
            "90    91\n",
            "dtype: int64\n"
          ]
        }
      ]
    },
    {
      "cell_type": "markdown",
      "source": [
        "13. Calculate the mean, median, and mode of grouped data?"
      ],
      "metadata": {
        "id": "BtalM-_Yx5pL"
      }
    },
    {
      "cell_type": "code",
      "source": [
        "import statistics as stats\n",
        "\n",
        "grouped_data = [10, 20, 20, 30, 30, 30, 40, 50]\n",
        "print(\"Mean:\", stats.mean(grouped_data))\n",
        "print(\"Median:\", stats.median(grouped_data))\n",
        "print(\"Mode:\", stats.mode(grouped_data))"
      ],
      "metadata": {
        "colab": {
          "base_uri": "https://localhost:8080/"
        },
        "id": "5YF3ugdt0l0J",
        "outputId": "3318314c-83cf-4cb7-ceb8-1e5a30c3df8d"
      },
      "execution_count": 22,
      "outputs": [
        {
          "output_type": "stream",
          "name": "stdout",
          "text": [
            "Mean: 28.75\n",
            "Median: 30.0\n",
            "Mode: 30\n"
          ]
        }
      ]
    },
    {
      "cell_type": "markdown",
      "source": [
        "14. Simulate data using Python and calculate its central tendency and dispersion?"
      ],
      "metadata": {
        "id": "DplQXh6ex5fL"
      }
    },
    {
      "cell_type": "code",
      "source": [
        "import numpy as np\n",
        "import pandas as pd\n",
        "\n",
        "# Generate simulated data\n",
        "sim_data = np.random.normal(50, 10, 1000)  # Mean 50, Std 10, 1000 data points\n",
        "\n",
        "# Create DataFrame\n",
        "df = pd.DataFrame(sim_data, columns=['Value'])\n",
        "\n",
        "# Show descriptive statistics\n",
        "print(df.describe())"
      ],
      "metadata": {
        "colab": {
          "base_uri": "https://localhost:8080/"
        },
        "id": "Licu75iK0mJA",
        "outputId": "b455ffe6-c2cb-4fed-d68c-85ff912c9b6a"
      },
      "execution_count": 24,
      "outputs": [
        {
          "output_type": "stream",
          "name": "stdout",
          "text": [
            "             Value\n",
            "count  1000.000000\n",
            "mean     49.716647\n",
            "std      10.192460\n",
            "min      11.952288\n",
            "25%      43.527665\n",
            "50%      49.061308\n",
            "75%      56.426254\n",
            "max      86.091859\n"
          ]
        }
      ]
    },
    {
      "cell_type": "markdown",
      "source": [
        "15. Use NumPy or pandas to summarize a dataset’s descriptive statistics?"
      ],
      "metadata": {
        "id": "Jfy6IWarxCpT"
      }
    },
    {
      "cell_type": "code",
      "source": [
        "import pandas as pd\n",
        "\n",
        "df = pd.DataFrame(sim_data, columns=['Value'])\n",
        "print(df.describe())"
      ],
      "metadata": {
        "colab": {
          "base_uri": "https://localhost:8080/"
        },
        "id": "ZhnjXyHA0me4",
        "outputId": "ea5b5c8c-3f99-4257-8a44-6e8b8bbaab16"
      },
      "execution_count": 25,
      "outputs": [
        {
          "output_type": "stream",
          "name": "stdout",
          "text": [
            "             Value\n",
            "count  1000.000000\n",
            "mean     49.716647\n",
            "std      10.192460\n",
            "min      11.952288\n",
            "25%      43.527665\n",
            "50%      49.061308\n",
            "75%      56.426254\n",
            "max      86.091859\n"
          ]
        }
      ]
    },
    {
      "cell_type": "markdown",
      "source": [
        "16. Plot a boxplot to understand the spread and identify outliers?"
      ],
      "metadata": {
        "id": "WZPmL94IyMpT"
      }
    },
    {
      "cell_type": "code",
      "source": [
        "plt.boxplot(sim_data)\n",
        "plt.title(\"Boxplot\")\n",
        "plt.show()"
      ],
      "metadata": {
        "colab": {
          "base_uri": "https://localhost:8080/",
          "height": 452
        },
        "id": "RwACk-gz0nGw",
        "outputId": "a35a8e52-683d-4908-dc9a-e69ad9900f8d"
      },
      "execution_count": 26,
      "outputs": [
        {
          "output_type": "display_data",
          "data": {
            "text/plain": [
              "<Figure size 640x480 with 1 Axes>"
            ],
            "image/png": "[encoded data removed]"
          },
          "metadata": {}
        }
      ]
    },
    {
      "cell_type": "markdown",
      "source": [
        "17. Calculate the interquartile range (IQR) of a dataset?"
      ],
      "metadata": {
        "id": "5OK0GdKYyMSM"
      }
    },
    {
      "cell_type": "code",
      "source": [
        "Q1 = np.percentile(sim_data, 25)\n",
        "Q3 = np.percentile(sim_data, 75)\n",
        "IQR = Q3 - Q1\n",
        "print(\"IQR:\", IQR)"
      ],
      "metadata": {
        "colab": {
          "base_uri": "https://localhost:8080/"
        },
        "id": "Ro1ZEKS50neR",
        "outputId": "1d5d3bbf-6246-4f84-8d77-62ddfe23e243"
      },
      "execution_count": 27,
      "outputs": [
        {
          "output_type": "stream",
          "name": "stdout",
          "text": [
            "IQR: 12.89858881446294\n"
          ]
        }
      ]
    },
    {
      "cell_type": "markdown",
      "source": [
        "18. Implement Z-score normalization and explain its significance?"
      ],
      "metadata": {
        "id": "ygeIY-RyyMJz"
      }
    },
    {
      "cell_type": "code",
      "source": [
        "from scipy.stats import zscore\n",
        "\n",
        "z_scores = zscore(sim_data)\n",
        "print(\"First 5 Z-scores:\", z_scores[:5])"
      ],
      "metadata": {
        "colab": {
          "base_uri": "https://localhost:8080/"
        },
        "id": "xYi946pm0nyA",
        "outputId": "cd05065c-1302-4f98-bec1-32275c77a9be"
      },
      "execution_count": 28,
      "outputs": [
        {
          "output_type": "stream",
          "name": "stdout",
          "text": [
            "First 5 Z-scores: [-0.53525385  0.01526966  0.59864528 -0.89906078 -0.47488347]\n"
          ]
        }
      ]
    },
    {
      "cell_type": "markdown",
      "source": [
        "19. Compare two datasets using their standard deviations?"
      ],
      "metadata": {
        "id": "byuYYltnyMBk"
      }
    },
    {
      "cell_type": "code",
      "source": [
        "data1 = np.random.normal(50, 5, 500)\n",
        "data2 = np.random.normal(50, 15, 500)\n",
        "\n",
        "print(\"Std Data1:\", np.std(data1))\n",
        "print(\"Std Data2:\", np.std(data2))"
      ],
      "metadata": {
        "colab": {
          "base_uri": "https://localhost:8080/"
        },
        "id": "hYYW_wXA0oOY",
        "outputId": "9deac12a-7bd2-4e5b-b7fe-beede97c514c"
      },
      "execution_count": 29,
      "outputs": [
        {
          "output_type": "stream",
          "name": "stdout",
          "text": [
            "Std Data1: 5.000344363151008\n",
            "Std Data2: 14.335822158876706\n"
          ]
        }
      ]
    },
    {
      "cell_type": "markdown",
      "source": [
        "20. Write a Python program to visualize covariance using a heatmap?"
      ],
      "metadata": {
        "id": "10vHXOx8yL3y"
      }
    },
    {
      "cell_type": "code",
      "source": [
        "import seaborn as sns\n",
        "\n",
        "df2 = pd.DataFrame({'x': x, 'y': y})\n",
        "sns.heatmap(df2.cov(), annot=True)\n",
        "plt.title(\"Covariance Heatmap\")\n",
        "plt.show()"
      ],
      "metadata": {
        "colab": {
          "base_uri": "https://localhost:8080/",
          "height": 452
        },
        "id": "EsaWt8T_0oi4",
        "outputId": "eea23542-1664-40ca-bf52-68384a0028ac"
      },
      "execution_count": 30,
      "outputs": [
        {
          "output_type": "display_data",
          "data": {
            "text/plain": [
              "<Figure size 640x480 with 2 Axes>"
            ],
            "image/png": "[encoded data removed]"
          },
          "metadata": {}
        }
      ]
    },
    {
      "cell_type": "markdown",
      "source": [
        "21. Use seaborn to create a correlation matrix for a dataset?"
      ],
      "metadata": {
        "id": "DfFgjD4cyLtq"
      }
    },
    {
      "cell_type": "code",
      "source": [
        "sns.heatmap(df2.corr(), annot=True, cmap='coolwarm')\n",
        "plt.title(\"Correlation Matrix\")\n",
        "plt.show()"
      ],
      "metadata": {
        "colab": {
          "base_uri": "https://localhost:8080/",
          "height": 452
        },
        "id": "ZlxAAIXG0pD4",
        "outputId": "0f5f0ff8-7c9b-4000-cf35-145c60e783f3"
      },
      "execution_count": 31,
      "outputs": [
        {
          "output_type": "display_data",
          "data": {
            "text/plain": [
              "<Figure size 640x480 with 2 Axes>"
            ],
            "image/png": "[encoded data removed]"
          },
          "metadata": {}
        }
      ]
    },
    {
      "cell_type": "markdown",
      "source": [
        "22. Generate a dataset and implement both variance and standard deviation computations?"
      ],
      "metadata": {
        "id": "eP9xioILyJaD"
      }
    },
    {
      "cell_type": "code",
      "source": [
        "print(\"Variance:\", np.var(sim_data))\n",
        "print(\"Standard Deviation:\", np.std(sim_data))"
      ],
      "metadata": {
        "colab": {
          "base_uri": "https://localhost:8080/"
        },
        "id": "y9ONKPIk0peQ",
        "outputId": "52f53b35-b379-420f-b7db-99c4ed05f01f"
      },
      "execution_count": 32,
      "outputs": [
        {
          "output_type": "stream",
          "name": "stdout",
          "text": [
            "Variance: 103.7823497334462\n",
            "Standard Deviation: 10.187362255925043\n"
          ]
        }
      ]
    },
    {
      "cell_type": "markdown",
      "source": [
        "23. Visualize skewness and kurtosis using Python libraries like matplotlib or seaborn?"
      ],
      "metadata": {
        "id": "Sp1WeKRryKFs"
      }
    },
    {
      "cell_type": "code",
      "source": [
        "sns.histplot(sim_data, kde=True)\n",
        "plt.title(\"Histogram with KDE (Check Skewness & Kurtosis)\")\n",
        "plt.show()"
      ],
      "metadata": {
        "colab": {
          "base_uri": "https://localhost:8080/",
          "height": 452
        },
        "id": "LaiwarT_0p1w",
        "outputId": "0f0389f1-eab2-4908-b6d5-7c723d1a5517"
      },
      "execution_count": 33,
      "outputs": [
        {
          "output_type": "display_data",
          "data": {
            "text/plain": [
              "<Figure size 640x480 with 1 Axes>"
            ],
            "image/png": "[encoded data removed]"
          },
          "metadata": {}
        }
      ]
    },
    {
      "cell_type": "markdown",
      "source": [
        "24. Implement the Pearson and Spearman correlation coefficients for a dataset?"
      ],
      "metadata": {
        "id": "kCjecnV2yJ7r"
      }
    },
    {
      "cell_type": "code",
      "source": [
        "from scipy.stats import pearsonr, spearmanr\n",
        "\n",
        "print(\"Pearson:\", pearsonr(x, y)[0])\n",
        "print(\"Spearman:\", spearmanr(x, y)[0])"
      ],
      "metadata": {
        "colab": {
          "base_uri": "https://localhost:8080/"
        },
        "id": "W8_WyHD50qMg",
        "outputId": "d695c759-1b47-41b0-a6bd-f35aa32522ff"
      },
      "execution_count": 34,
      "outputs": [
        {
          "output_type": "stream",
          "name": "stdout",
          "text": [
            "Pearson: 0.005013083419509583\n",
            "Spearman: -0.030654654734270672\n"
          ]
        }
      ]
    }
  ]
}