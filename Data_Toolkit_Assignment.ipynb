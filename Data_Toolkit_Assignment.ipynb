{
  "cells": [
    {
      "cell_type": "markdown",
      "id": "e5f9e773-e3c3-4f68-a895-c11ea9b438a4",
      "metadata": {
        "id": "e5f9e773-e3c3-4f68-a895-c11ea9b438a4"
      },
      "source": [
        "# Data Toolkit Assignment\n",
        "##A) Theory Questions"
      ]
    },
    {
      "cell_type": "markdown",
      "id": "73414fb5-3904-42f3-9e55-4b5c597ed810",
      "metadata": {
        "id": "73414fb5-3904-42f3-9e55-4b5c597ed810"
      },
      "source": [
        "**1. What is NumPy, and why is it widely used in Python?**\n",
        "\n",
        "**Answer:**\n",
        "NumPy (Numerical Python) is a powerful library used for numerical operations. It supports multi-dimensional arrays and matrix operations and performs them efficiently.\n",
        "\n",
        "**Example:**\n",
        "\n",
        "```python\n",
        "import numpy as np\n",
        "arr = np.array([1, 2, 3, 4])\n",
        "print(arr * 2)\n",
        "```\n",
        "\n",
        "**Output:** `[2 4 6 8]`\n",
        "\n",
        "---\n",
        "\n",
        "**2. How does broadcasting work in NumPy?**\n",
        "\n",
        "**Answer:**\n",
        "Broadcasting allows NumPy to perform operations between arrays of different shapes.\n",
        "\n",
        "**Example:**\n",
        "\n",
        "```python\n",
        "import numpy as np\n",
        "a = np.array([1, 2, 3])\n",
        "b = 2\n",
        "print(a + b)\n",
        "```\n",
        "\n",
        "**Output:** `[3 4 5]`\n",
        "\n",
        "---\n",
        "\n",
        "**3. What is a Pandas DataFrame?**\n",
        "\n",
        "**Answer:**\n",
        "A DataFrame is a 2D labeled data structure with columns of potentially different types.\n",
        "\n",
        "**Example:**\n",
        "\n",
        "```python\n",
        "import pandas as pd\n",
        "data = {'Name': ['Alice', 'Bob'], 'Age': [25, 30]}\n",
        "df = pd.DataFrame(data)\n",
        "print(df)\n",
        "```\n",
        "\n",
        "**Output:**\n",
        "\n",
        "```\n",
        "    Name  Age\n",
        "0  Alice   25\n",
        "1    Bob   30\n",
        "```\n",
        "\n",
        "---\n",
        "\n",
        "**4. Explain the use of the `groupby()` method in Pandas.**\n",
        "\n",
        "**Answer:**\n",
        "`groupby()` is used to split data into groups and apply functions like mean or sum.\n",
        "\n",
        "**Example:**\n",
        "\n",
        "```python\n",
        "import pandas as pd\n",
        "df = pd.DataFrame({\n",
        "    'Department': ['HR', 'HR', 'IT', 'IT'],\n",
        "    'Salary': [30000, 40000, 50000, 60000]\n",
        "})\n",
        "print(df.groupby('Department').mean())\n",
        "```\n",
        "\n",
        "**Output:**\n",
        "\n",
        "```\n",
        "            Salary\n",
        "Department        \n",
        "HR          35000.0\n",
        "IT          55000.0\n",
        "```\n",
        "\n",
        "---\n",
        "\n",
        "**5. Why is Seaborn preferred for statistical visualizations?**\n",
        "\n",
        "**Answer:**\n",
        "Seaborn is built on top of Matplotlib and provides a high-level interface for drawing attractive and informative statistical graphics.\n",
        "\n",
        "**Example:**\n",
        "\n",
        "```python\n",
        "import seaborn as sns\n",
        "import matplotlib.pyplot as plt\n",
        "\n",
        "df = sns.load_dataset('tips')\n",
        "sns.boxplot(x='day', y='total_bill', data=df)\n",
        "plt.show()\n",
        "```\n",
        "\n",
        "---\n",
        "\n",
        "**6. What are the differences between NumPy arrays and Python lists?**\n",
        "\n",
        "**Answer:**\n",
        "\n",
        "* NumPy arrays are faster and take less memory.\n",
        "* Support element-wise operations.\n",
        "* Only store data of the same type.\n",
        "\n",
        "**Example:**\n",
        "\n",
        "```python\n",
        "import numpy as np\n",
        "arr = np.array([1, 2, 3])\n",
        "print(arr * 2)  # NumPy\n",
        "\n",
        "lst = [1, 2, 3]\n",
        "print([x * 2 for x in lst])  # Python list\n",
        "```\n",
        "\n",
        "**Output:**\n",
        "\n",
        "```\n",
        "[2 4 6]\n",
        "[2, 4, 6]\n",
        "```\n",
        "\n",
        "---\n",
        "\n",
        "**7. What is a heatmap, and when should it be used?**\n",
        "\n",
        "**Answer:**\n",
        "A heatmap is a graphical representation of data where values are depicted by color. It’s useful for showing correlation or intensity.\n",
        "\n",
        "**Example:**\n",
        "\n",
        "```python\n",
        "import seaborn as sns\n",
        "import matplotlib.pyplot as plt\n",
        "\n",
        "df = sns.load_dataset('iris')\n",
        "sns.heatmap(df.corr(), annot=True)\n",
        "plt.show()\n",
        "```\n",
        "\n",
        "---\n",
        "\n",
        "**8. What does the term \"vectorized operation\" mean in NumPy?**\n",
        "\n",
        "**Answer:**\n",
        "Vectorized operations mean applying operations to entire arrays without writing loops, improving performance.\n",
        "\n",
        "**Example:**\n",
        "\n",
        "```python\n",
        "import numpy as np\n",
        "arr = np.array([1, 2, 3, 4])\n",
        "print(arr + 10)\n",
        "```\n",
        "\n",
        "**Output:** `[11 12 13 14]`\n",
        "\n",
        "---\n",
        "\n",
        "**9. How does Matplotlib differ from Plotly?**\n",
        "\n",
        "**Answer:**\n",
        "\n",
        "* Matplotlib: static, 2D plotting library.\n",
        "* Plotly: interactive, web-based visualizations.\n",
        "\n",
        "**Example (Matplotlib):**\n",
        "\n",
        "```python\n",
        "import matplotlib.pyplot as plt\n",
        "plt.plot([1, 2, 3], [4, 5, 6])\n",
        "plt.show()\n",
        "```\n",
        "\n",
        "**Example (Plotly):**\n",
        "\n",
        "```python\n",
        "import plotly.express as px\n",
        "fig = px.line(x=[1, 2, 3], y=[4, 5, 6])\n",
        "fig.show()\n",
        "```\n",
        "\n",
        "---\n",
        "\n",
        "**10. What is the significance of hierarchical indexing in Pandas?**\n",
        "\n",
        "**Answer:**\n",
        "It allows multiple index levels on an axis, useful for structured data.\n",
        "\n",
        "**Example:**\n",
        "\n",
        "```python\n",
        "import pandas as pd\n",
        "index = pd.MultiIndex.from_tuples([('A', 1), ('A', 2), ('B', 1)])\n",
        "df = pd.DataFrame({'Value': [10, 20, 30]}, index=index)\n",
        "print(df)\n",
        "```\n",
        "\n",
        "**Output:**\n",
        "\n",
        "```\n",
        "       Value\n",
        "A 1     10\n",
        "  2     20\n",
        "B 1     30\n",
        "```\n",
        "\n",
        "---\n",
        "\n",
        "**11. What is the role of Seaborn’s `pairplot()` function?**\n",
        "\n",
        "**Answer:**\n",
        "It shows pairwise relationships in a dataset with scatter plots and histograms.\n",
        "\n",
        "**Example:**\n",
        "\n",
        "```python\n",
        "import seaborn as sns\n",
        "import matplotlib.pyplot as plt\n",
        "\n",
        "df = sns.load_dataset('iris')\n",
        "sns.pairplot(df, hue='species')\n",
        "plt.show()\n",
        "```\n",
        "\n",
        "---\n",
        "\n",
        "**12. What is the purpose of the `describe()` function in Pandas?**\n",
        "\n",
        "**Answer:**\n",
        "Provides summary statistics of numerical columns.\n",
        "\n",
        "**Example:**\n",
        "\n",
        "```python\n",
        "import pandas as pd\n",
        "df = pd.DataFrame({'Age': [23, 45, 12, 36]})\n",
        "print(df.describe())\n",
        "```\n",
        "\n",
        "---\n",
        "\n",
        "**13. Why is handling missing data important in Pandas?**\n",
        "\n",
        "**Answer:**\n",
        "Missing data can lead to incorrect analysis. Pandas provides functions to detect, remove, or fill missing values.\n",
        "\n",
        "**Example:**\n",
        "\n",
        "```python\n",
        "import pandas as pd\n",
        "df = pd.DataFrame({'Age': [23, None, 45]})\n",
        "print(df.isnull())\n",
        "print(df.fillna(30))\n",
        "```\n",
        "\n",
        "---\n",
        "\n",
        "**14. What are the benefits of using Plotly for data visualization?**\n",
        "\n",
        "**Answer:**\n",
        "Plotly offers interactive plots, dashboard support, zooming, and better visuals for web applications.\n",
        "\n",
        "**Example:**\n",
        "\n",
        "```python\n",
        "import plotly.express as px\n",
        "fig = px.bar(x=['A', 'B', 'C'], y=[10, 20, 15])\n",
        "fig.show()\n",
        "```\n",
        "\n",
        "---\n",
        "\n",
        "**15. How does NumPy handle multidimensional arrays?**\n",
        "\n",
        "**Answer:**\n",
        "NumPy can create and manipulate arrays of any dimension using `ndarray`.\n",
        "\n",
        "**Example:**\n",
        "\n",
        "```python\n",
        "import numpy as np\n",
        "arr = np.array([[1, 2], [3, 4]])\n",
        "print(arr.shape)\n",
        "```\n",
        "\n",
        "**Output:** `(2, 2)`\n",
        "\n",
        "---\n",
        "\n",
        "**16. What is the role of Bokeh in data visualization?**\n",
        "\n",
        "**Answer:**\n",
        "Bokeh provides interactive plots for modern web browsers and supports large streaming datasets.\n",
        "\n",
        "**Example:**\n",
        "\n",
        "```python\n",
        "from bokeh.plotting import figure, show\n",
        "from bokeh.io import output_notebook\n",
        "\n",
        "output_notebook()\n",
        "p = figure()\n",
        "p.line([1, 2, 3], [4, 6, 2])\n",
        "show(p)\n",
        "```\n",
        "\n",
        "---\n",
        "\n",
        "**17. Explain the difference between `apply()` and `map()` in Pandas.**\n",
        "\n",
        "**Answer:**\n",
        "\n",
        "* `map()` works only on Series.\n",
        "* `apply()` works on both Series and DataFrame and can apply functions row-wise or column-wise.\n",
        "\n",
        "**Example:**\n",
        "\n",
        "```python\n",
        "import pandas as pd\n",
        "df = pd.DataFrame({'A': [1, 2, 3]})\n",
        "df['A'] = df['A'].map(lambda x: x * 10)\n",
        "print(df)\n",
        "```\n",
        "\n",
        "---\n",
        "\n",
        "**18. What are some advanced features of NumPy?**\n",
        "\n",
        "**Answer:**\n",
        "\n",
        "* Broadcasting\n",
        "* Vectorized operations\n",
        "* Masking\n",
        "* Linear algebra\n",
        "* FFT and random number generation\n",
        "\n",
        "**Example:**\n",
        "\n",
        "```python\n",
        "import numpy as np\n",
        "arr = np.array([1, 2, 3, 4, 5])\n",
        "print(arr[arr > 2])  # masking\n",
        "```\n",
        "\n",
        "**Output:** `[3 4 5]`\n",
        "\n",
        "---\n",
        "\n",
        "**19. How does Pandas simplify time series analysis?**\n",
        "\n",
        "**Answer:**\n",
        "Pandas has built-in support for datetime indexing, resampling, and shifting.\n",
        "\n",
        "**Example:**\n",
        "\n",
        "```python\n",
        "import pandas as pd\n",
        "dates = pd.date_range('20230101', periods=3)\n",
        "df = pd.DataFrame({'value': [1, 2, 3]}, index=dates)\n",
        "print(df.shift(1))\n",
        "```\n",
        "\n",
        "---\n",
        "\n",
        "**20. What is the role of a pivot table in Pandas?**\n",
        "\n",
        "**Answer:**\n",
        "Pivot tables summarize data by grouping and aggregating.\n",
        "\n",
        "**Example:**\n",
        "\n",
        "```python\n",
        "import pandas as pd\n",
        "df = pd.DataFrame({\n",
        "    'City': ['A', 'A', 'B', 'B'],\n",
        "    'Year': [2020, 2021, 2020, 2021],\n",
        "    'Sales': [100, 150, 80, 120]\n",
        "})\n",
        "pivot = df.pivot_table(values='Sales', index='City', columns='Year')\n",
        "print(pivot)\n",
        "```\n",
        "\n",
        "---\n",
        "\n",
        "**21. Why is NumPy’s array slicing faster than Python’s list slicing?**\n",
        "\n",
        "**Answer:**\n",
        "NumPy uses fixed-type and contiguous memory arrays, making slicing and access faster.\n",
        "\n",
        "**Example:**\n",
        "\n",
        "```python\n",
        "import numpy as np\n",
        "arr = np.arange(1, 1000000)\n",
        "print(arr[100:110])\n",
        "```\n",
        "\n",
        "---\n",
        "\n",
        "**22. What are some common use cases for Seaborn?**\n",
        "\n",
        "**Answer:**\n",
        "\n",
        "* Statistical plots\n",
        "* Distribution analysis\n",
        "* Categorical data visualization\n",
        "* Correlation heatmaps\n",
        "\n",
        "**Example:**\n",
        "\n",
        "```python\n",
        "import seaborn as sns\n",
        "import matplotlib.pyplot as plt\n",
        "\n",
        "df = sns.load_dataset('tips')\n",
        "sns.violinplot(x='day', y='total_bill', data=df)\n",
        "plt.show()\n",
        "```\n",
        "\n",
        "---\n"
      ]
    },
    {
      "cell_type": "markdown",
      "id": "0f502f31-e6ec-4406-97f1-dc3fb3a705bd",
      "metadata": {
        "id": "0f502f31-e6ec-4406-97f1-dc3fb3a705bd"
      },
      "source": [
        "## B) Practical Questions"
      ]
    },
    {
      "cell_type": "markdown",
      "id": "a09a41af-8af8-413a-ae69-49e6b94eea1e",
      "metadata": {
        "id": "a09a41af-8af8-413a-ae69-49e6b94eea1e"
      },
      "source": [
        "### 1. Create a 2D NumPy array and calculate the sum of each row."
      ]
    },
    {
      "cell_type": "code",
      "execution_count": 1,
      "id": "3e758777-baf0-4839-b329-b6d206ba9315",
      "metadata": {
        "colab": {
          "base_uri": "https://localhost:8080/"
        },
        "id": "3e758777-baf0-4839-b329-b6d206ba9315",
        "outputId": "011452c1-ab70-4e73-bef3-8eede6a063cb"
      },
      "outputs": [
        {
          "output_type": "stream",
          "name": "stdout",
          "text": [
            "Row sums: [ 6 15 24]\n"
          ]
        }
      ],
      "source": [
        "import numpy as np\n",
        "\n",
        "arr = np.array([[1, 2, 3], [4, 5, 6], [7, 8, 9]])\n",
        "row_sums = np.sum(arr, axis=1)\n",
        "print(\"Row sums:\", row_sums)\n"
      ]
    },
    {
      "cell_type": "markdown",
      "id": "238e6920-5b10-4ce5-acdb-f47763229a3e",
      "metadata": {
        "id": "238e6920-5b10-4ce5-acdb-f47763229a3e"
      },
      "source": [
        "### 2. Write a Pandas script to find the mean of a specific column in a DataFrame.\n"
      ]
    },
    {
      "cell_type": "code",
      "execution_count": 2,
      "id": "30efe3f0-36a9-4e48-9445-e8d640ce095e",
      "metadata": {
        "colab": {
          "base_uri": "https://localhost:8080/"
        },
        "id": "30efe3f0-36a9-4e48-9445-e8d640ce095e",
        "outputId": "19dd1e78-f643-435b-8bcd-0f945cf8a489"
      },
      "outputs": [
        {
          "output_type": "stream",
          "name": "stdout",
          "text": [
            "Mean Score: 85.0\n"
          ]
        }
      ],
      "source": [
        "import pandas as pd\n",
        "\n",
        "data = {'Name': ['A', 'B', 'C'], 'Score': [80, 90, 85]}\n",
        "df = pd.DataFrame(data)\n",
        "mean_score = df['Score'].mean()\n",
        "print(\"Mean Score:\", mean_score)\n"
      ]
    },
    {
      "cell_type": "markdown",
      "id": "ecddad5e-b589-46bd-9034-7ad10953fc57",
      "metadata": {
        "id": "ecddad5e-b589-46bd-9034-7ad10953fc57"
      },
      "source": [
        "### 3. Create a scatter plot using Matplotlib."
      ]
    },
    {
      "cell_type": "code",
      "execution_count": 13,
      "id": "18eac127-2d0c-4581-8147-aeb7185f309b",
      "metadata": {
        "colab": {
          "base_uri": "https://localhost:8080/",
          "height": 472
        },
        "id": "18eac127-2d0c-4581-8147-aeb7185f309b",
        "outputId": "0b0c7d8c-efbc-4e74-dfa2-67b31601387f"
      },
      "outputs": [
        {
          "output_type": "display_data",
          "data": {
            "text/plain": [
              "<Figure size 640x480 with 1 Axes>"
            ],
            "image/png": "[encoded data removed]"
          },
          "metadata": {}
        }
      ],
      "source": [
        "import matplotlib.pyplot as plt\n",
        "\n",
        "x = [1, 2, 3, 4]\n",
        "y = [10, 20, 25, 30]\n",
        "plt.scatter(x, y)\n",
        "plt.title(\"Q3. Scatter Plot\")\n",
        "plt.xlabel(\"X-axis\")\n",
        "plt.ylabel(\"Y-axis\")\n",
        "plt.show()\n"
      ]
    },
    {
      "cell_type": "markdown",
      "id": "fee11018-1e91-426c-bdfe-668d9a1751ec",
      "metadata": {
        "id": "fee11018-1e91-426c-bdfe-668d9a1751ec"
      },
      "source": [
        "### 4. Calculate the correlation matrix using Seaborn and visualize it with a heatmap."
      ]
    },
    {
      "cell_type": "code",
      "execution_count": 5,
      "id": "b5195645-ce8b-4fcf-bfa3-2c8df85db466",
      "metadata": {
        "colab": {
          "base_uri": "https://localhost:8080/",
          "height": 435
        },
        "id": "b5195645-ce8b-4fcf-bfa3-2c8df85db466",
        "outputId": "d712b0dd-436f-4334-b413-cd871bc3f079"
      },
      "outputs": [
        {
          "output_type": "display_data",
          "data": {
            "text/plain": [
              "<Figure size 640x480 with 2 Axes>"
            ],
            "image/png": "[encoded data removed]"
          },
          "metadata": {}
        }
      ],
      "source": [
        "import seaborn as sns\n",
        "import pandas as pd\n",
        "\n",
        "df = pd.DataFrame({\n",
        "    'A': [1, 2, 3, 4],\n",
        "    'B': [4, 3, 2, 1],\n",
        "    'C': [5, 6, 7, 8]\n",
        "})\n",
        "correlation = df.corr()\n",
        "sns.heatmap(correlation, annot=True, cmap='coolwarm')\n",
        "plt.show()"
      ]
    },
    {
      "cell_type": "markdown",
      "id": "c8ff7d60-fe88-4445-a540-fdc28521ae40",
      "metadata": {
        "id": "c8ff7d60-fe88-4445-a540-fdc28521ae40"
      },
      "source": [
        "### 5. Generate a bar plot using Plotly."
      ]
    },
    {
      "cell_type": "code",
      "execution_count": 12,
      "id": "0b3d6b95-5385-482c-a7ba-24d9c4e1f1e9",
      "metadata": {
        "colab": {
          "base_uri": "https://localhost:8080/",
          "height": 542
        },
        "id": "0b3d6b95-5385-482c-a7ba-24d9c4e1f1e9",
        "outputId": "51f18994-9de7-4a56-a443-de560bdf26c9"
      },
      "outputs": [
        {
          "output_type": "display_data",
          "data": {
            "text/html": [
              "<html>\n",
              "<head><meta charset=\"utf-8\" /></head>\n",
              "<body>\n",
              "    <div>            <script src=\"https://cdnjs.cloudflare.com/ajax/libs/mathjax/2.7.5/MathJax.js?config=TeX-AMS-MML_SVG\"></script><script type=\"text/javascript\">if (window.MathJax && window.MathJax.Hub && window.MathJax.Hub.Config) {window.MathJax.Hub.Config({SVG: {font: \"STIX-Web\"}});}</script>                <script type=\"text/javascript\">window.PlotlyConfig = {MathJaxConfig: 'local'};</script>\n",
              "        <script charset=\"utf-8\" src=\"https://cdn.plot.ly/plotly-2.35.2.min.js\"></script>                <div id=\"e7402c4c-931d-4552-bea0-3c8666e2c406\" class=\"plotly-graph-div\" style=\"height:525px; width:100%;\"></div>            <script type=\"text/javascript\">                                    window.PLOTLYENV=window.PLOTLYENV || {};                                    if (document.getElementById(\"e7402c4c-931d-4552-bea0-3c8666e2c406\")) {                    Plotly.newPlot(                        \"e7402c4c-931d-4552-bea0-3c8666e2c406\",                        [{\"alignmentgroup\":\"True\",\"hovertemplate\":\"Fruits=%{x}\\u003cbr\\u003eQuantity=%{y}\\u003cextra\\u003e\\u003c\\u002fextra\\u003e\",\"legendgroup\":\"\",\"marker\":{\"color\":\"#636efa\",\"pattern\":{\"shape\":\"\"}},\"name\":\"\",\"offsetgroup\":\"\",\"orientation\":\"v\",\"showlegend\":false,\"textposition\":\"auto\",\"x\":[\"Apple\",\"Banana\",\"Orange\"],\"xaxis\":\"x\",\"y\":[10,15,7],\"yaxis\":\"y\",\"type\":\"bar\"}],                        {\"template\":{\"data\":{\"histogram2dcontour\":[{\"type\":\"histogram2dcontour\",\"colorbar\":{\"outlinewidth\":0,\"ticks\":\"\"},\"colorscale\":[[0.0,\"#0d0887\"],[0.1111111111111111,\"#46039f\"],[0.2222222222222222,\"#7201a8\"],[0.3333333333333333,\"#9c179e\"],[0.4444444444444444,\"#bd3786\"],[0.5555555555555556,\"#d8576b\"],[0.6666666666666666,\"#ed7953\"],[0.7777777777777778,\"#fb9f3a\"],[0.8888888888888888,\"#fdca26\"],[1.0,\"#f0f921\"]]}],\"choropleth\":[{\"type\":\"choropleth\",\"colorbar\":{\"outlinewidth\":0,\"ticks\":\"\"}}],\"histogram2d\":[{\"type\":\"histogram2d\",\"colorbar\":{\"outlinewidth\":0,\"ticks\":\"\"},\"colorscale\":[[0.0,\"#0d0887\"],[0.1111111111111111,\"#46039f\"],[0.2222222222222222,\"#7201a8\"],[0.3333333333333333,\"#9c179e\"],[0.4444444444444444,\"#bd3786\"],[0.5555555555555556,\"#d8576b\"],[0.6666666666666666,\"#ed7953\"],[0.7777777777777778,\"#fb9f3a\"],[0.8888888888888888,\"#fdca26\"],[1.0,\"#f0f921\"]]}],\"heatmap\":[{\"type\":\"heatmap\",\"colorbar\":{\"outlinewidth\":0,\"ticks\":\"\"},\"colorscale\":[[0.0,\"#0d0887\"],[0.1111111111111111,\"#46039f\"],[0.2222222222222222,\"#7201a8\"],[0.3333333333333333,\"#9c179e\"],[0.4444444444444444,\"#bd3786\"],[0.5555555555555556,\"#d8576b\"],[0.6666666666666666,\"#ed7953\"],[0.7777777777777778,\"#fb9f3a\"],[0.8888888888888888,\"#fdca26\"],[1.0,\"#f0f921\"]]}],\"heatmapgl\":[{\"type\":\"heatmapgl\",\"colorbar\":{\"outlinewidth\":0,\"ticks\":\"\"},\"colorscale\":[[0.0,\"#0d0887\"],[0.1111111111111111,\"#46039f\"],[0.2222222222222222,\"#7201a8\"],[0.3333333333333333,\"#9c179e\"],[0.4444444444444444,\"#bd3786\"],[0.5555555555555556,\"#d8576b\"],[0.6666666666666666,\"#ed7953\"],[0.7777777777777778,\"#fb9f3a\"],[0.8888888888888888,\"#fdca26\"],[1.0,\"#f0f921\"]]}],\"contourcarpet\":[{\"type\":\"contourcarpet\",\"colorbar\":{\"outlinewidth\":0,\"ticks\":\"\"}}],\"contour\":[{\"type\":\"contour\",\"colorbar\":{\"outlinewidth\":0,\"ticks\":\"\"},\"colorscale\":[[0.0,\"#0d0887\"],[0.1111111111111111,\"#46039f\"],[0.2222222222222222,\"#7201a8\"],[0.3333333333333333,\"#9c179e\"],[0.4444444444444444,\"#bd3786\"],[0.5555555555555556,\"#d8576b\"],[0.6666666666666666,\"#ed7953\"],[0.7777777777777778,\"#fb9f3a\"],[0.8888888888888888,\"#fdca26\"],[1.0,\"#f0f921\"]]}],\"surface\":[{\"type\":\"surface\",\"colorbar\":{\"outlinewidth\":0,\"ticks\":\"\"},\"colorscale\":[[0.0,\"#0d0887\"],[0.1111111111111111,\"#46039f\"],[0.2222222222222222,\"#7201a8\"],[0.3333333333333333,\"#9c179e\"],[0.4444444444444444,\"#bd3786\"],[0.5555555555555556,\"#d8576b\"],[0.6666666666666666,\"#ed7953\"],[0.7777777777777778,\"#fb9f3a\"],[0.8888888888888888,\"#fdca26\"],[1.0,\"#f0f921\"]]}],\"mesh3d\":[{\"type\":\"mesh3d\",\"colorbar\":{\"outlinewidth\":0,\"ticks\":\"\"}}],\"scatter\":[{\"fillpattern\":{\"fillmode\":\"overlay\",\"size\":10,\"solidity\":0.2},\"type\":\"scatter\"}],\"parcoords\":[{\"type\":\"parcoords\",\"line\":{\"colorbar\":{\"outlinewidth\":0,\"ticks\":\"\"}}}],\"scatterpolargl\":[{\"type\":\"scatterpolargl\",\"marker\":{\"colorbar\":{\"outlinewidth\":0,\"ticks\":\"\"}}}],\"bar\":[{\"error_x\":{\"color\":\"#2a3f5f\"},\"error_y\":{\"color\":\"#2a3f5f\"},\"marker\":{\"line\":{\"color\":\"#E5ECF6\",\"width\":0.5},\"pattern\":{\"fillmode\":\"overlay\",\"size\":10,\"solidity\":0.2}},\"type\":\"bar\"}],\"scattergeo\":[{\"type\":\"scattergeo\",\"marker\":{\"colorbar\":{\"outlinewidth\":0,\"ticks\":\"\"}}}],\"scatterpolar\":[{\"type\":\"scatterpolar\",\"marker\":{\"colorbar\":{\"outlinewidth\":0,\"ticks\":\"\"}}}],\"histogram\":[{\"marker\":{\"pattern\":{\"fillmode\":\"overlay\",\"size\":10,\"solidity\":0.2}},\"type\":\"histogram\"}],\"scattergl\":[{\"type\":\"scattergl\",\"marker\":{\"colorbar\":{\"outlinewidth\":0,\"ticks\":\"\"}}}],\"scatter3d\":[{\"type\":\"scatter3d\",\"line\":{\"colorbar\":{\"outlinewidth\":0,\"ticks\":\"\"}},\"marker\":{\"colorbar\":{\"outlinewidth\":0,\"ticks\":\"\"}}}],\"scattermapbox\":[{\"type\":\"scattermapbox\",\"marker\":{\"colorbar\":{\"outlinewidth\":0,\"ticks\":\"\"}}}],\"scatterternary\":[{\"type\":\"scatterternary\",\"marker\":{\"colorbar\":{\"outlinewidth\":0,\"ticks\":\"\"}}}],\"scattercarpet\":[{\"type\":\"scattercarpet\",\"marker\":{\"colorbar\":{\"outlinewidth\":0,\"ticks\":\"\"}}}],\"carpet\":[{\"aaxis\":{\"endlinecolor\":\"#2a3f5f\",\"gridcolor\":\"white\",\"linecolor\":\"white\",\"minorgridcolor\":\"white\",\"startlinecolor\":\"#2a3f5f\"},\"baxis\":{\"endlinecolor\":\"#2a3f5f\",\"gridcolor\":\"white\",\"linecolor\":\"white\",\"minorgridcolor\":\"white\",\"startlinecolor\":\"#2a3f5f\"},\"type\":\"carpet\"}],\"table\":[{\"cells\":{\"fill\":{\"color\":\"#EBF0F8\"},\"line\":{\"color\":\"white\"}},\"header\":{\"fill\":{\"color\":\"#C8D4E3\"},\"line\":{\"color\":\"white\"}},\"type\":\"table\"}],\"barpolar\":[{\"marker\":{\"line\":{\"color\":\"#E5ECF6\",\"width\":0.5},\"pattern\":{\"fillmode\":\"overlay\",\"size\":10,\"solidity\":0.2}},\"type\":\"barpolar\"}],\"pie\":[{\"automargin\":true,\"type\":\"pie\"}]},\"layout\":{\"autotypenumbers\":\"strict\",\"colorway\":[\"#636efa\",\"#EF553B\",\"#00cc96\",\"#ab63fa\",\"#FFA15A\",\"#19d3f3\",\"#FF6692\",\"#B6E880\",\"#FF97FF\",\"#FECB52\"],\"font\":{\"color\":\"#2a3f5f\"},\"hovermode\":\"closest\",\"hoverlabel\":{\"align\":\"left\"},\"paper_bgcolor\":\"white\",\"plot_bgcolor\":\"#E5ECF6\",\"polar\":{\"bgcolor\":\"#E5ECF6\",\"angularaxis\":{\"gridcolor\":\"white\",\"linecolor\":\"white\",\"ticks\":\"\"},\"radialaxis\":{\"gridcolor\":\"white\",\"linecolor\":\"white\",\"ticks\":\"\"}},\"ternary\":{\"bgcolor\":\"#E5ECF6\",\"aaxis\":{\"gridcolor\":\"white\",\"linecolor\":\"white\",\"ticks\":\"\"},\"baxis\":{\"gridcolor\":\"white\",\"linecolor\":\"white\",\"ticks\":\"\"},\"caxis\":{\"gridcolor\":\"white\",\"linecolor\":\"white\",\"ticks\":\"\"}},\"coloraxis\":{\"colorbar\":{\"outlinewidth\":0,\"ticks\":\"\"}},\"colorscale\":{\"sequential\":[[0.0,\"#0d0887\"],[0.1111111111111111,\"#46039f\"],[0.2222222222222222,\"#7201a8\"],[0.3333333333333333,\"#9c179e\"],[0.4444444444444444,\"#bd3786\"],[0.5555555555555556,\"#d8576b\"],[0.6666666666666666,\"#ed7953\"],[0.7777777777777778,\"#fb9f3a\"],[0.8888888888888888,\"#fdca26\"],[1.0,\"#f0f921\"]],\"sequentialminus\":[[0.0,\"#0d0887\"],[0.1111111111111111,\"#46039f\"],[0.2222222222222222,\"#7201a8\"],[0.3333333333333333,\"#9c179e\"],[0.4444444444444444,\"#bd3786\"],[0.5555555555555556,\"#d8576b\"],[0.6666666666666666,\"#ed7953\"],[0.7777777777777778,\"#fb9f3a\"],[0.8888888888888888,\"#fdca26\"],[1.0,\"#f0f921\"]],\"diverging\":[[0,\"#8e0152\"],[0.1,\"#c51b7d\"],[0.2,\"#de77ae\"],[0.3,\"#f1b6da\"],[0.4,\"#fde0ef\"],[0.5,\"#f7f7f7\"],[0.6,\"#e6f5d0\"],[0.7,\"#b8e186\"],[0.8,\"#7fbc41\"],[0.9,\"#4d9221\"],[1,\"#276419\"]]},\"xaxis\":{\"gridcolor\":\"white\",\"linecolor\":\"white\",\"ticks\":\"\",\"title\":{\"standoff\":15},\"zerolinecolor\":\"white\",\"automargin\":true,\"zerolinewidth\":2},\"yaxis\":{\"gridcolor\":\"white\",\"linecolor\":\"white\",\"ticks\":\"\",\"title\":{\"standoff\":15},\"zerolinecolor\":\"white\",\"automargin\":true,\"zerolinewidth\":2},\"scene\":{\"xaxis\":{\"backgroundcolor\":\"#E5ECF6\",\"gridcolor\":\"white\",\"linecolor\":\"white\",\"showbackground\":true,\"ticks\":\"\",\"zerolinecolor\":\"white\",\"gridwidth\":2},\"yaxis\":{\"backgroundcolor\":\"#E5ECF6\",\"gridcolor\":\"white\",\"linecolor\":\"white\",\"showbackground\":true,\"ticks\":\"\",\"zerolinecolor\":\"white\",\"gridwidth\":2},\"zaxis\":{\"backgroundcolor\":\"#E5ECF6\",\"gridcolor\":\"white\",\"linecolor\":\"white\",\"showbackground\":true,\"ticks\":\"\",\"zerolinecolor\":\"white\",\"gridwidth\":2}},\"shapedefaults\":{\"line\":{\"color\":\"#2a3f5f\"}},\"annotationdefaults\":{\"arrowcolor\":\"#2a3f5f\",\"arrowhead\":0,\"arrowwidth\":1},\"geo\":{\"bgcolor\":\"white\",\"landcolor\":\"#E5ECF6\",\"subunitcolor\":\"white\",\"showland\":true,\"showlakes\":true,\"lakecolor\":\"white\"},\"title\":{\"x\":0.05},\"mapbox\":{\"style\":\"light\"}}},\"xaxis\":{\"anchor\":\"y\",\"domain\":[0.0,1.0],\"title\":{\"text\":\"Fruits\"}},\"yaxis\":{\"anchor\":\"x\",\"domain\":[0.0,1.0],\"title\":{\"text\":\"Quantity\"}},\"legend\":{\"tracegroupgap\":0},\"title\":{\"text\":\"Q5. Fruit Quantities\"},\"barmode\":\"relative\"},                        {\"responsive\": true}                    ).then(function(){\n",
              "                            \n",
              "var gd = document.getElementById('e7402c4c-931d-4552-bea0-3c8666e2c406');\n",
              "var x = new MutationObserver(function (mutations, observer) {{\n",
              "        var display = window.getComputedStyle(gd).display;\n",
              "        if (!display || display === 'none') {{\n",
              "            console.log([gd, 'removed!']);\n",
              "            Plotly.purge(gd);\n",
              "            observer.disconnect();\n",
              "        }}\n",
              "}});\n",
              "\n",
              "// Listen for the removal of the full notebook cells\n",
              "var notebookContainer = gd.closest('#notebook-container');\n",
              "if (notebookContainer) {{\n",
              "    x.observe(notebookContainer, {childList: true});\n",
              "}}\n",
              "\n",
              "// Listen for the clearing of the current output cell\n",
              "var outputEl = gd.closest('.output');\n",
              "if (outputEl) {{\n",
              "    x.observe(outputEl, {childList: true});\n",
              "}}\n",
              "\n",
              "                        })                };                            </script>        </div>\n",
              "</body>\n",
              "</html>"
            ]
          },
          "metadata": {}
        }
      ],
      "source": [
        "import plotly.express as px\n",
        "\n",
        "data = {'Fruits': ['Apple', 'Banana', 'Orange'], 'Quantity': [10, 15, 7]}\n",
        "df = pd.DataFrame(data)\n",
        "fig = px.bar(df, x='Fruits', y='Quantity', title='Q5. Fruit Quantities')\n",
        "fig.show()\n"
      ]
    },
    {
      "cell_type": "markdown",
      "id": "76302774-54f9-4caf-bce6-937bbaa6cdea",
      "metadata": {
        "id": "76302774-54f9-4caf-bce6-937bbaa6cdea"
      },
      "source": [
        "### 6. Create a DataFrame and add a new column based on an existing column."
      ]
    },
    {
      "cell_type": "code",
      "execution_count": 7,
      "id": "85522ea9-416f-4496-a063-67d5d02f7549",
      "metadata": {
        "colab": {
          "base_uri": "https://localhost:8080/"
        },
        "id": "85522ea9-416f-4496-a063-67d5d02f7549",
        "outputId": "ae914857-ca2f-4816-b43b-8f149c252fd0"
      },
      "outputs": [
        {
          "output_type": "stream",
          "name": "stdout",
          "text": [
            "   Marks  Percentage\n",
            "0     50        50.0\n",
            "1     60        60.0\n",
            "2     70        70.0\n"
          ]
        }
      ],
      "source": [
        "df = pd.DataFrame({'Marks': [50, 60, 70]})\n",
        "df['Percentage'] = df['Marks'] / 100 * 100\n",
        "print(df)"
      ]
    },
    {
      "cell_type": "markdown",
      "id": "2c42016d-6fd9-48fd-bdd9-3986b0714d24",
      "metadata": {
        "id": "2c42016d-6fd9-48fd-bdd9-3986b0714d24"
      },
      "source": [
        "### 7. Perform element-wise multiplication of two NumPy arrays."
      ]
    },
    {
      "cell_type": "code",
      "execution_count": 8,
      "id": "92705cdb-068d-4762-b607-c078ef6623e9",
      "metadata": {
        "colab": {
          "base_uri": "https://localhost:8080/"
        },
        "id": "92705cdb-068d-4762-b607-c078ef6623e9",
        "outputId": "d252c00b-e8ee-4ab5-fbb3-bb8bd31d7844"
      },
      "outputs": [
        {
          "output_type": "stream",
          "name": "stdout",
          "text": [
            "Array 1: [2 4 6]\n",
            "Array 2: [1 3 5]\n",
            "Element-wise multiplication result: [ 2 12 30]\n"
          ]
        }
      ],
      "source": [
        "import numpy as np\n",
        "\n",
        "# Define two NumPy arrays\n",
        "array1 = np.array([2, 4, 6])\n",
        "array2 = np.array([1, 3, 5])\n",
        "\n",
        "# Perform element-wise multiplication\n",
        "result = array1 * array2\n",
        "\n",
        "# Print the result\n",
        "print(\"Array 1:\", array1)\n",
        "print(\"Array 2:\", array2)\n",
        "print(\"Element-wise multiplication result:\", result)\n"
      ]
    },
    {
      "cell_type": "markdown",
      "id": "3600c8b3-92cf-4212-a337-c3b024c045d0",
      "metadata": {
        "id": "3600c8b3-92cf-4212-a337-c3b024c045d0"
      },
      "source": [
        "### 8. Create a line plot with multiple lines using Matplotlib."
      ]
    },
    {
      "cell_type": "markdown",
      "id": "d27b27d0-24fc-4676-b67f-cdee9664a2e5",
      "metadata": {
        "id": "d27b27d0-24fc-4676-b67f-cdee9664a2e5"
      },
      "source": [
        "import matplotlib.pyplot as plt\n",
        "\n",
        "# Example data\n",
        "x = [1, 2, 3, 4, 5]\n",
        "y1 = [2, 3, 5, 7, 11]\n",
        "y2 = [1, 4, 6, 8, 10]\n",
        "y3 = [2, 4, 4, 6, 9]\n",
        "\n",
        "# Create the plot\n",
        "plt.plot(x, y1, label='Line 1', marker='o')\n",
        "plt.plot(x, y2, label='Line 2', marker='s')\n",
        "plt.plot(x, y3, label='Line 3', marker='^')\n",
        "\n",
        "# Add title and labels\n",
        "plt.title('Multiple Line Plot Example')\n",
        "plt.xlabel('X-axis')\n",
        "plt.ylabel('Y-axis')\n",
        "\n",
        "# Add grid\n",
        "plt.grid(True)\n",
        "\n",
        "# Add legend\n",
        "plt.legend()\n",
        "\n",
        "# Show the plot\n",
        "plt.show()"
      ]
    },
    {
      "cell_type": "markdown",
      "id": "c024dd71-57dc-4a31-9f59-8384e1d9a5a7",
      "metadata": {
        "id": "c024dd71-57dc-4a31-9f59-8384e1d9a5a7"
      },
      "source": [
        "### 9. Generate a DataFrame and filter rows where a column value is greater than a threshold."
      ]
    },
    {
      "cell_type": "code",
      "execution_count": 9,
      "id": "f27252af-1e26-423b-81d5-ab12c09e5051",
      "metadata": {
        "colab": {
          "base_uri": "https://localhost:8080/"
        },
        "id": "f27252af-1e26-423b-81d5-ab12c09e5051",
        "outputId": "1993573d-5a5f-449e-80ca-db31d9f566d5"
      },
      "outputs": [
        {
          "output_type": "stream",
          "name": "stdout",
          "text": [
            "  Name  Age\n",
            "1    B   25\n"
          ]
        }
      ],
      "source": [
        "df = pd.DataFrame({'Name': ['A', 'B', 'C'], 'Age': [20, 25, 18]})\n",
        "filtered_df = df[df['Age'] > 20]\n",
        "print(filtered_df)"
      ]
    },
    {
      "cell_type": "markdown",
      "id": "0feeaec0-6a0b-46aa-90cc-bdf06d914647",
      "metadata": {
        "id": "0feeaec0-6a0b-46aa-90cc-bdf06d914647"
      },
      "source": [
        "### 10. Create a histogram using Seaborn to visualize a distribution."
      ]
    },
    {
      "cell_type": "code",
      "execution_count": 11,
      "id": "069f1bf7-27fa-49a6-92a8-58aa01738ca8",
      "metadata": {
        "colab": {
          "base_uri": "https://localhost:8080/",
          "height": 452
        },
        "id": "069f1bf7-27fa-49a6-92a8-58aa01738ca8",
        "outputId": "2ceaaa98-8b54-435f-bcb8-1f42d0b9c98a"
      },
      "outputs": [
        {
          "output_type": "display_data",
          "data": {
            "text/plain": [
              "<Figure size 640x480 with 1 Axes>"
            ],
            "image/png": "[encoded data removed]"
          },
          "metadata": {}
        }
      ],
      "source": [
        "import seaborn as sns\n",
        "\n",
        "data = [10, 20, 20, 30, 30, 30, 40, 50]\n",
        "sns.histplot(data, bins=5, kde=True)\n",
        "plt.title(\"Q10. Histogram\")\n",
        "plt.show()"
      ]
    },
    {
      "cell_type": "markdown",
      "id": "ced0877e-dd25-434d-841b-2c47ddd028f8",
      "metadata": {
        "id": "ced0877e-dd25-434d-841b-2c47ddd028f8"
      },
      "source": [
        "### 11. Perform matrix multiplication using NumPy."
      ]
    },
    {
      "cell_type": "code",
      "execution_count": 14,
      "id": "61931807-c20e-444d-8411-109c5cedda26",
      "metadata": {
        "colab": {
          "base_uri": "https://localhost:8080/"
        },
        "id": "61931807-c20e-444d-8411-109c5cedda26",
        "outputId": "b4c4c816-04b8-4cc6-e798-cc74ed5ffcd2"
      },
      "outputs": [
        {
          "output_type": "stream",
          "name": "stdout",
          "text": [
            "Matrix A:\n",
            " [[1 2]\n",
            " [3 4]]\n",
            "Matrix B:\n",
            " [[5 6]\n",
            " [7 8]]\n",
            "Matrix Multiplication (A x B):\n",
            " [[19 22]\n",
            " [43 50]]\n"
          ]
        }
      ],
      "source": [
        "import numpy as np\n",
        "\n",
        "# Define two 2D matrices (arrays)\n",
        "A = np.array([[1, 2], [3, 4]])\n",
        "B = np.array([[5, 6], [7, 8]])\n",
        "\n",
        "# Perform matrix multiplication\n",
        "result = np.dot(A, B)  # or A @ B\n",
        "\n",
        "# Print the input matrices and result\n",
        "print(\"Matrix A:\\n\", A)\n",
        "print(\"Matrix B:\\n\", B)\n",
        "print(\"Matrix Multiplication (A x B):\\n\", result)"
      ]
    },
    {
      "cell_type": "markdown",
      "id": "69e0c447-dbc6-4f5b-bde7-64d0c398419e",
      "metadata": {
        "id": "69e0c447-dbc6-4f5b-bde7-64d0c398419e"
      },
      "source": [
        "### 12. Use Pandas to load a CSV file and display its first 5 rows"
      ]
    },
    {
      "cell_type": "code",
      "source": [
        "from google.colab import files\n",
        "uploaded = files.upload()\n",
        "\n",
        "import pandas as pd\n",
        "df = pd.read_csv('CSV_Sample.csv')\n",
        "\n",
        "print(df.head())"
      ],
      "metadata": {
        "colab": {
          "base_uri": "https://localhost:8080/",
          "height": 183
        },
        "id": "p7zxUYLrrceb",
        "outputId": "8025a20e-4d42-4cee-9a9c-0a0195eee163"
      },
      "id": "p7zxUYLrrceb",
      "execution_count": 22,
      "outputs": [
        {
          "output_type": "display_data",
          "data": {
            "text/plain": [
              "<IPython.core.display.HTML object>"
            ],
            "text/html": [
              "\n",
              "     <input type=\"file\" id=\"files-a65c9083-edd6-42a5-88a2-36a134335a7a\" name=\"files[]\" multiple disabled\n",
              "        style=\"border:none\" />\n",
              "     <output id=\"result-a65c9083-edd6-42a5-88a2-36a134335a7a\">\n",
              "      Upload widget is only available when the cell has been executed in the\n",
              "      current browser session. Please rerun this cell to enable.\n",
              "      </output>\n",
              "      <script>// Copyright 2017 Google LLC\n",
              "//\n",
              "// Licensed under the Apache License, Version 2.0 (the \"License\");\n",
              "// you may not use this file except in compliance with the License.\n",
              "// You may obtain a copy of the License at\n",
              "//\n",
              "//      http://www.apache.org/licenses/LICENSE-2.0\n",
              "//\n",
              "// Unless required by applicable law or agreed to in writing, software\n",
              "// distributed under the License is distributed on an \"AS IS\" BASIS,\n",
              "// WITHOUT WARRANTIES OR CONDITIONS OF ANY KIND, either express or implied.\n",
              "// See the License for the specific language governing permissions and\n",
              "// limitations under the License.\n",
              "\n",
              "/**\n",
              " * @fileoverview Helpers for google.colab Python module.\n",
              " */\n",
              "(function(scope) {\n",
              "function span(text, styleAttributes = {}) {\n",
              "  const element = document.createElement('span');\n",
              "  element.textContent = text;\n",
              "  for (const key of Object.keys(styleAttributes)) {\n",
              "    element.style[key] = styleAttributes[key];\n",
              "  }\n",
              "  return element;\n",
              "}\n",
              "\n",
              "// Max number of bytes which will be uploaded at a time.\n",
              "const MAX_PAYLOAD_SIZE = 100 * 1024;\n",
              "\n",
              "function _uploadFiles(inputId, outputId) {\n",
              "  const steps = uploadFilesStep(inputId, outputId);\n",
              "  const outputElement = document.getElementById(outputId);\n",
              "  // Cache steps on the outputElement to make it available for the next call\n",
              "  // to uploadFilesContinue from Python.\n",
              "  outputElement.steps = steps;\n",
              "\n",
              "  return _uploadFilesContinue(outputId);\n",
              "}\n",
              "\n",
              "// This is roughly an async generator (not supported in the browser yet),\n",
              "// where there are multiple asynchronous steps and the Python side is going\n",
              "// to poll for completion of each step.\n",
              "// This uses a Promise to block the python side on completion of each step,\n",
              "// then passes the result of the previous step as the input to the next step.\n",
              "function _uploadFilesContinue(outputId) {\n",
              "  const outputElement = document.getElementById(outputId);\n",
              "  const steps = outputElement.steps;\n",
              "\n",
              "  const next = steps.next(outputElement.lastPromiseValue);\n",
              "  return Promise.resolve(next.value.promise).then((value) => {\n",
              "    // Cache the last promise value to make it available to the next\n",
              "    // step of the generator.\n",
              "    outputElement.lastPromiseValue = value;\n",
              "    return next.value.response;\n",
              "  });\n",
              "}\n",
              "\n",
              "/**\n",
              " * Generator function which is called between each async step of the upload\n",
              " * process.\n",
              " * @param {string} inputId Element ID of the input file picker element.\n",
              " * @param {string} outputId Element ID of the output display.\n",
              " * @return {!Iterable<!Object>} Iterable of next steps.\n",
              " */\n",
              "function* uploadFilesStep(inputId, outputId) {\n",
              "  const inputElement = document.getElementById(inputId);\n",
              "  inputElement.disabled = false;\n",
              "\n",
              "  const outputElement = document.getElementById(outputId);\n",
              "  outputElement.innerHTML = '';\n",
              "\n",
              "  const pickedPromise = new Promise((resolve) => {\n",
              "    inputElement.addEventListener('change', (e) => {\n",
              "      resolve(e.target.files);\n",
              "    });\n",
              "  });\n",
              "\n",
              "  const cancel = document.createElement('button');\n",
              "  inputElement.parentElement.appendChild(cancel);\n",
              "  cancel.textContent = 'Cancel upload';\n",
              "  const cancelPromise = new Promise((resolve) => {\n",
              "    cancel.onclick = () => {\n",
              "      resolve(null);\n",
              "    };\n",
              "  });\n",
              "\n",
              "  // Wait for the user to pick the files.\n",
              "  const files = yield {\n",
              "    promise: Promise.race([pickedPromise, cancelPromise]),\n",
              "    response: {\n",
              "      action: 'starting',\n",
              "    }\n",
              "  };\n",
              "\n",
              "  cancel.remove();\n",
              "\n",
              "  // Disable the input element since further picks are not allowed.\n",
              "  inputElement.disabled = true;\n",
              "\n",
              "  if (!files) {\n",
              "    return {\n",
              "      response: {\n",
              "        action: 'complete',\n",
              "      }\n",
              "    };\n",
              "  }\n",
              "\n",
              "  for (const file of files) {\n",
              "    const li = document.createElement('li');\n",
              "    li.append(span(file.name, {fontWeight: 'bold'}));\n",
              "    li.append(span(\n",
              "        `(${file.type || 'n/a'}) - ${file.size} bytes, ` +\n",
              "        `last modified: ${\n",
              "            file.lastModifiedDate ? file.lastModifiedDate.toLocaleDateString() :\n",
              "                                    'n/a'} - `));\n",
              "    const percent = span('0% done');\n",
              "    li.appendChild(percent);\n",
              "\n",
              "    outputElement.appendChild(li);\n",
              "\n",
              "    const fileDataPromise = new Promise((resolve) => {\n",
              "      const reader = new FileReader();\n",
              "      reader.onload = (e) => {\n",
              "        resolve(e.target.result);\n",
              "      };\n",
              "      reader.readAsArrayBuffer(file);\n",
              "    });\n",
              "    // Wait for the data to be ready.\n",
              "    let fileData = yield {\n",
              "      promise: fileDataPromise,\n",
              "      response: {\n",
              "        action: 'continue',\n",
              "      }\n",
              "    };\n",
              "\n",
              "    // Use a chunked sending to avoid message size limits. See b/62115660.\n",
              "    let position = 0;\n",
              "    do {\n",
              "      const length = Math.min(fileData.byteLength - position, MAX_PAYLOAD_SIZE);\n",
              "      const chunk = new Uint8Array(fileData, position, length);\n",
              "      position += length;\n",
              "\n",
              "      const base64 = btoa(String.fromCharCode.apply(null, chunk));\n",
              "      yield {\n",
              "        response: {\n",
              "          action: 'append',\n",
              "          file: file.name,\n",
              "          data: base64,\n",
              "        },\n",
              "      };\n",
              "\n",
              "      let percentDone = fileData.byteLength === 0 ?\n",
              "          100 :\n",
              "          Math.round((position / fileData.byteLength) * 100);\n",
              "      percent.textContent = `${percentDone}% done`;\n",
              "\n",
              "    } while (position < fileData.byteLength);\n",
              "  }\n",
              "\n",
              "  // All done.\n",
              "  yield {\n",
              "    response: {\n",
              "      action: 'complete',\n",
              "    }\n",
              "  };\n",
              "}\n",
              "\n",
              "scope.google = scope.google || {};\n",
              "scope.google.colab = scope.google.colab || {};\n",
              "scope.google.colab._files = {\n",
              "  _uploadFiles,\n",
              "  _uploadFilesContinue,\n",
              "};\n",
              "})(self);\n",
              "</script> "
            ]
          },
          "metadata": {}
        },
        {
          "output_type": "stream",
          "name": "stdout",
          "text": [
            "Saving CSV_Sample.csv to CSV_Sample (1).csv\n",
            "   Rank  Student\n",
            "0     1     Aman\n",
            "1     2     Afia\n",
            "2     3    Guddu\n",
            "3     4  Shavez \n",
            "4     4   Alina \n"
          ]
        }
      ]
    },
    {
      "cell_type": "markdown",
      "id": "dd4ecd3e-b138-4aa1-b423-d95ca4375b3e",
      "metadata": {
        "id": "dd4ecd3e-b138-4aa1-b423-d95ca4375b3e"
      },
      "source": [
        "### 13. Create a 3D scatter plot using Plotly."
      ]
    },
    {
      "cell_type": "code",
      "execution_count": 23,
      "id": "bc94fe2e-733c-4adf-a4be-590c093a935d",
      "metadata": {
        "scrolled": true,
        "colab": {
          "base_uri": "https://localhost:8080/",
          "height": 542
        },
        "id": "bc94fe2e-733c-4adf-a4be-590c093a935d",
        "outputId": "de8f0593-563a-4362-9d20-d106eeb8cef7"
      },
      "outputs": [
        {
          "output_type": "display_data",
          "data": {
            "text/html": [
              "<html>\n",
              "<head><meta charset=\"utf-8\" /></head>\n",
              "<body>\n",
              "    <div>            <script src=\"https://cdnjs.cloudflare.com/ajax/libs/mathjax/2.7.5/MathJax.js?config=TeX-AMS-MML_SVG\"></script><script type=\"text/javascript\">if (window.MathJax && window.MathJax.Hub && window.MathJax.Hub.Config) {window.MathJax.Hub.Config({SVG: {font: \"STIX-Web\"}});}</script>                <script type=\"text/javascript\">window.PlotlyConfig = {MathJaxConfig: 'local'};</script>\n",
              "        <script charset=\"utf-8\" src=\"https://cdn.plot.ly/plotly-2.35.2.min.js\"></script>                <div id=\"6c11d410-c557-4001-8d9e-95504a17cec8\" class=\"plotly-graph-div\" style=\"height:525px; width:100%;\"></div>            <script type=\"text/javascript\">                                    window.PLOTLYENV=window.PLOTLYENV || {};                                    if (document.getElementById(\"6c11d410-c557-4001-8d9e-95504a17cec8\")) {                    Plotly.newPlot(                        \"6c11d410-c557-4001-8d9e-95504a17cec8\",                        [{\"hovertemplate\":\"x=%{x}\\u003cbr\\u003ey=%{y}\\u003cbr\\u003ez=%{z}\\u003cextra\\u003e\\u003c\\u002fextra\\u003e\",\"legendgroup\":\"\",\"marker\":{\"color\":\"#636efa\",\"symbol\":\"circle\"},\"mode\":\"markers\",\"name\":\"\",\"scene\":\"scene\",\"showlegend\":false,\"x\":[1,2,3,4],\"y\":[10,15,13,17],\"z\":[5,6,7,8],\"type\":\"scatter3d\"}],                        {\"template\":{\"data\":{\"histogram2dcontour\":[{\"type\":\"histogram2dcontour\",\"colorbar\":{\"outlinewidth\":0,\"ticks\":\"\"},\"colorscale\":[[0.0,\"#0d0887\"],[0.1111111111111111,\"#46039f\"],[0.2222222222222222,\"#7201a8\"],[0.3333333333333333,\"#9c179e\"],[0.4444444444444444,\"#bd3786\"],[0.5555555555555556,\"#d8576b\"],[0.6666666666666666,\"#ed7953\"],[0.7777777777777778,\"#fb9f3a\"],[0.8888888888888888,\"#fdca26\"],[1.0,\"#f0f921\"]]}],\"choropleth\":[{\"type\":\"choropleth\",\"colorbar\":{\"outlinewidth\":0,\"ticks\":\"\"}}],\"histogram2d\":[{\"type\":\"histogram2d\",\"colorbar\":{\"outlinewidth\":0,\"ticks\":\"\"},\"colorscale\":[[0.0,\"#0d0887\"],[0.1111111111111111,\"#46039f\"],[0.2222222222222222,\"#7201a8\"],[0.3333333333333333,\"#9c179e\"],[0.4444444444444444,\"#bd3786\"],[0.5555555555555556,\"#d8576b\"],[0.6666666666666666,\"#ed7953\"],[0.7777777777777778,\"#fb9f3a\"],[0.8888888888888888,\"#fdca26\"],[1.0,\"#f0f921\"]]}],\"heatmap\":[{\"type\":\"heatmap\",\"colorbar\":{\"outlinewidth\":0,\"ticks\":\"\"},\"colorscale\":[[0.0,\"#0d0887\"],[0.1111111111111111,\"#46039f\"],[0.2222222222222222,\"#7201a8\"],[0.3333333333333333,\"#9c179e\"],[0.4444444444444444,\"#bd3786\"],[0.5555555555555556,\"#d8576b\"],[0.6666666666666666,\"#ed7953\"],[0.7777777777777778,\"#fb9f3a\"],[0.8888888888888888,\"#fdca26\"],[1.0,\"#f0f921\"]]}],\"heatmapgl\":[{\"type\":\"heatmapgl\",\"colorbar\":{\"outlinewidth\":0,\"ticks\":\"\"},\"colorscale\":[[0.0,\"#0d0887\"],[0.1111111111111111,\"#46039f\"],[0.2222222222222222,\"#7201a8\"],[0.3333333333333333,\"#9c179e\"],[0.4444444444444444,\"#bd3786\"],[0.5555555555555556,\"#d8576b\"],[0.6666666666666666,\"#ed7953\"],[0.7777777777777778,\"#fb9f3a\"],[0.8888888888888888,\"#fdca26\"],[1.0,\"#f0f921\"]]}],\"contourcarpet\":[{\"type\":\"contourcarpet\",\"colorbar\":{\"outlinewidth\":0,\"ticks\":\"\"}}],\"contour\":[{\"type\":\"contour\",\"colorbar\":{\"outlinewidth\":0,\"ticks\":\"\"},\"colorscale\":[[0.0,\"#0d0887\"],[0.1111111111111111,\"#46039f\"],[0.2222222222222222,\"#7201a8\"],[0.3333333333333333,\"#9c179e\"],[0.4444444444444444,\"#bd3786\"],[0.5555555555555556,\"#d8576b\"],[0.6666666666666666,\"#ed7953\"],[0.7777777777777778,\"#fb9f3a\"],[0.8888888888888888,\"#fdca26\"],[1.0,\"#f0f921\"]]}],\"surface\":[{\"type\":\"surface\",\"colorbar\":{\"outlinewidth\":0,\"ticks\":\"\"},\"colorscale\":[[0.0,\"#0d0887\"],[0.1111111111111111,\"#46039f\"],[0.2222222222222222,\"#7201a8\"],[0.3333333333333333,\"#9c179e\"],[0.4444444444444444,\"#bd3786\"],[0.5555555555555556,\"#d8576b\"],[0.6666666666666666,\"#ed7953\"],[0.7777777777777778,\"#fb9f3a\"],[0.8888888888888888,\"#fdca26\"],[1.0,\"#f0f921\"]]}],\"mesh3d\":[{\"type\":\"mesh3d\",\"colorbar\":{\"outlinewidth\":0,\"ticks\":\"\"}}],\"scatter\":[{\"fillpattern\":{\"fillmode\":\"overlay\",\"size\":10,\"solidity\":0.2},\"type\":\"scatter\"}],\"parcoords\":[{\"type\":\"parcoords\",\"line\":{\"colorbar\":{\"outlinewidth\":0,\"ticks\":\"\"}}}],\"scatterpolargl\":[{\"type\":\"scatterpolargl\",\"marker\":{\"colorbar\":{\"outlinewidth\":0,\"ticks\":\"\"}}}],\"bar\":[{\"error_x\":{\"color\":\"#2a3f5f\"},\"error_y\":{\"color\":\"#2a3f5f\"},\"marker\":{\"line\":{\"color\":\"#E5ECF6\",\"width\":0.5},\"pattern\":{\"fillmode\":\"overlay\",\"size\":10,\"solidity\":0.2}},\"type\":\"bar\"}],\"scattergeo\":[{\"type\":\"scattergeo\",\"marker\":{\"colorbar\":{\"outlinewidth\":0,\"ticks\":\"\"}}}],\"scatterpolar\":[{\"type\":\"scatterpolar\",\"marker\":{\"colorbar\":{\"outlinewidth\":0,\"ticks\":\"\"}}}],\"histogram\":[{\"marker\":{\"pattern\":{\"fillmode\":\"overlay\",\"size\":10,\"solidity\":0.2}},\"type\":\"histogram\"}],\"scattergl\":[{\"type\":\"scattergl\",\"marker\":{\"colorbar\":{\"outlinewidth\":0,\"ticks\":\"\"}}}],\"scatter3d\":[{\"type\":\"scatter3d\",\"line\":{\"colorbar\":{\"outlinewidth\":0,\"ticks\":\"\"}},\"marker\":{\"colorbar\":{\"outlinewidth\":0,\"ticks\":\"\"}}}],\"scattermapbox\":[{\"type\":\"scattermapbox\",\"marker\":{\"colorbar\":{\"outlinewidth\":0,\"ticks\":\"\"}}}],\"scatterternary\":[{\"type\":\"scatterternary\",\"marker\":{\"colorbar\":{\"outlinewidth\":0,\"ticks\":\"\"}}}],\"scattercarpet\":[{\"type\":\"scattercarpet\",\"marker\":{\"colorbar\":{\"outlinewidth\":0,\"ticks\":\"\"}}}],\"carpet\":[{\"aaxis\":{\"endlinecolor\":\"#2a3f5f\",\"gridcolor\":\"white\",\"linecolor\":\"white\",\"minorgridcolor\":\"white\",\"startlinecolor\":\"#2a3f5f\"},\"baxis\":{\"endlinecolor\":\"#2a3f5f\",\"gridcolor\":\"white\",\"linecolor\":\"white\",\"minorgridcolor\":\"white\",\"startlinecolor\":\"#2a3f5f\"},\"type\":\"carpet\"}],\"table\":[{\"cells\":{\"fill\":{\"color\":\"#EBF0F8\"},\"line\":{\"color\":\"white\"}},\"header\":{\"fill\":{\"color\":\"#C8D4E3\"},\"line\":{\"color\":\"white\"}},\"type\":\"table\"}],\"barpolar\":[{\"marker\":{\"line\":{\"color\":\"#E5ECF6\",\"width\":0.5},\"pattern\":{\"fillmode\":\"overlay\",\"size\":10,\"solidity\":0.2}},\"type\":\"barpolar\"}],\"pie\":[{\"automargin\":true,\"type\":\"pie\"}]},\"layout\":{\"autotypenumbers\":\"strict\",\"colorway\":[\"#636efa\",\"#EF553B\",\"#00cc96\",\"#ab63fa\",\"#FFA15A\",\"#19d3f3\",\"#FF6692\",\"#B6E880\",\"#FF97FF\",\"#FECB52\"],\"font\":{\"color\":\"#2a3f5f\"},\"hovermode\":\"closest\",\"hoverlabel\":{\"align\":\"left\"},\"paper_bgcolor\":\"white\",\"plot_bgcolor\":\"#E5ECF6\",\"polar\":{\"bgcolor\":\"#E5ECF6\",\"angularaxis\":{\"gridcolor\":\"white\",\"linecolor\":\"white\",\"ticks\":\"\"},\"radialaxis\":{\"gridcolor\":\"white\",\"linecolor\":\"white\",\"ticks\":\"\"}},\"ternary\":{\"bgcolor\":\"#E5ECF6\",\"aaxis\":{\"gridcolor\":\"white\",\"linecolor\":\"white\",\"ticks\":\"\"},\"baxis\":{\"gridcolor\":\"white\",\"linecolor\":\"white\",\"ticks\":\"\"},\"caxis\":{\"gridcolor\":\"white\",\"linecolor\":\"white\",\"ticks\":\"\"}},\"coloraxis\":{\"colorbar\":{\"outlinewidth\":0,\"ticks\":\"\"}},\"colorscale\":{\"sequential\":[[0.0,\"#0d0887\"],[0.1111111111111111,\"#46039f\"],[0.2222222222222222,\"#7201a8\"],[0.3333333333333333,\"#9c179e\"],[0.4444444444444444,\"#bd3786\"],[0.5555555555555556,\"#d8576b\"],[0.6666666666666666,\"#ed7953\"],[0.7777777777777778,\"#fb9f3a\"],[0.8888888888888888,\"#fdca26\"],[1.0,\"#f0f921\"]],\"sequentialminus\":[[0.0,\"#0d0887\"],[0.1111111111111111,\"#46039f\"],[0.2222222222222222,\"#7201a8\"],[0.3333333333333333,\"#9c179e\"],[0.4444444444444444,\"#bd3786\"],[0.5555555555555556,\"#d8576b\"],[0.6666666666666666,\"#ed7953\"],[0.7777777777777778,\"#fb9f3a\"],[0.8888888888888888,\"#fdca26\"],[1.0,\"#f0f921\"]],\"diverging\":[[0,\"#8e0152\"],[0.1,\"#c51b7d\"],[0.2,\"#de77ae\"],[0.3,\"#f1b6da\"],[0.4,\"#fde0ef\"],[0.5,\"#f7f7f7\"],[0.6,\"#e6f5d0\"],[0.7,\"#b8e186\"],[0.8,\"#7fbc41\"],[0.9,\"#4d9221\"],[1,\"#276419\"]]},\"xaxis\":{\"gridcolor\":\"white\",\"linecolor\":\"white\",\"ticks\":\"\",\"title\":{\"standoff\":15},\"zerolinecolor\":\"white\",\"automargin\":true,\"zerolinewidth\":2},\"yaxis\":{\"gridcolor\":\"white\",\"linecolor\":\"white\",\"ticks\":\"\",\"title\":{\"standoff\":15},\"zerolinecolor\":\"white\",\"automargin\":true,\"zerolinewidth\":2},\"scene\":{\"xaxis\":{\"backgroundcolor\":\"#E5ECF6\",\"gridcolor\":\"white\",\"linecolor\":\"white\",\"showbackground\":true,\"ticks\":\"\",\"zerolinecolor\":\"white\",\"gridwidth\":2},\"yaxis\":{\"backgroundcolor\":\"#E5ECF6\",\"gridcolor\":\"white\",\"linecolor\":\"white\",\"showbackground\":true,\"ticks\":\"\",\"zerolinecolor\":\"white\",\"gridwidth\":2},\"zaxis\":{\"backgroundcolor\":\"#E5ECF6\",\"gridcolor\":\"white\",\"linecolor\":\"white\",\"showbackground\":true,\"ticks\":\"\",\"zerolinecolor\":\"white\",\"gridwidth\":2}},\"shapedefaults\":{\"line\":{\"color\":\"#2a3f5f\"}},\"annotationdefaults\":{\"arrowcolor\":\"#2a3f5f\",\"arrowhead\":0,\"arrowwidth\":1},\"geo\":{\"bgcolor\":\"white\",\"landcolor\":\"#E5ECF6\",\"subunitcolor\":\"white\",\"showland\":true,\"showlakes\":true,\"lakecolor\":\"white\"},\"title\":{\"x\":0.05},\"mapbox\":{\"style\":\"light\"}}},\"scene\":{\"domain\":{\"x\":[0.0,1.0],\"y\":[0.0,1.0]},\"xaxis\":{\"title\":{\"text\":\"x\"}},\"yaxis\":{\"title\":{\"text\":\"y\"}},\"zaxis\":{\"title\":{\"text\":\"z\"}}},\"legend\":{\"tracegroupgap\":0},\"title\":{\"text\":\"3D Scatter Plot\"}},                        {\"responsive\": true}                    ).then(function(){\n",
              "                            \n",
              "var gd = document.getElementById('6c11d410-c557-4001-8d9e-95504a17cec8');\n",
              "var x = new MutationObserver(function (mutations, observer) {{\n",
              "        var display = window.getComputedStyle(gd).display;\n",
              "        if (!display || display === 'none') {{\n",
              "            console.log([gd, 'removed!']);\n",
              "            Plotly.purge(gd);\n",
              "            observer.disconnect();\n",
              "        }}\n",
              "}});\n",
              "\n",
              "// Listen for the removal of the full notebook cells\n",
              "var notebookContainer = gd.closest('#notebook-container');\n",
              "if (notebookContainer) {{\n",
              "    x.observe(notebookContainer, {childList: true});\n",
              "}}\n",
              "\n",
              "// Listen for the clearing of the current output cell\n",
              "var outputEl = gd.closest('.output');\n",
              "if (outputEl) {{\n",
              "    x.observe(outputEl, {childList: true});\n",
              "}}\n",
              "\n",
              "                        })                };                            </script>        </div>\n",
              "</body>\n",
              "</html>"
            ]
          },
          "metadata": {}
        }
      ],
      "source": [
        "import plotly.express as px\n",
        "\n",
        "df = pd.DataFrame({\n",
        "    'x': [1, 2, 3, 4],\n",
        "    'y': [10, 15, 13, 17],\n",
        "    'z': [5, 6, 7, 8]\n",
        "})\n",
        "\n",
        "fig = px.scatter_3d(df, x='x', y='y', z='z', title=\"3D Scatter Plot\")\n",
        "fig.show()"
      ]
    }
  ],
  "metadata": {
    "kernelspec": {
      "display_name": "Python 3 (ipykernel)",
      "language": "python",
      "name": "python3"
    },
    "language_info": {
      "codemirror_mode": {
        "name": "ipython",
        "version": 3
      },
      "file_extension": ".py",
      "mimetype": "text/x-python",
      "name": "python",
      "nbconvert_exporter": "python",
      "pygments_lexer": "ipython3",
      "version": "3.13.3"
    },
    "colab": {
      "provenance": []
    }
  },
  "nbformat": 4,
  "nbformat_minor": 5
}