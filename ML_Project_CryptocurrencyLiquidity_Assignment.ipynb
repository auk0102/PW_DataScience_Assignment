{
  "nbformat": 4,
  "nbformat_minor": 0,
  "metadata": {
    "colab": {
      "provenance": []
    },
    "kernelspec": {
      "name": "python3",
      "display_name": "Python 3"
    },
    "language_info": {
      "name": "python"
    }
  },
  "cells": [
    {
      "cell_type": "markdown",
      "source": [
        "#ML_Project_Cryptocurrency Liquidity_Assignment"
      ],
      "metadata": {
        "id": "dBt-JbfYmhHw"
      }
    },
    {
      "cell_type": "markdown",
      "source": [
        "1. Load both datasets into pandas DataFrames. Data collection followed by cleaning, and preprocessing phase."
      ],
      "metadata": {
        "id": "nMMH1Glemo0A"
      }
    },
    {
      "cell_type": "code",
      "execution_count": null,
      "metadata": {
        "colab": {
          "base_uri": "https://localhost:8080/",
          "height": 235
        },
        "id": "KmXV4tjvmZ8i",
        "outputId": "7eb9b6ef-052f-4102-ebaf-f941316a3871"
      },
      "outputs": [
        {
          "output_type": "stream",
          "name": "stdout",
          "text": [
            "Please select your dataset files (.csv)...\n"
          ]
        },
        {
          "output_type": "display_data",
          "data": {
            "text/plain": [
              "<IPython.core.display.HTML object>"
            ],
            "text/html": [
              "\n",
              "     <input type=\"file\" id=\"files-313f66c8-88bd-4926-97b0-f820b247de48\" name=\"files[]\" multiple disabled\n",
              "        style=\"border:none\" />\n",
              "     <output id=\"result-313f66c8-88bd-4926-97b0-f820b247de48\">\n",
              "      Upload widget is only available when the cell has been executed in the\n",
              "      current browser session. Please rerun this cell to enable.\n",
              "      </output>\n",
              "      <script>// Copyright 2017 Google LLC\n",
              "//\n",
              "// Licensed under the Apache License, Version 2.0 (the \"License\");\n",
              "// you may not use this file except in compliance with the License.\n",
              "// You may obtain a copy of the License at\n",
              "//\n",
              "//      http://www.apache.org/licenses/LICENSE-2.0\n",
              "//\n",
              "// Unless required by applicable law or agreed to in writing, software\n",
              "// distributed under the License is distributed on an \"AS IS\" BASIS,\n",
              "// WITHOUT WARRANTIES OR CONDITIONS OF ANY KIND, either express or implied.\n",
              "// See the License for the specific language governing permissions and\n",
              "// limitations under the License.\n",
              "\n",
              "/**\n",
              " * @fileoverview Helpers for google.colab Python module.\n",
              " */\n",
              "(function(scope) {\n",
              "function span(text, styleAttributes = {}) {\n",
              "  const element = document.createElement('span');\n",
              "  element.textContent = text;\n",
              "  for (const key of Object.keys(styleAttributes)) {\n",
              "    element.style[key] = styleAttributes[key];\n",
              "  }\n",
              "  return element;\n",
              "}\n",
              "\n",
              "// Max number of bytes which will be uploaded at a time.\n",
              "const MAX_PAYLOAD_SIZE = 100 * 1024;\n",
              "\n",
              "function _uploadFiles(inputId, outputId) {\n",
              "  const steps = uploadFilesStep(inputId, outputId);\n",
              "  const outputElement = document.getElementById(outputId);\n",
              "  // Cache steps on the outputElement to make it available for the next call\n",
              "  // to uploadFilesContinue from Python.\n",
              "  outputElement.steps = steps;\n",
              "\n",
              "  return _uploadFilesContinue(outputId);\n",
              "}\n",
              "\n",
              "// This is roughly an async generator (not supported in the browser yet),\n",
              "// where there are multiple asynchronous steps and the Python side is going\n",
              "// to poll for completion of each step.\n",
              "// This uses a Promise to block the python side on completion of each step,\n",
              "// then passes the result of the previous step as the input to the next step.\n",
              "function _uploadFilesContinue(outputId) {\n",
              "  const outputElement = document.getElementById(outputId);\n",
              "  const steps = outputElement.steps;\n",
              "\n",
              "  const next = steps.next(outputElement.lastPromiseValue);\n",
              "  return Promise.resolve(next.value.promise).then((value) => {\n",
              "    // Cache the last promise value to make it available to the next\n",
              "    // step of the generator.\n",
              "    outputElement.lastPromiseValue = value;\n",
              "    return next.value.response;\n",
              "  });\n",
              "}\n",
              "\n",
              "/**\n",
              " * Generator function which is called between each async step of the upload\n",
              " * process.\n",
              " * @param {string} inputId Element ID of the input file picker element.\n",
              " * @param {string} outputId Element ID of the output display.\n",
              " * @return {!Iterable<!Object>} Iterable of next steps.\n",
              " */\n",
              "function* uploadFilesStep(inputId, outputId) {\n",
              "  const inputElement = document.getElementById(inputId);\n",
              "  inputElement.disabled = false;\n",
              "\n",
              "  const outputElement = document.getElementById(outputId);\n",
              "  outputElement.innerHTML = '';\n",
              "\n",
              "  const pickedPromise = new Promise((resolve) => {\n",
              "    inputElement.addEventListener('change', (e) => {\n",
              "      resolve(e.target.files);\n",
              "    });\n",
              "  });\n",
              "\n",
              "  const cancel = document.createElement('button');\n",
              "  inputElement.parentElement.appendChild(cancel);\n",
              "  cancel.textContent = 'Cancel upload';\n",
              "  const cancelPromise = new Promise((resolve) => {\n",
              "    cancel.onclick = () => {\n",
              "      resolve(null);\n",
              "    };\n",
              "  });\n",
              "\n",
              "  // Wait for the user to pick the files.\n",
              "  const files = yield {\n",
              "    promise: Promise.race([pickedPromise, cancelPromise]),\n",
              "    response: {\n",
              "      action: 'starting',\n",
              "    }\n",
              "  };\n",
              "\n",
              "  cancel.remove();\n",
              "\n",
              "  // Disable the input element since further picks are not allowed.\n",
              "  inputElement.disabled = true;\n",
              "\n",
              "  if (!files) {\n",
              "    return {\n",
              "      response: {\n",
              "        action: 'complete',\n",
              "      }\n",
              "    };\n",
              "  }\n",
              "\n",
              "  for (const file of files) {\n",
              "    const li = document.createElement('li');\n",
              "    li.append(span(file.name, {fontWeight: 'bold'}));\n",
              "    li.append(span(\n",
              "        `(${file.type || 'n/a'}) - ${file.size} bytes, ` +\n",
              "        `last modified: ${\n",
              "            file.lastModifiedDate ? file.lastModifiedDate.toLocaleDateString() :\n",
              "                                    'n/a'} - `));\n",
              "    const percent = span('0% done');\n",
              "    li.appendChild(percent);\n",
              "\n",
              "    outputElement.appendChild(li);\n",
              "\n",
              "    const fileDataPromise = new Promise((resolve) => {\n",
              "      const reader = new FileReader();\n",
              "      reader.onload = (e) => {\n",
              "        resolve(e.target.result);\n",
              "      };\n",
              "      reader.readAsArrayBuffer(file);\n",
              "    });\n",
              "    // Wait for the data to be ready.\n",
              "    let fileData = yield {\n",
              "      promise: fileDataPromise,\n",
              "      response: {\n",
              "        action: 'continue',\n",
              "      }\n",
              "    };\n",
              "\n",
              "    // Use a chunked sending to avoid message size limits. See b/62115660.\n",
              "    let position = 0;\n",
              "    do {\n",
              "      const length = Math.min(fileData.byteLength - position, MAX_PAYLOAD_SIZE);\n",
              "      const chunk = new Uint8Array(fileData, position, length);\n",
              "      position += length;\n",
              "\n",
              "      const base64 = btoa(String.fromCharCode.apply(null, chunk));\n",
              "      yield {\n",
              "        response: {\n",
              "          action: 'append',\n",
              "          file: file.name,\n",
              "          data: base64,\n",
              "        },\n",
              "      };\n",
              "\n",
              "      let percentDone = fileData.byteLength === 0 ?\n",
              "          100 :\n",
              "          Math.round((position / fileData.byteLength) * 100);\n",
              "      percent.textContent = `${percentDone}% done`;\n",
              "\n",
              "    } while (position < fileData.byteLength);\n",
              "  }\n",
              "\n",
              "  // All done.\n",
              "  yield {\n",
              "    response: {\n",
              "      action: 'complete',\n",
              "    }\n",
              "  };\n",
              "}\n",
              "\n",
              "scope.google = scope.google || {};\n",
              "scope.google.colab = scope.google.colab || {};\n",
              "scope.google.colab._files = {\n",
              "  _uploadFiles,\n",
              "  _uploadFilesContinue,\n",
              "};\n",
              "})(self);\n",
              "</script> "
            ]
          },
          "metadata": {}
        },
        {
          "output_type": "stream",
          "name": "stdout",
          "text": [
            "Saving coin_gecko_2022-03-16.csv to coin_gecko_2022-03-16.csv\n",
            "Saving coin_gecko_2022-03-17.csv to coin_gecko_2022-03-17.csv\n",
            "File crypto_market_snapshot.csv not found in upload!\n",
            "File crypto_market_snapshot_v2.csv not found in upload!\n",
            "Dataset 1 (crypto_market_snapshot) was NOT loaded!\n",
            "Dataset 2 (crypto_market_snapshot_v2) was NOT loaded!\n",
            "File saved in Colab environment: coin_gecko_2022-03-16.csv\n",
            "File saved in Colab environment: coin_gecko_2022-03-17.csv\n"
          ]
        }
      ],
      "source": [
        "from google.colab import files\n",
        "import pandas as pd\n",
        "import io\n",
        "\n",
        "print(\"Please select your dataset files (.csv)...\")\n",
        "uploaded = files.upload()\n",
        "\n",
        "#Load datasets into Pandas DataFrames\n",
        "df1 = None\n",
        "df2 = None\n",
        "\n",
        "if 'crypto_market_snapshot.csv' in uploaded:\n",
        "    df1 = pd.read_csv(io.BytesIO(uploaded['crypto_market_snapshot.csv']))\n",
        "    print(\"Loaded: crypto_market_snapshot.csv\")\n",
        "else:\n",
        "    print(\"File crypto_market_snapshot.csv not found in upload!\")\n",
        "\n",
        "if 'crypto_market_snapshot_v2.csv' in uploaded:\n",
        "    df2 = pd.read_csv(io.BytesIO(uploaded['crypto_market_snapshot_v2.csv']))\n",
        "    print(\"Loaded: crypto_market_snapshot_v2.csv\")\n",
        "else:\n",
        "    print(\"File crypto_market_snapshot_v2.csv not found in upload!\")\n",
        "\n",
        "#Verify the datasets\n",
        "def verify_dataframe(df, name):\n",
        "    if df is not None:\n",
        "        print(f\"\\n{name} - Shape: {df.shape}\")\n",
        "        print(df.info())\n",
        "        print(\"\\nFirst 5 rows:\")\n",
        "        print(df.head())\n",
        "    else:\n",
        "        print(f\"{name} was NOT loaded!\")\n",
        "\n",
        "verify_dataframe(df1, \"Dataset 1 (crypto_market_snapshot)\")\n",
        "verify_dataframe(df2, \"Dataset 2 (crypto_market_snapshot_v2)\")\n",
        "\n",
        "#Save uploaded files to Colab environment for later use. This step makes the files persistent while your Colab runtime is active\n",
        "import os\n",
        "for filename in uploaded.keys():\n",
        "    with open(filename, 'wb') as f:\n",
        "        f.write(uploaded[filename])\n",
        "    print(f\"File saved in Colab environment: {filename}\")\n"
      ]
    },
    {
      "cell_type": "code",
      "source": [
        "#Load uploaded CSV files\n",
        "import pandas as pd\n",
        "file_day_1 = \"coin_gecko_2022-03-16.csv\"\n",
        "file_day_2 = \"coin_gecko_2022-03-17.csv\"\n",
        "\n",
        "# Load and Verify both datasets\n",
        "df1 = pd.read_csv(file_day_1)\n",
        "df2 = pd.read_csv(file_day_2)\n",
        "def verify_dataframe(df, name):\n",
        "    print(f\"\\n{name} - Shape: {df.shape}\")\n",
        "    print(df.info())\n",
        "    print(\"\\nFirst 5 rows:\")\n",
        "    print(df.head())\n",
        "\n",
        "verify_dataframe(df1, \"Dataset 1 (16-Mar-2022)\")\n",
        "verify_dataframe(df2, \"Dataset 2 (17-Mar-2022)\")\n",
        "\n",
        "# Check column names to confirm schema\n",
        "print(\"\\nColumns in Dataset 1:\", df1.columns.tolist())\n",
        "print(\"Columns in Dataset 2:\", df2.columns.tolist())\n"
      ],
      "metadata": {
        "colab": {
          "base_uri": "https://localhost:8080/"
        },
        "id": "DqyZTJ80myv-",
        "outputId": "c76fd021-8ae4-4498-93bf-d7034fd7e86c"
      },
      "execution_count": null,
      "outputs": [
        {
          "output_type": "stream",
          "name": "stdout",
          "text": [
            "\n",
            "Dataset 1 (16-Mar-2022) - Shape: (500, 9)\n",
            "<class 'pandas.core.frame.DataFrame'>\n",
            "RangeIndex: 500 entries, 0 to 499\n",
            "Data columns (total 9 columns):\n",
            " #   Column      Non-Null Count  Dtype  \n",
            "---  ------      --------------  -----  \n",
            " 0   coin        500 non-null    object \n",
            " 1   symbol      500 non-null    object \n",
            " 2   price       500 non-null    float64\n",
            " 3   1h          497 non-null    float64\n",
            " 4   24h         497 non-null    float64\n",
            " 5   7d          497 non-null    float64\n",
            " 6   24h_volume  497 non-null    float64\n",
            " 7   mkt_cap     500 non-null    float64\n",
            " 8   date        500 non-null    object \n",
            "dtypes: float64(6), object(3)\n",
            "memory usage: 35.3+ KB\n",
            "None\n",
            "\n",
            "First 5 rows:\n",
            "       coin symbol         price     1h    24h     7d    24h_volume  \\\n",
            "0   Bitcoin    BTC  40859.460000  0.022  0.030  0.055  3.539076e+10   \n",
            "1  Ethereum    ETH   2744.410000  0.024  0.034  0.065  1.974870e+10   \n",
            "2    Tether   USDT      1.000000 -0.001 -0.001  0.000  5.793497e+10   \n",
            "3       BNB    BNB    383.430000  0.018  0.028  0.004  1.395854e+09   \n",
            "4  USD Coin   USDC      0.999874 -0.001  0.000 -0.000  3.872274e+09   \n",
            "\n",
            "        mkt_cap        date  \n",
            "0  7.709915e+11  2022-03-16  \n",
            "1  3.271044e+11  2022-03-16  \n",
            "2  7.996516e+10  2022-03-16  \n",
            "3  6.404382e+10  2022-03-16  \n",
            "4  5.222214e+10  2022-03-16  \n",
            "\n",
            "Dataset 2 (17-Mar-2022) - Shape: (500, 9)\n",
            "<class 'pandas.core.frame.DataFrame'>\n",
            "RangeIndex: 500 entries, 0 to 499\n",
            "Data columns (total 9 columns):\n",
            " #   Column      Non-Null Count  Dtype  \n",
            "---  ------      --------------  -----  \n",
            " 0   coin        500 non-null    object \n",
            " 1   symbol      500 non-null    object \n",
            " 2   price       500 non-null    float64\n",
            " 3   1h          496 non-null    float64\n",
            " 4   24h         496 non-null    float64\n",
            " 5   7d          495 non-null    float64\n",
            " 6   24h_volume  496 non-null    float64\n",
            " 7   mkt_cap     500 non-null    float64\n",
            " 8   date        500 non-null    object \n",
            "dtypes: float64(6), object(3)\n",
            "memory usage: 35.3+ KB\n",
            "None\n",
            "\n",
            "First 5 rows:\n",
            "       coin symbol         price     1h    24h     7d    24h_volume  \\\n",
            "0   Bitcoin    BTC  40851.380000  0.001  0.000 -0.027  2.047612e+10   \n",
            "1  Ethereum    ETH   2824.420000  0.004  0.029  0.034  1.364041e+10   \n",
            "2    Tether   USDT      1.000000 -0.000  0.000  0.000  4.413140e+10   \n",
            "3       BNB    BNB    389.610000  0.002  0.016 -0.010  1.425354e+09   \n",
            "4  USD Coin   USDC      0.999739 -0.001  0.000 -0.000  3.569816e+09   \n",
            "\n",
            "        mkt_cap        date  \n",
            "0  7.760774e+11  2022-03-17  \n",
            "1  3.390772e+11  2022-03-17  \n",
            "2  8.020588e+10  2022-03-17  \n",
            "3  6.556116e+10  2022-03-17  \n",
            "4  5.259607e+10  2022-03-17  \n",
            "\n",
            "Columns in Dataset 1: ['coin', 'symbol', 'price', '1h', '24h', '7d', '24h_volume', 'mkt_cap', 'date']\n",
            "Columns in Dataset 2: ['coin', 'symbol', 'price', '1h', '24h', '7d', '24h_volume', 'mkt_cap', 'date']\n"
          ]
        }
      ]
    },
    {
      "cell_type": "markdown",
      "source": [
        "**2. What the below code will do:**\n",
        "\n",
        "**1. Merge Snapshots**\n",
        "\n",
        "Adds a date column to distinguish the two snapshots.\n",
        "\n",
        "Merges both datasets into one unified DataFrame.\n",
        "\n",
        "**2. Clean Data**\n",
        "\n",
        "Standardizes column names to lowercase and underscores.\n",
        "\n",
        "Converts numeric fields like price, 24h_volume, and mkt_cap to float.\n",
        "\n",
        "Fills or drops missing values as needed.\n",
        "\n",
        "**3. Create Features**\n",
        "\n",
        "volume_mcap_ratio using:\n",
        "###Volume-to-Market Cap Ratio = (24h Volume​/Market Cap)\n",
        "\n",
        "Higher values → more liquid market.\n",
        "\n",
        "abs_1h_change, abs_24h_change, abs_7d_change → absolute volatility measures.\n",
        "\n",
        "liquidity_label:\n",
        "\n",
        "1 → Liquidity crisis (bottom 10% of coins by liquidity ratio)\n",
        "\n",
        "0 → Normal liquidity"
      ],
      "metadata": {
        "id": "SzTcQAF2o0jE"
      }
    },
    {
      "cell_type": "code",
      "source": [
        "# Loding both Files and datasets\n",
        "import pandas as pd\n",
        "import numpy as np\n",
        "file_day_1 = \"coin_gecko_2022-03-16.csv\"\n",
        "file_day_2 = \"coin_gecko_2022-03-17.csv\"\n",
        "\n",
        "df1 = pd.read_csv(file_day_1)\n",
        "df2 = pd.read_csv(file_day_2)\n",
        "\n",
        "print(\"Day 1 Shape:\", df1.shape)\n",
        "print(\"Day 2 Shape:\", df2.shape)\n",
        "\n",
        "#Add Date Column for combining both datasets, later into one file\n",
        "df1['date'] = pd.to_datetime(\"2022-03-16\")\n",
        "df2['date'] = pd.to_datetime(\"2022-03-17\")\n",
        "\n",
        "df = pd.concat([df1, df2], ignore_index=True)\n",
        "df.sort_values(by=['symbol', 'date'], inplace=True)\n",
        "df.reset_index(drop=True, inplace=True)\n",
        "\n",
        "print(\"Combined Shape:\", df.shape)\n",
        "print(\"Unique Coins:\", df['symbol'].nunique())\n",
        "\n",
        "#Standardize Column Names\n",
        "df.columns = [col.strip().lower().replace(\" \", \"_\") for col in df.columns]\n",
        "print(\"\\nStandardized Columns:\", df.columns.tolist())\n",
        "\n",
        "\n",
        "#Convert numeric columns to proper dtype\n",
        "numeric_cols = ['price', '1h', '24h', '7d', '24h_volume', 'mkt_cap']\n",
        "\n",
        "for col in numeric_cols:\n",
        "    if col in df.columns:\n",
        "        df[col] = pd.to_numeric(df[col], errors='coerce')\n",
        "\n",
        "\n",
        "#Handle missing values\n",
        "print(\"\\nMissing values before cleaning:\")\n",
        "print(df.isna().sum())\n",
        "\n",
        "# Fill NaN with 0 for price change metrics and drop rows missing essential data\n",
        "df.fillna({'1h': 0, '24h': 0, '7d': 0}, inplace=True)\n",
        "df.dropna(subset=['price', '24h_volume', 'mkt_cap'], inplace=True)\n",
        "\n",
        "print(\"\\nMissing values after cleaning:\")\n",
        "print(df.isna().sum())\n",
        "\n",
        "#Create Liquidity Features in new Column\n",
        "# 1. Volume-to-Market Cap Ratio\n",
        "df['volume_mcap_ratio'] = df['24h_volume'] / df['mkt_cap']\n",
        "\n",
        "# 2. Absolute percentage changes\n",
        "df['abs_1h_change'] = df['1h'].abs()\n",
        "df['abs_24h_change'] = df['24h'].abs()\n",
        "df['abs_7d_change'] = df['7d'].abs()\n",
        "\n",
        "# 3. Liquidity Crisis Label (bottom 10% of liquidity ratio)\n",
        "threshold = df['volume_mcap_ratio'].quantile(0.1)\n",
        "df['liquidity_label'] = (df['volume_mcap_ratio'] < threshold).astype(int)\n",
        "\n",
        "#Final verification\n",
        "print(\"\\nFinal Dataset Info:\")\n",
        "print(df.info())\n",
        "print(\"\\nSample rows:\")\n",
        "print(df.head())\n",
        "\n",
        "\n",
        "#Save Cleaned Dataset\n",
        "df.to_csv(\"crypto_liquidity_cleaned.csv\", index=False)\n",
        "print(\"\\nCleaned dataset saved as crypto_liquidity_cleaned.csv\")\n"
      ],
      "metadata": {
        "colab": {
          "base_uri": "https://localhost:8080/"
        },
        "id": "G8tuCdiGn58T",
        "outputId": "48b87110-c899-4987-9a87-ad06ac39d80b"
      },
      "execution_count": null,
      "outputs": [
        {
          "output_type": "stream",
          "name": "stdout",
          "text": [
            "Day 1 Shape: (500, 9)\n",
            "Day 2 Shape: (500, 9)\n",
            "Combined Shape: (1000, 9)\n",
            "Unique Coins: 503\n",
            "\n",
            "Standardized Columns: ['coin', 'symbol', 'price', '1h', '24h', '7d', '24h_volume', 'mkt_cap', 'date']\n",
            "\n",
            "Missing values before cleaning:\n",
            "coin          0\n",
            "symbol        0\n",
            "price         0\n",
            "1h            7\n",
            "24h           7\n",
            "7d            8\n",
            "24h_volume    7\n",
            "mkt_cap       0\n",
            "date          0\n",
            "dtype: int64\n",
            "\n",
            "Missing values after cleaning:\n",
            "coin          0\n",
            "symbol        0\n",
            "price         0\n",
            "1h            0\n",
            "24h           0\n",
            "7d            0\n",
            "24h_volume    0\n",
            "mkt_cap       0\n",
            "date          0\n",
            "dtype: int64\n",
            "\n",
            "Final Dataset Info:\n",
            "<class 'pandas.core.frame.DataFrame'>\n",
            "Index: 993 entries, 0 to 999\n",
            "Data columns (total 14 columns):\n",
            " #   Column             Non-Null Count  Dtype         \n",
            "---  ------             --------------  -----         \n",
            " 0   coin               993 non-null    object        \n",
            " 1   symbol             993 non-null    object        \n",
            " 2   price              993 non-null    float64       \n",
            " 3   1h                 993 non-null    float64       \n",
            " 4   24h                993 non-null    float64       \n",
            " 5   7d                 993 non-null    float64       \n",
            " 6   24h_volume         993 non-null    float64       \n",
            " 7   mkt_cap            993 non-null    float64       \n",
            " 8   date               993 non-null    datetime64[ns]\n",
            " 9   volume_mcap_ratio  993 non-null    float64       \n",
            " 10  abs_1h_change      993 non-null    float64       \n",
            " 11  abs_24h_change     993 non-null    float64       \n",
            " 12  abs_7d_change      993 non-null    float64       \n",
            " 13  liquidity_label    993 non-null    int64         \n",
            "dtypes: datetime64[ns](1), float64(10), int64(1), object(2)\n",
            "memory usage: 116.4+ KB\n",
            "None\n",
            "\n",
            "Sample rows:\n",
            "     coin symbol   price     1h    24h     7d   24h_volume       mkt_cap  \\\n",
            "0  Tenset  10SET    3.30  0.016  0.030  0.434    3059468.0  2.893283e+08   \n",
            "1  Tenset  10SET    3.29  0.001  0.003  0.345    2346397.0  2.901876e+08   \n",
            "2   1inch  1INCH    1.50  0.021  0.111  0.163  120457113.0  6.161451e+08   \n",
            "3   1inch  1INCH    1.49  0.008 -0.003  0.087   64145152.0  6.175054e+08   \n",
            "4    Aave   AAVE  137.44  0.037  0.131  0.129  282336331.0  1.862098e+09   \n",
            "\n",
            "        date  volume_mcap_ratio  abs_1h_change  abs_24h_change  abs_7d_change  \\\n",
            "0 2022-03-16           0.010574          0.016           0.030          0.434   \n",
            "1 2022-03-17           0.008086          0.001           0.003          0.345   \n",
            "2 2022-03-16           0.195501          0.021           0.111          0.163   \n",
            "3 2022-03-17           0.103878          0.008           0.003          0.087   \n",
            "4 2022-03-16           0.151623          0.037           0.131          0.129   \n",
            "\n",
            "   liquidity_label  \n",
            "0                0  \n",
            "1                0  \n",
            "2                0  \n",
            "3                0  \n",
            "4                0  \n",
            "\n",
            "Cleaned dataset saved as crypto_liquidity_cleaned.csv\n"
          ]
        }
      ]
    },
    {
      "cell_type": "markdown",
      "source": [
        "**Save Final Dataset**\n",
        "\n",
        "Exports the cleaned dataset to crypto_liquidity_cleaned.csv for further modeling."
      ],
      "metadata": {
        "id": "pMNdLXCypuO5"
      }
    },
    {
      "cell_type": "code",
      "source": [
        "# Download the cleaned dataset\n",
        "from google.colab import files\n",
        "\n",
        "files.download(\"crypto_liquidity_cleaned.csv\")"
      ],
      "metadata": {
        "colab": {
          "base_uri": "https://localhost:8080/",
          "height": 17
        },
        "id": "j8bUY2iPoThA",
        "outputId": "12688e9d-f71d-417f-dba1-134124d7a315"
      },
      "execution_count": null,
      "outputs": [
        {
          "output_type": "display_data",
          "data": {
            "text/plain": [
              "<IPython.core.display.Javascript object>"
            ],
            "application/javascript": [
              "\n",
              "    async function download(id, filename, size) {\n",
              "      if (!google.colab.kernel.accessAllowed) {\n",
              "        return;\n",
              "      }\n",
              "      const div = document.createElement('div');\n",
              "      const label = document.createElement('label');\n",
              "      label.textContent = `Downloading \"${filename}\": `;\n",
              "      div.appendChild(label);\n",
              "      const progress = document.createElement('progress');\n",
              "      progress.max = size;\n",
              "      div.appendChild(progress);\n",
              "      document.body.appendChild(div);\n",
              "\n",
              "      const buffers = [];\n",
              "      let downloaded = 0;\n",
              "\n",
              "      const channel = await google.colab.kernel.comms.open(id);\n",
              "      // Send a message to notify the kernel that we're ready.\n",
              "      channel.send({})\n",
              "\n",
              "      for await (const message of channel.messages) {\n",
              "        // Send a message to notify the kernel that we're ready.\n",
              "        channel.send({})\n",
              "        if (message.buffers) {\n",
              "          for (const buffer of message.buffers) {\n",
              "            buffers.push(buffer);\n",
              "            downloaded += buffer.byteLength;\n",
              "            progress.value = downloaded;\n",
              "          }\n",
              "        }\n",
              "      }\n",
              "      const blob = new Blob(buffers, {type: 'application/binary'});\n",
              "      const a = document.createElement('a');\n",
              "      a.href = window.URL.createObjectURL(blob);\n",
              "      a.download = filename;\n",
              "      div.appendChild(a);\n",
              "      a.click();\n",
              "      div.remove();\n",
              "    }\n",
              "  "
            ]
          },
          "metadata": {}
        },
        {
          "output_type": "display_data",
          "data": {
            "text/plain": [
              "<IPython.core.display.Javascript object>"
            ],
            "application/javascript": [
              "download(\"download_3363b5bc-5bca-4f9d-8cb0-9a34eb6a31c8\", \"crypto_liquidity_cleaned.csv\", 121541)"
            ]
          },
          "metadata": {}
        }
      ]
    },
    {
      "cell_type": "markdown",
      "source": [
        "**3. EDA, feature engineering, model development, and evaluation**"
      ],
      "metadata": {
        "id": "jfhgEaF6vPYV"
      }
    },
    {
      "cell_type": "code",
      "source": [
        "#Understand the dataset, relationships, and liquidity behavior\n",
        "#Basic exploration\n",
        "import pandas as pd\n",
        "\n",
        "df = pd.read_csv(\"crypto_liquidity_cleaned.csv\")\n",
        "df.info()\n",
        "df.describe()"
      ],
      "metadata": {
        "id": "gzD4DhOpotgJ",
        "colab": {
          "base_uri": "https://localhost:8080/",
          "height": 700
        },
        "outputId": "261a6060-d47d-47dd-9d68-6ed1d89c75a9"
      },
      "execution_count": null,
      "outputs": [
        {
          "output_type": "stream",
          "name": "stdout",
          "text": [
            "<class 'pandas.core.frame.DataFrame'>\n",
            "RangeIndex: 993 entries, 0 to 992\n",
            "Data columns (total 14 columns):\n",
            " #   Column             Non-Null Count  Dtype  \n",
            "---  ------             --------------  -----  \n",
            " 0   coin               993 non-null    object \n",
            " 1   symbol             993 non-null    object \n",
            " 2   price              993 non-null    float64\n",
            " 3   1h                 993 non-null    float64\n",
            " 4   24h                993 non-null    float64\n",
            " 5   7d                 993 non-null    float64\n",
            " 6   24h_volume         993 non-null    float64\n",
            " 7   mkt_cap            993 non-null    float64\n",
            " 8   date               993 non-null    object \n",
            " 9   volume_mcap_ratio  993 non-null    float64\n",
            " 10  abs_1h_change      993 non-null    float64\n",
            " 11  abs_24h_change     993 non-null    float64\n",
            " 12  abs_7d_change      993 non-null    float64\n",
            " 13  liquidity_label    993 non-null    int64  \n",
            "dtypes: float64(10), int64(1), object(3)\n",
            "memory usage: 108.7+ KB\n"
          ]
        },
        {
          "output_type": "execute_result",
          "data": {
            "text/plain": [
              "              price          1h         24h          7d    24h_volume  \\\n",
              "count  9.930000e+02  993.000000  993.000000  993.000000  9.930000e+02   \n",
              "mean   6.194355e+02    0.009723    0.023737    0.023535  2.893109e+08   \n",
              "std    4.419811e+03    0.026934    0.059303    0.229667  2.769908e+09   \n",
              "min    1.484000e-09   -0.704000   -0.646000   -0.558000  0.000000e+00   \n",
              "25%    1.944270e-01    0.001000    0.001000   -0.041000  1.766976e+06   \n",
              "50%    1.100000e+00    0.006000    0.016000    0.000000  8.343005e+06   \n",
              "75%    7.150000e+00    0.019000    0.035000    0.037000  4.003652e+07   \n",
              "max    4.121727e+04    0.095000    0.577000    4.608000  5.793497e+10   \n",
              "\n",
              "            mkt_cap  volume_mcap_ratio  abs_1h_change  abs_24h_change  \\\n",
              "count  9.930000e+02         993.000000     993.000000      993.000000   \n",
              "mean   3.780941e+09           0.103743       0.013048        0.034553   \n",
              "std    3.817057e+10           0.366932       0.025488        0.053719   \n",
              "min    6.577043e+07           0.000000       0.000000        0.000000   \n",
              "25%    1.158653e+08           0.008774       0.002000        0.008000   \n",
              "50%    2.135646e+08           0.033798       0.007000        0.021000   \n",
              "75%    6.025829e+08           0.088332       0.020000        0.040000   \n",
              "max    7.760774e+11           5.948545       0.704000        0.646000   \n",
              "\n",
              "       abs_7d_change  liquidity_label  \n",
              "count     993.000000       993.000000  \n",
              "mean        0.082924         0.100705  \n",
              "std         0.215448         0.301089  \n",
              "min         0.000000         0.000000  \n",
              "25%         0.014000         0.000000  \n",
              "50%         0.038000         0.000000  \n",
              "75%         0.081000         0.000000  \n",
              "max         4.608000         1.000000  "
            ],
            "text/html": [
              "\n",
              "  <div id=\"df-6324e4b0-92cf-4969-a06e-d41eb1db145b\" class=\"colab-df-container\">\n",
              "    <div>\n",
              "<style scoped>\n",
              "    .dataframe tbody tr th:only-of-type {\n",
              "        vertical-align: middle;\n",
              "    }\n",
              "\n",
              "    .dataframe tbody tr th {\n",
              "        vertical-align: top;\n",
              "    }\n",
              "\n",
              "    .dataframe thead th {\n",
              "        text-align: right;\n",
              "    }\n",
              "</style>\n",
              "<table border=\"1\" class=\"dataframe\">\n",
              "  <thead>\n",
              "    <tr style=\"text-align: right;\">\n",
              "      <th></th>\n",
              "      <th>price</th>\n",
              "      <th>1h</th>\n",
              "      <th>24h</th>\n",
              "      <th>7d</th>\n",
              "      <th>24h_volume</th>\n",
              "      <th>mkt_cap</th>\n",
              "      <th>volume_mcap_ratio</th>\n",
              "      <th>abs_1h_change</th>\n",
              "      <th>abs_24h_change</th>\n",
              "      <th>abs_7d_change</th>\n",
              "      <th>liquidity_label</th>\n",
              "    </tr>\n",
              "  </thead>\n",
              "  <tbody>\n",
              "    <tr>\n",
              "      <th>count</th>\n",
              "      <td>9.930000e+02</td>\n",
              "      <td>993.000000</td>\n",
              "      <td>993.000000</td>\n",
              "      <td>993.000000</td>\n",
              "      <td>9.930000e+02</td>\n",
              "      <td>9.930000e+02</td>\n",
              "      <td>993.000000</td>\n",
              "      <td>993.000000</td>\n",
              "      <td>993.000000</td>\n",
              "      <td>993.000000</td>\n",
              "      <td>993.000000</td>\n",
              "    </tr>\n",
              "    <tr>\n",
              "      <th>mean</th>\n",
              "      <td>6.194355e+02</td>\n",
              "      <td>0.009723</td>\n",
              "      <td>0.023737</td>\n",
              "      <td>0.023535</td>\n",
              "      <td>2.893109e+08</td>\n",
              "      <td>3.780941e+09</td>\n",
              "      <td>0.103743</td>\n",
              "      <td>0.013048</td>\n",
              "      <td>0.034553</td>\n",
              "      <td>0.082924</td>\n",
              "      <td>0.100705</td>\n",
              "    </tr>\n",
              "    <tr>\n",
              "      <th>std</th>\n",
              "      <td>4.419811e+03</td>\n",
              "      <td>0.026934</td>\n",
              "      <td>0.059303</td>\n",
              "      <td>0.229667</td>\n",
              "      <td>2.769908e+09</td>\n",
              "      <td>3.817057e+10</td>\n",
              "      <td>0.366932</td>\n",
              "      <td>0.025488</td>\n",
              "      <td>0.053719</td>\n",
              "      <td>0.215448</td>\n",
              "      <td>0.301089</td>\n",
              "    </tr>\n",
              "    <tr>\n",
              "      <th>min</th>\n",
              "      <td>1.484000e-09</td>\n",
              "      <td>-0.704000</td>\n",
              "      <td>-0.646000</td>\n",
              "      <td>-0.558000</td>\n",
              "      <td>0.000000e+00</td>\n",
              "      <td>6.577043e+07</td>\n",
              "      <td>0.000000</td>\n",
              "      <td>0.000000</td>\n",
              "      <td>0.000000</td>\n",
              "      <td>0.000000</td>\n",
              "      <td>0.000000</td>\n",
              "    </tr>\n",
              "    <tr>\n",
              "      <th>25%</th>\n",
              "      <td>1.944270e-01</td>\n",
              "      <td>0.001000</td>\n",
              "      <td>0.001000</td>\n",
              "      <td>-0.041000</td>\n",
              "      <td>1.766976e+06</td>\n",
              "      <td>1.158653e+08</td>\n",
              "      <td>0.008774</td>\n",
              "      <td>0.002000</td>\n",
              "      <td>0.008000</td>\n",
              "      <td>0.014000</td>\n",
              "      <td>0.000000</td>\n",
              "    </tr>\n",
              "    <tr>\n",
              "      <th>50%</th>\n",
              "      <td>1.100000e+00</td>\n",
              "      <td>0.006000</td>\n",
              "      <td>0.016000</td>\n",
              "      <td>0.000000</td>\n",
              "      <td>8.343005e+06</td>\n",
              "      <td>2.135646e+08</td>\n",
              "      <td>0.033798</td>\n",
              "      <td>0.007000</td>\n",
              "      <td>0.021000</td>\n",
              "      <td>0.038000</td>\n",
              "      <td>0.000000</td>\n",
              "    </tr>\n",
              "    <tr>\n",
              "      <th>75%</th>\n",
              "      <td>7.150000e+00</td>\n",
              "      <td>0.019000</td>\n",
              "      <td>0.035000</td>\n",
              "      <td>0.037000</td>\n",
              "      <td>4.003652e+07</td>\n",
              "      <td>6.025829e+08</td>\n",
              "      <td>0.088332</td>\n",
              "      <td>0.020000</td>\n",
              "      <td>0.040000</td>\n",
              "      <td>0.081000</td>\n",
              "      <td>0.000000</td>\n",
              "    </tr>\n",
              "    <tr>\n",
              "      <th>max</th>\n",
              "      <td>4.121727e+04</td>\n",
              "      <td>0.095000</td>\n",
              "      <td>0.577000</td>\n",
              "      <td>4.608000</td>\n",
              "      <td>5.793497e+10</td>\n",
              "      <td>7.760774e+11</td>\n",
              "      <td>5.948545</td>\n",
              "      <td>0.704000</td>\n",
              "      <td>0.646000</td>\n",
              "      <td>4.608000</td>\n",
              "      <td>1.000000</td>\n",
              "    </tr>\n",
              "  </tbody>\n",
              "</table>\n",
              "</div>\n",
              "    <div class=\"colab-df-buttons\">\n",
              "\n",
              "  <div class=\"colab-df-container\">\n",
              "    <button class=\"colab-df-convert\" onclick=\"convertToInteractive('df-6324e4b0-92cf-4969-a06e-d41eb1db145b')\"\n",
              "            title=\"Convert this dataframe to an interactive table.\"\n",
              "            style=\"display:none;\">\n",
              "\n",
              "  <svg xmlns=\"http://www.w3.org/2000/svg\" height=\"24px\" viewBox=\"0 -960 960 960\">\n",
              "    <path d=\"M120-120v-720h720v720H120Zm60-500h600v-160H180v160Zm220 220h160v-160H400v160Zm0 220h160v-160H400v160ZM180-400h160v-160H180v160Zm440 0h160v-160H620v160ZM180-180h160v-160H180v160Zm440 0h160v-160H620v160Z\"/>\n",
              "  </svg>\n",
              "    </button>\n",
              "\n",
              "  <style>\n",
              "    .colab-df-container {\n",
              "      display:flex;\n",
              "      gap: 12px;\n",
              "    }\n",
              "\n",
              "    .colab-df-convert {\n",
              "      background-color: #E8F0FE;\n",
              "      border: none;\n",
              "      border-radius: 50%;\n",
              "      cursor: pointer;\n",
              "      display: none;\n",
              "      fill: #1967D2;\n",
              "      height: 32px;\n",
              "      padding: 0 0 0 0;\n",
              "      width: 32px;\n",
              "    }\n",
              "\n",
              "    .colab-df-convert:hover {\n",
              "      background-color: #E2EBFA;\n",
              "      box-shadow: 0px 1px 2px rgba(60, 64, 67, 0.3), 0px 1px 3px 1px rgba(60, 64, 67, 0.15);\n",
              "      fill: #174EA6;\n",
              "    }\n",
              "\n",
              "    .colab-df-buttons div {\n",
              "      margin-bottom: 4px;\n",
              "    }\n",
              "\n",
              "    [theme=dark] .colab-df-convert {\n",
              "      background-color: #3B4455;\n",
              "      fill: #D2E3FC;\n",
              "    }\n",
              "\n",
              "    [theme=dark] .colab-df-convert:hover {\n",
              "      background-color: #434B5C;\n",
              "      box-shadow: 0px 1px 3px 1px rgba(0, 0, 0, 0.15);\n",
              "      filter: drop-shadow(0px 1px 2px rgba(0, 0, 0, 0.3));\n",
              "      fill: #FFFFFF;\n",
              "    }\n",
              "  </style>\n",
              "\n",
              "    <script>\n",
              "      const buttonEl =\n",
              "        document.querySelector('#df-6324e4b0-92cf-4969-a06e-d41eb1db145b button.colab-df-convert');\n",
              "      buttonEl.style.display =\n",
              "        google.colab.kernel.accessAllowed ? 'block' : 'none';\n",
              "\n",
              "      async function convertToInteractive(key) {\n",
              "        const element = document.querySelector('#df-6324e4b0-92cf-4969-a06e-d41eb1db145b');\n",
              "        const dataTable =\n",
              "          await google.colab.kernel.invokeFunction('convertToInteractive',\n",
              "                                                    [key], {});\n",
              "        if (!dataTable) return;\n",
              "\n",
              "        const docLinkHtml = 'Like what you see? Visit the ' +\n",
              "          '<a target=\"_blank\" href=https://colab.research.google.com/notebooks/data_table.ipynb>data table notebook</a>'\n",
              "          + ' to learn more about interactive tables.';\n",
              "        element.innerHTML = '';\n",
              "        dataTable['output_type'] = 'display_data';\n",
              "        await google.colab.output.renderOutput(dataTable, element);\n",
              "        const docLink = document.createElement('div');\n",
              "        docLink.innerHTML = docLinkHtml;\n",
              "        element.appendChild(docLink);\n",
              "      }\n",
              "    </script>\n",
              "  </div>\n",
              "\n",
              "\n",
              "    <div id=\"df-90a813f8-270d-458a-ad5b-e17b36eadcee\">\n",
              "      <button class=\"colab-df-quickchart\" onclick=\"quickchart('df-90a813f8-270d-458a-ad5b-e17b36eadcee')\"\n",
              "                title=\"Suggest charts\"\n",
              "                style=\"display:none;\">\n",
              "\n",
              "<svg xmlns=\"http://www.w3.org/2000/svg\" height=\"24px\"viewBox=\"0 0 24 24\"\n",
              "     width=\"24px\">\n",
              "    <g>\n",
              "        <path d=\"M19 3H5c-1.1 0-2 .9-2 2v14c0 1.1.9 2 2 2h14c1.1 0 2-.9 2-2V5c0-1.1-.9-2-2-2zM9 17H7v-7h2v7zm4 0h-2V7h2v10zm4 0h-2v-4h2v4z\"/>\n",
              "    </g>\n",
              "</svg>\n",
              "      </button>\n",
              "\n",
              "<style>\n",
              "  .colab-df-quickchart {\n",
              "      --bg-color: #E8F0FE;\n",
              "      --fill-color: #1967D2;\n",
              "      --hover-bg-color: #E2EBFA;\n",
              "      --hover-fill-color: #174EA6;\n",
              "      --disabled-fill-color: #AAA;\n",
              "      --disabled-bg-color: #DDD;\n",
              "  }\n",
              "\n",
              "  [theme=dark] .colab-df-quickchart {\n",
              "      --bg-color: #3B4455;\n",
              "      --fill-color: #D2E3FC;\n",
              "      --hover-bg-color: #434B5C;\n",
              "      --hover-fill-color: #FFFFFF;\n",
              "      --disabled-bg-color: #3B4455;\n",
              "      --disabled-fill-color: #666;\n",
              "  }\n",
              "\n",
              "  .colab-df-quickchart {\n",
              "    background-color: var(--bg-color);\n",
              "    border: none;\n",
              "    border-radius: 50%;\n",
              "    cursor: pointer;\n",
              "    display: none;\n",
              "    fill: var(--fill-color);\n",
              "    height: 32px;\n",
              "    padding: 0;\n",
              "    width: 32px;\n",
              "  }\n",
              "\n",
              "  .colab-df-quickchart:hover {\n",
              "    background-color: var(--hover-bg-color);\n",
              "    box-shadow: 0 1px 2px rgba(60, 64, 67, 0.3), 0 1px 3px 1px rgba(60, 64, 67, 0.15);\n",
              "    fill: var(--button-hover-fill-color);\n",
              "  }\n",
              "\n",
              "  .colab-df-quickchart-complete:disabled,\n",
              "  .colab-df-quickchart-complete:disabled:hover {\n",
              "    background-color: var(--disabled-bg-color);\n",
              "    fill: var(--disabled-fill-color);\n",
              "    box-shadow: none;\n",
              "  }\n",
              "\n",
              "  .colab-df-spinner {\n",
              "    border: 2px solid var(--fill-color);\n",
              "    border-color: transparent;\n",
              "    border-bottom-color: var(--fill-color);\n",
              "    animation:\n",
              "      spin 1s steps(1) infinite;\n",
              "  }\n",
              "\n",
              "  @keyframes spin {\n",
              "    0% {\n",
              "      border-color: transparent;\n",
              "      border-bottom-color: var(--fill-color);\n",
              "      border-left-color: var(--fill-color);\n",
              "    }\n",
              "    20% {\n",
              "      border-color: transparent;\n",
              "      border-left-color: var(--fill-color);\n",
              "      border-top-color: var(--fill-color);\n",
              "    }\n",
              "    30% {\n",
              "      border-color: transparent;\n",
              "      border-left-color: var(--fill-color);\n",
              "      border-top-color: var(--fill-color);\n",
              "      border-right-color: var(--fill-color);\n",
              "    }\n",
              "    40% {\n",
              "      border-color: transparent;\n",
              "      border-right-color: var(--fill-color);\n",
              "      border-top-color: var(--fill-color);\n",
              "    }\n",
              "    60% {\n",
              "      border-color: transparent;\n",
              "      border-right-color: var(--fill-color);\n",
              "    }\n",
              "    80% {\n",
              "      border-color: transparent;\n",
              "      border-right-color: var(--fill-color);\n",
              "      border-bottom-color: var(--fill-color);\n",
              "    }\n",
              "    90% {\n",
              "      border-color: transparent;\n",
              "      border-bottom-color: var(--fill-color);\n",
              "    }\n",
              "  }\n",
              "</style>\n",
              "\n",
              "      <script>\n",
              "        async function quickchart(key) {\n",
              "          const quickchartButtonEl =\n",
              "            document.querySelector('#' + key + ' button');\n",
              "          quickchartButtonEl.disabled = true;  // To prevent multiple clicks.\n",
              "          quickchartButtonEl.classList.add('colab-df-spinner');\n",
              "          try {\n",
              "            const charts = await google.colab.kernel.invokeFunction(\n",
              "                'suggestCharts', [key], {});\n",
              "          } catch (error) {\n",
              "            console.error('Error during call to suggestCharts:', error);\n",
              "          }\n",
              "          quickchartButtonEl.classList.remove('colab-df-spinner');\n",
              "          quickchartButtonEl.classList.add('colab-df-quickchart-complete');\n",
              "        }\n",
              "        (() => {\n",
              "          let quickchartButtonEl =\n",
              "            document.querySelector('#df-90a813f8-270d-458a-ad5b-e17b36eadcee button');\n",
              "          quickchartButtonEl.style.display =\n",
              "            google.colab.kernel.accessAllowed ? 'block' : 'none';\n",
              "        })();\n",
              "      </script>\n",
              "    </div>\n",
              "\n",
              "    </div>\n",
              "  </div>\n"
            ],
            "application/vnd.google.colaboratory.intrinsic+json": {
              "type": "dataframe",
              "summary": "{\n  \"name\": \"df\",\n  \"rows\": 8,\n  \"fields\": [\n    {\n      \"column\": \"price\",\n      \"properties\": {\n        \"dtype\": \"number\",\n        \"std\": 14345.748587410302,\n        \"min\": 1.484e-09,\n        \"max\": 41217.27,\n        \"num_unique_values\": 8,\n        \"samples\": [\n          619.4354788135535,\n          1.1,\n          993.0\n        ],\n        \"semantic_type\": \"\",\n        \"description\": \"\"\n      }\n    },\n    {\n      \"column\": \"1h\",\n      \"properties\": {\n        \"dtype\": \"number\",\n        \"std\": 351.106205565829,\n        \"min\": -0.7040000000000001,\n        \"max\": 993.0,\n        \"num_unique_values\": 8,\n        \"samples\": [\n          0.009723061430010064,\n          0.006,\n          993.0\n        ],\n        \"semantic_type\": \"\",\n        \"description\": \"\"\n      }\n    },\n    {\n      \"column\": \"24h\",\n      \"properties\": {\n        \"dtype\": \"number\",\n        \"std\": 351.0753349748137,\n        \"min\": -0.6459999999999999,\n        \"max\": 993.0,\n        \"num_unique_values\": 8,\n        \"samples\": [\n          0.023737160120845913,\n          0.016,\n          993.0\n        ],\n        \"semantic_type\": \"\",\n        \"description\": \"\"\n      }\n    },\n    {\n      \"column\": \"7d\",\n      \"properties\": {\n        \"dtype\": \"number\",\n        \"std\": 350.8652344551738,\n        \"min\": -0.5579999999999999,\n        \"max\": 993.0,\n        \"num_unique_values\": 8,\n        \"samples\": [\n          0.02353474320241692,\n          0.0,\n          993.0\n        ],\n        \"semantic_type\": \"\",\n        \"description\": \"\"\n      }\n    },\n    {\n      \"column\": \"24h_volume\",\n      \"properties\": {\n        \"dtype\": \"number\",\n        \"std\": 20348453955.86986,\n        \"min\": 0.0,\n        \"max\": 57934969077.0,\n        \"num_unique_values\": 8,\n        \"samples\": [\n          289310894.1975328,\n          8343005.0,\n          993.0\n        ],\n        \"semantic_type\": \"\",\n        \"description\": \"\"\n      }\n    },\n    {\n      \"column\": \"mkt_cap\",\n      \"properties\": {\n        \"dtype\": \"number\",\n        \"std\": 272532382968.39917,\n        \"min\": 993.0,\n        \"max\": 776077432316.0,\n        \"num_unique_values\": 8,\n        \"samples\": [\n          3780940696.2779455,\n          213564555.0,\n          993.0\n        ],\n        \"semantic_type\": \"\",\n        \"description\": \"\"\n      }\n    },\n    {\n      \"column\": \"volume_mcap_ratio\",\n      \"properties\": {\n        \"dtype\": \"number\",\n        \"std\": 350.7536748946875,\n        \"min\": 0.0,\n        \"max\": 993.0,\n        \"num_unique_values\": 8,\n        \"samples\": [\n          0.10374291951728722,\n          0.0337984373967861,\n          993.0\n        ],\n        \"semantic_type\": \"\",\n        \"description\": \"\"\n      }\n    },\n    {\n      \"column\": \"abs_1h_change\",\n      \"properties\": {\n        \"dtype\": \"number\",\n        \"std\": 351.03963217094156,\n        \"min\": 0.0,\n        \"max\": 993.0,\n        \"num_unique_values\": 8,\n        \"samples\": [\n          0.013048338368580053,\n          0.0069999999999999,\n          993.0\n        ],\n        \"semantic_type\": \"\",\n        \"description\": \"\"\n      }\n    },\n    {\n      \"column\": \"abs_24h_change\",\n      \"properties\": {\n        \"dtype\": \"number\",\n        \"std\": 351.0380129054858,\n        \"min\": 0.0,\n        \"max\": 993.0,\n        \"num_unique_values\": 8,\n        \"samples\": [\n          0.03455287009063444,\n          0.021,\n          993.0\n        ],\n        \"semantic_type\": \"\",\n        \"description\": \"\"\n      }\n    },\n    {\n      \"column\": \"abs_7d_change\",\n      \"properties\": {\n        \"dtype\": \"number\",\n        \"std\": 350.82758719391586,\n        \"min\": 0.0,\n        \"max\": 993.0,\n        \"num_unique_values\": 8,\n        \"samples\": [\n          0.08292447129909365,\n          0.038,\n          993.0\n        ],\n        \"semantic_type\": \"\",\n        \"description\": \"\"\n      }\n    },\n    {\n      \"column\": \"liquidity_label\",\n      \"properties\": {\n        \"dtype\": \"number\",\n        \"std\": 351.0078824426742,\n        \"min\": 0.0,\n        \"max\": 993.0,\n        \"num_unique_values\": 5,\n        \"samples\": [\n          0.10070493454179255,\n          1.0,\n          0.30108926334533426\n        ],\n        \"semantic_type\": \"\",\n        \"description\": \"\"\n      }\n    }\n  ]\n}"
            }
          },
          "metadata": {},
          "execution_count": 8
        }
      ]
    },
    {
      "cell_type": "code",
      "source": [
        "#Visualizations of Distribution of volume_mcap_ratio (liquidity indicator)\n",
        "\n",
        "#Top coins by market cap and 24h volume\n",
        "#Volatility trends using: abs_24h_change and abs_7d_change\n",
        "\n",
        "#Correlation heatmap between features\n",
        "import matplotlib.pyplot as plt\n",
        "import seaborn as sns\n",
        "\n",
        "plt.figure(figsize=(10,6))\n",
        "sns.histplot(df['volume_mcap_ratio'], bins=50, kde=True)\n",
        "plt.title(\"Distribution of Volume/Market Cap Ratio\")\n",
        "plt.show()"
      ],
      "metadata": {
        "colab": {
          "base_uri": "https://localhost:8080/",
          "height": 564
        },
        "id": "HZviSPY1xdwY",
        "outputId": "5149ec7b-6476-4e11-b7f1-081ee88f0ff6"
      },
      "execution_count": null,
      "outputs": [
        {
          "output_type": "display_data",
          "data": {
            "text/plain": [
              "<Figure size 1000x600 with 1 Axes>"
            ],
            "image/png": "[encoded data removed]"
          },
          "metadata": {}
        }
      ]
    },
    {
      "cell_type": "markdown",
      "source": [
        "**Feature Engineering**\n",
        "\n",
        "Goal: Create new features to better predict liquidity.\n",
        "\n",
        "| Feature Name           | Why It's Useful                                     |\n",
        "| ---------------------- | --------------------------------------------------- |\n",
        "| `log_mkt_cap`          | Stabilizes large differences in market caps         |\n",
        "| `volatility_score`     | Captures price fluctuation using 24h and 7d changes |\n",
        "| `volume_growth_rate`   | Tracks sudden spikes in trading activity            |\n",
        "| `liquidity_risk_score` | Composite score combining volatility & volume       |\n"
      ],
      "metadata": {
        "id": "vzd6Nm3-zJ8w"
      }
    },
    {
      "cell_type": "code",
      "source": [
        "import numpy as np\n",
        "\n",
        "df['log_mkt_cap'] = np.log(df['mkt_cap'] + 1)\n",
        "df['volatility_score'] = df['abs_24h_change'] * 0.6 + df['abs_7d_change'] * 0.4\n",
        "df['volume_growth_rate'] = df['24h_volume'].pct_change().fillna(0)"
      ],
      "metadata": {
        "id": "NwiSb8O6y0PX"
      },
      "execution_count": null,
      "outputs": []
    },
    {
      "cell_type": "code",
      "source": [
        "#Define Target Variable using Binary variable\n",
        "threshold = df['volume_mcap_ratio'].median()\n",
        "df['high_liquidity'] = (df['volume_mcap_ratio'] > threshold).astype(int)"
      ],
      "metadata": {
        "id": "lzZCoONyzgAe"
      },
      "execution_count": null,
      "outputs": []
    },
    {
      "cell_type": "code",
      "source": [
        "#Split the Dataset for modeling\n",
        "from sklearn.model_selection import train_test_split\n",
        "\n",
        "X = df.drop(columns=['coin', 'symbol', 'date', 'high_liquidity'])\n",
        "y = df['high_liquidity']\n",
        "\n",
        "X_train, X_test, y_train, y_test = train_test_split(\n",
        "    X, y, test_size=0.2, random_state=42, stratify=y\n",
        ")"
      ],
      "metadata": {
        "id": "DBa5O5MZ01qd"
      },
      "execution_count": null,
      "outputs": []
    },
    {
      "cell_type": "markdown",
      "source": [
        "**3. Build Machine Learning Models**\n",
        "\n",
        "Start with baseline models:\n",
        "\n",
        "Logistic Regression (classification)\n",
        "\n",
        "Random Forest\n",
        "\n",
        "Gradient Boosting (XGBoost/LightGBM)\n",
        "\n",
        "SVM (optional for small datasets)"
      ],
      "metadata": {
        "id": "Bu7yfVyK1Yp5"
      }
    },
    {
      "cell_type": "code",
      "source": [
        "import numpy as np\n",
        "\n",
        "# Check for NaNs\n",
        "print(\"Missing values per column:\")\n",
        "print(X_train.isna().sum())\n",
        "\n",
        "# Check for infinite values\n",
        "print(\"\\nInfinite values per column:\")\n",
        "print(np.isinf(X_train).sum())\n",
        "\n",
        "# Check for very large values\n",
        "print(\"\\nMax values per column:\")\n",
        "print(X_train.max())"
      ],
      "metadata": {
        "colab": {
          "base_uri": "https://localhost:8080/"
        },
        "id": "WxkJphGA1Frs",
        "outputId": "1131297d-fc7f-4018-c072-c2b47b5e6dac"
      },
      "execution_count": null,
      "outputs": [
        {
          "output_type": "stream",
          "name": "stdout",
          "text": [
            "Missing values per column:\n",
            "price                 0\n",
            "1h                    0\n",
            "24h                   0\n",
            "7d                    0\n",
            "24h_volume            0\n",
            "mkt_cap               0\n",
            "volume_mcap_ratio     0\n",
            "abs_1h_change         0\n",
            "abs_24h_change        0\n",
            "abs_7d_change         0\n",
            "liquidity_label       0\n",
            "log_mkt_cap           0\n",
            "volatility_score      0\n",
            "volume_growth_rate    0\n",
            "dtype: int64\n",
            "\n",
            "Infinite values per column:\n",
            "price                 0\n",
            "1h                    0\n",
            "24h                   0\n",
            "7d                    0\n",
            "24h_volume            0\n",
            "mkt_cap               0\n",
            "volume_mcap_ratio     0\n",
            "abs_1h_change         0\n",
            "abs_24h_change        0\n",
            "abs_7d_change         0\n",
            "liquidity_label       0\n",
            "log_mkt_cap           0\n",
            "volatility_score      0\n",
            "volume_growth_rate    1\n",
            "dtype: int64\n",
            "\n",
            "Max values per column:\n",
            "price                 4.121727e+04\n",
            "1h                    8.600000e-02\n",
            "24h                   5.020000e-01\n",
            "7d                    4.608000e+00\n",
            "24h_volume            5.793497e+10\n",
            "mkt_cap               7.760774e+11\n",
            "volume_mcap_ratio     4.833200e+00\n",
            "abs_1h_change         7.040000e-01\n",
            "abs_24h_change        6.460000e-01\n",
            "abs_7d_change         4.608000e+00\n",
            "liquidity_label       1.000000e+00\n",
            "log_mkt_cap           2.737752e+01\n",
            "volatility_score      2.098200e+00\n",
            "volume_growth_rate             inf\n",
            "dtype: float64\n"
          ]
        }
      ]
    },
    {
      "cell_type": "code",
      "source": [
        "# Replace infinity with NaN first\n",
        "X_train = X_train.replace([np.inf, -np.inf], np.nan)\n",
        "X_test = X_test.replace([np.inf, -np.inf], np.nan)\n",
        "\n",
        "# Fill NaNs with column median\n",
        "X_train = X_train.fillna(X_train.median())\n",
        "X_test = X_test.fillna(X_test.median())"
      ],
      "metadata": {
        "id": "TPe2iKz21l43"
      },
      "execution_count": null,
      "outputs": []
    },
    {
      "cell_type": "code",
      "source": [
        "#If some values are too large, normalize them\n",
        "from sklearn.preprocessing import StandardScaler\n",
        "\n",
        "scaler = StandardScaler()\n",
        "X_train = scaler.fit_transform(X_train)\n",
        "X_test = scaler.transform(X_test)\n"
      ],
      "metadata": {
        "id": "fEJHXIKy2yyG"
      },
      "execution_count": null,
      "outputs": []
    },
    {
      "cell_type": "code",
      "source": [
        "#Training Model again\n",
        "from sklearn.ensemble import RandomForestClassifier\n",
        "from sklearn.metrics import classification_report\n",
        "\n",
        "model = RandomForestClassifier(n_estimators=100, random_state=42)\n",
        "model.fit(X_train, y_train)\n",
        "\n",
        "y_pred = model.predict(X_test)\n",
        "print(classification_report(y_test, y_pred))"
      ],
      "metadata": {
        "colab": {
          "base_uri": "https://localhost:8080/"
        },
        "id": "BmtDdPjP268r",
        "outputId": "0419f69c-fd90-410f-cf4c-5d71931f3bc4"
      },
      "execution_count": null,
      "outputs": [
        {
          "output_type": "stream",
          "name": "stdout",
          "text": [
            "              precision    recall  f1-score   support\n",
            "\n",
            "           0       1.00      1.00      1.00       100\n",
            "           1       1.00      1.00      1.00        99\n",
            "\n",
            "    accuracy                           1.00       199\n",
            "   macro avg       1.00      1.00      1.00       199\n",
            "weighted avg       1.00      1.00      1.00       199\n",
            "\n"
          ]
        }
      ]
    },
    {
      "cell_type": "markdown",
      "source": [
        "**4. Evaluate Model Performance**\n",
        "Metrics to use:\n",
        "\n",
        "Classification:\n",
        "\n",
        "Accuracy\n",
        "\n",
        "Precision, Recall, F1-score\n",
        "\n",
        "ROC-AUC curve\n",
        "\n",
        "Regression:\n",
        "\n",
        "R²\n",
        "\n",
        "Mean Absolute Error (MAE)\n",
        "\n",
        "Mean Squared Error (MSE)\n",
        "\n",
        "Visualization:"
      ],
      "metadata": {
        "id": "v-PDZS5K36Co"
      }
    },
    {
      "cell_type": "code",
      "source": [
        "from sklearn.metrics import ConfusionMatrixDisplay\n",
        "ConfusionMatrixDisplay.from_estimator(model, X_test, y_test)"
      ],
      "metadata": {
        "colab": {
          "base_uri": "https://localhost:8080/",
          "height": 473
        },
        "id": "l5F9zaZW3xgw",
        "outputId": "2174514e-c567-470d-896b-8d546d3deef9"
      },
      "execution_count": null,
      "outputs": [
        {
          "output_type": "execute_result",
          "data": {
            "text/plain": [
              "<sklearn.metrics._plot.confusion_matrix.ConfusionMatrixDisplay at 0x79da8f8f6690>"
            ]
          },
          "metadata": {},
          "execution_count": 21
        },
        {
          "output_type": "display_data",
          "data": {
            "text/plain": [
              "<Figure size 640x480 with 2 Axes>"
            ],
            "image/png": "[encoded data removed]"
          },
          "metadata": {}
        }
      ]
    },
    {
      "cell_type": "markdown",
      "source": [
        "**5. Optimize Model**\n",
        "\n",
        "Hyperparameter tuning using GridSearchCV or RandomizedSearchCV.\n",
        "\n",
        "Feature selection to remove redundant predictors.\n",
        "\n",
        "**6. Final Export of Model & Results**\n",
        "Save your trained model for reuse:"
      ],
      "metadata": {
        "id": "mVm2kzLE4J0v"
      }
    },
    {
      "cell_type": "code",
      "source": [
        "import joblib\n",
        "\n",
        "joblib.dump(model, \"crypto_liquidity_model.pkl\")"
      ],
      "metadata": {
        "colab": {
          "base_uri": "https://localhost:8080/"
        },
        "id": "2qJk7-pg4EeS",
        "outputId": "5b33c53e-d72b-4a6f-ca5b-fed6ce626bcc"
      },
      "execution_count": null,
      "outputs": [
        {
          "output_type": "execute_result",
          "data": {
            "text/plain": [
              "['crypto_liquidity_model.pkl']"
            ]
          },
          "metadata": {},
          "execution_count": 22
        }
      ]
    },
    {
      "cell_type": "code",
      "source": [
        "#rebuild a DataFrame with the original column names before adding predictions\n",
        "# Get original feature names BEFORE scaling\n",
        "feature_names = X.columns\n",
        "\n",
        "# Convert back to DataFrame\n",
        "X_test_df = pd.DataFrame(X_test, columns=feature_names)"
      ],
      "metadata": {
        "id": "2R5hkaVj4y0u"
      },
      "execution_count": null,
      "outputs": []
    },
    {
      "cell_type": "code",
      "source": [
        "# Ensure y_test is aligned properly\n",
        "results = X_test_df.copy()\n",
        "results['Actual'] = y_test.values  # Convert y_test Series to NumPy if needed\n",
        "results['Predicted'] = y_pred\n",
        "\n",
        "# Save to CSV\n",
        "results.to_csv(\"crypto_liquidity_predictions.csv\", index=False)\n",
        "print(\"Predictions exported to crypto_liquidity_predictions.csv\")\n"
      ],
      "metadata": {
        "colab": {
          "base_uri": "https://localhost:8080/"
        },
        "id": "ejZ0SJtz4ejc",
        "outputId": "f896aec6-915e-43cd-d426-27aa307bbfb7"
      },
      "execution_count": null,
      "outputs": [
        {
          "output_type": "stream",
          "name": "stdout",
          "text": [
            "Predictions exported to crypto_liquidity_predictions.csv\n"
          ]
        }
      ]
    },
    {
      "cell_type": "code",
      "source": [
        "# 1. Convert X_test back to a DataFrame\n",
        "feature_names = X.columns\n",
        "X_test_df = pd.DataFrame(X_test, columns=feature_names)\n",
        "\n",
        "# 2. Merge predictions with actual values\n",
        "results = X_test_df.copy()\n",
        "results['Actual'] = y_test.values\n",
        "results['Predicted'] = y_pred\n",
        "\n",
        "# 3. Export results\n",
        "results.to_csv(\"crypto_liquidity_predictions.csv\", index=False)\n",
        "\n",
        "print(\"Predictions successfully saved to crypto_liquidity_predictions.csv\")\n",
        "print(results.head())"
      ],
      "metadata": {
        "colab": {
          "base_uri": "https://localhost:8080/"
        },
        "id": "wA_3mnGZ469O",
        "outputId": "0a0960b3-e674-414c-96fa-48efa6645387"
      },
      "execution_count": null,
      "outputs": [
        {
          "output_type": "stream",
          "name": "stdout",
          "text": [
            "Predictions successfully saved to crypto_liquidity_predictions.csv\n",
            "      price        1h       24h        7d  24h_volume   mkt_cap  \\\n",
            "0 -0.141872  2.943371  3.054063  1.002962   -0.092697 -0.095559   \n",
            "1 -0.141696 -0.263150 -0.354063 -0.049278   -0.095604 -0.081677   \n",
            "2 -0.141920  0.564339 -0.032878 -0.266049   -0.093937 -0.085228   \n",
            "3  0.183527  0.081637  0.431055 -0.356370   -0.097249 -0.096374   \n",
            "4 -0.141463  0.564339 -0.835840  0.181040   -0.084088 -0.091863   \n",
            "\n",
            "   volume_mcap_ratio  abs_1h_change  abs_24h_change  abs_7d_change  \\\n",
            "0           0.061212       2.966556        3.195376       0.780523   \n",
            "1          -0.302649      -0.403025       -0.618654      -0.343007   \n",
            "2          -0.251732       0.466545       -0.259216      -0.198346   \n",
            "3          -0.294941      -0.040704        0.259971      -0.101906   \n",
            "4           0.258559       0.466545       -0.199310      -0.097084   \n",
            "\n",
            "   liquidity_label  log_mkt_cap  volatility_score  volume_growth_rate  Actual  \\\n",
            "0        -0.318195    -0.631605          1.605235           -0.049557       1   \n",
            "1        -0.318195     0.331302         -0.469735           -0.049956       0   \n",
            "2        -0.318195     0.184223         -0.242067           -0.050202       0   \n",
            "3        -0.318195    -0.767907         -0.006411           -0.050201       0   \n",
            "4        -0.318195    -0.221792         -0.140216           -0.050193       1   \n",
            "\n",
            "   Predicted  \n",
            "0          1  \n",
            "1          0  \n",
            "2          0  \n",
            "3          0  \n",
            "4          1  \n"
          ]
        }
      ]
    },
    {
      "cell_type": "code",
      "source": [
        "import os\n",
        "print(os.listdir())  # Should include crypto_liquidity_predictions.csv"
      ],
      "metadata": {
        "colab": {
          "base_uri": "https://localhost:8080/"
        },
        "id": "EevxYjrX4-ZY",
        "outputId": "f38017d6-1e47-4767-eace-f7b18fb56dc6"
      },
      "execution_count": null,
      "outputs": [
        {
          "output_type": "stream",
          "name": "stdout",
          "text": [
            "['.config', 'coin_gecko_2022-03-16.csv', 'crypto_liquidity_model.pkl', 'crypto_liquidity_predictions.csv', 'crypto_liquidity_cleaned.csv', 'coin_gecko_2022-03-17.csv', 'sample_data']\n"
          ]
        }
      ]
    },
    {
      "cell_type": "code",
      "source": [
        "from google.colab import files\n",
        "files.download(\"crypto_liquidity_predictions.csv\")"
      ],
      "metadata": {
        "colab": {
          "base_uri": "https://localhost:8080/",
          "height": 17
        },
        "id": "TflMP8bo5BXF",
        "outputId": "ded0bd72-a28c-4358-a078-d6b93501ef65"
      },
      "execution_count": null,
      "outputs": [
        {
          "output_type": "display_data",
          "data": {
            "text/plain": [
              "<IPython.core.display.Javascript object>"
            ],
            "application/javascript": [
              "\n",
              "    async function download(id, filename, size) {\n",
              "      if (!google.colab.kernel.accessAllowed) {\n",
              "        return;\n",
              "      }\n",
              "      const div = document.createElement('div');\n",
              "      const label = document.createElement('label');\n",
              "      label.textContent = `Downloading \"${filename}\": `;\n",
              "      div.appendChild(label);\n",
              "      const progress = document.createElement('progress');\n",
              "      progress.max = size;\n",
              "      div.appendChild(progress);\n",
              "      document.body.appendChild(div);\n",
              "\n",
              "      const buffers = [];\n",
              "      let downloaded = 0;\n",
              "\n",
              "      const channel = await google.colab.kernel.comms.open(id);\n",
              "      // Send a message to notify the kernel that we're ready.\n",
              "      channel.send({})\n",
              "\n",
              "      for await (const message of channel.messages) {\n",
              "        // Send a message to notify the kernel that we're ready.\n",
              "        channel.send({})\n",
              "        if (message.buffers) {\n",
              "          for (const buffer of message.buffers) {\n",
              "            buffers.push(buffer);\n",
              "            downloaded += buffer.byteLength;\n",
              "            progress.value = downloaded;\n",
              "          }\n",
              "        }\n",
              "      }\n",
              "      const blob = new Blob(buffers, {type: 'application/binary'});\n",
              "      const a = document.createElement('a');\n",
              "      a.href = window.URL.createObjectURL(blob);\n",
              "      a.download = filename;\n",
              "      div.appendChild(a);\n",
              "      a.click();\n",
              "      div.remove();\n",
              "    }\n",
              "  "
            ]
          },
          "metadata": {}
        },
        {
          "output_type": "display_data",
          "data": {
            "text/plain": [
              "<IPython.core.display.Javascript object>"
            ],
            "application/javascript": [
              "download(\"download_6766641d-487d-41ff-be8b-f991a667ae83\", \"crypto_liquidity_predictions.csv\", 57682)"
            ]
          },
          "metadata": {}
        }
      ]
    },
    {
      "cell_type": "code",
      "source": [
        "import pandas as pd\n",
        "\n",
        "# Recreate DataFrame from NumPy array\n",
        "feature_names = X.columns  # Original feature names before scaling\n",
        "X_test_df = pd.DataFrame(X_test, columns=feature_names)\n"
      ],
      "metadata": {
        "id": "1-67pbvk5gME"
      },
      "execution_count": null,
      "outputs": []
    },
    {
      "cell_type": "code",
      "source": [
        "# Create results DataFrame\n",
        "results = X_test_df.copy()\n",
        "\n",
        "# Add actual target and predicted target\n",
        "results['Actual'] = y_test.values  # Ensure y_test is aligned properly\n",
        "results['Predicted'] = y_pred\n",
        "\n",
        "# Preview\n",
        "print(results.head())"
      ],
      "metadata": {
        "colab": {
          "base_uri": "https://localhost:8080/"
        },
        "id": "YcG84HAL5ty0",
        "outputId": "58a0c2fd-af88-49ee-9e37-cc96f260ea87"
      },
      "execution_count": null,
      "outputs": [
        {
          "output_type": "stream",
          "name": "stdout",
          "text": [
            "      price        1h       24h        7d  24h_volume   mkt_cap  \\\n",
            "0 -0.141872  2.943371  3.054063  1.002962   -0.092697 -0.095559   \n",
            "1 -0.141696 -0.263150 -0.354063 -0.049278   -0.095604 -0.081677   \n",
            "2 -0.141920  0.564339 -0.032878 -0.266049   -0.093937 -0.085228   \n",
            "3  0.183527  0.081637  0.431055 -0.356370   -0.097249 -0.096374   \n",
            "4 -0.141463  0.564339 -0.835840  0.181040   -0.084088 -0.091863   \n",
            "\n",
            "   volume_mcap_ratio  abs_1h_change  abs_24h_change  abs_7d_change  \\\n",
            "0           0.061212       2.966556        3.195376       0.780523   \n",
            "1          -0.302649      -0.403025       -0.618654      -0.343007   \n",
            "2          -0.251732       0.466545       -0.259216      -0.198346   \n",
            "3          -0.294941      -0.040704        0.259971      -0.101906   \n",
            "4           0.258559       0.466545       -0.199310      -0.097084   \n",
            "\n",
            "   liquidity_label  log_mkt_cap  volatility_score  volume_growth_rate  Actual  \\\n",
            "0        -0.318195    -0.631605          1.605235           -0.049557       1   \n",
            "1        -0.318195     0.331302         -0.469735           -0.049956       0   \n",
            "2        -0.318195     0.184223         -0.242067           -0.050202       0   \n",
            "3        -0.318195    -0.767907         -0.006411           -0.050201       0   \n",
            "4        -0.318195    -0.221792         -0.140216           -0.050193       1   \n",
            "\n",
            "   Predicted  \n",
            "0          1  \n",
            "1          0  \n",
            "2          0  \n",
            "3          0  \n",
            "4          1  \n"
          ]
        }
      ]
    },
    {
      "cell_type": "code",
      "source": [
        "#Export predictions for reporting\n",
        "\n",
        "# 1. Convert X_test (NumPy array) back to DataFrame\n",
        "feature_names = X.columns\n",
        "X_test_df = pd.DataFrame(X_test, columns=feature_names)\n",
        "\n",
        "# 2. Add Actual and Predicted columns\n",
        "results = X_test_df.copy()\n",
        "results['Actual'] = y_test.values\n",
        "results['Predicted'] = y_pred\n",
        "\n",
        "# 3. Save to CSV\n",
        "results.to_csv(\"crypto_liquidity_predictions.csv\", index=False)\n",
        "print(\"Predictions successfully saved!\")\n",
        "\n",
        "# 4. Preview\n",
        "print(results.head())"
      ],
      "metadata": {
        "colab": {
          "base_uri": "https://localhost:8080/"
        },
        "id": "WAdyVQnR6F_b",
        "outputId": "9ce875f5-27b6-486f-e102-dc1fd6ff38e6"
      },
      "execution_count": null,
      "outputs": [
        {
          "output_type": "stream",
          "name": "stdout",
          "text": [
            "Predictions successfully saved!\n",
            "      price        1h       24h        7d  24h_volume   mkt_cap  \\\n",
            "0 -0.141872  2.943371  3.054063  1.002962   -0.092697 -0.095559   \n",
            "1 -0.141696 -0.263150 -0.354063 -0.049278   -0.095604 -0.081677   \n",
            "2 -0.141920  0.564339 -0.032878 -0.266049   -0.093937 -0.085228   \n",
            "3  0.183527  0.081637  0.431055 -0.356370   -0.097249 -0.096374   \n",
            "4 -0.141463  0.564339 -0.835840  0.181040   -0.084088 -0.091863   \n",
            "\n",
            "   volume_mcap_ratio  abs_1h_change  abs_24h_change  abs_7d_change  \\\n",
            "0           0.061212       2.966556        3.195376       0.780523   \n",
            "1          -0.302649      -0.403025       -0.618654      -0.343007   \n",
            "2          -0.251732       0.466545       -0.259216      -0.198346   \n",
            "3          -0.294941      -0.040704        0.259971      -0.101906   \n",
            "4           0.258559       0.466545       -0.199310      -0.097084   \n",
            "\n",
            "   liquidity_label  log_mkt_cap  volatility_score  volume_growth_rate  Actual  \\\n",
            "0        -0.318195    -0.631605          1.605235           -0.049557       1   \n",
            "1        -0.318195     0.331302         -0.469735           -0.049956       0   \n",
            "2        -0.318195     0.184223         -0.242067           -0.050202       0   \n",
            "3        -0.318195    -0.767907         -0.006411           -0.050201       0   \n",
            "4        -0.318195    -0.221792         -0.140216           -0.050193       1   \n",
            "\n",
            "   Predicted  \n",
            "0          1  \n",
            "1          0  \n",
            "2          0  \n",
            "3          0  \n",
            "4          1  \n"
          ]
        }
      ]
    },
    {
      "cell_type": "markdown",
      "source": [
        "**7. Hyperparameter Tuning**\n",
        "Use GridSearchCV to find optimal Random Forest parameters"
      ],
      "metadata": {
        "id": "0dIcDMTZ7F2Z"
      }
    },
    {
      "cell_type": "code",
      "source": [
        "from sklearn.model_selection import GridSearchCV\n",
        "\n",
        "param_grid = {\n",
        "    'n_estimators': [50, 100, 200],\n",
        "    'max_depth': [None, 10, 20],\n",
        "    'min_samples_split': [2, 5, 10]\n",
        "}\n",
        "\n",
        "grid_search = GridSearchCV(model, param_grid, cv=3, scoring='accuracy')\n",
        "grid_search.fit(X_train, y_train)\n",
        "\n",
        "print(\"Best Parameters:\", grid_search.best_params_)"
      ],
      "metadata": {
        "colab": {
          "base_uri": "https://localhost:8080/"
        },
        "id": "BnQokMK_67xI",
        "outputId": "5ba9795f-0cf3-47dd-d847-4ec4b0e18842"
      },
      "execution_count": null,
      "outputs": [
        {
          "output_type": "stream",
          "name": "stdout",
          "text": [
            "Best Parameters: {'max_depth': 10, 'min_samples_split': 2, 'n_estimators': 50}\n"
          ]
        }
      ]
    },
    {
      "cell_type": "markdown",
      "source": [
        "#Deliverables 2\n",
        "EDA Report"
      ],
      "metadata": {
        "id": "XRsh7cF3-Yhc"
      }
    },
    {
      "cell_type": "code",
      "source": [
        "print(df.describe())"
      ],
      "metadata": {
        "colab": {
          "base_uri": "https://localhost:8080/"
        },
        "id": "TkoPNXVc7khd",
        "outputId": "3ac65da7-b650-47f5-ec28-5ee452dfcf41"
      },
      "execution_count": null,
      "outputs": [
        {
          "output_type": "stream",
          "name": "stdout",
          "text": [
            "              price          1h         24h          7d    24h_volume  \\\n",
            "count  9.930000e+02  993.000000  993.000000  993.000000  9.930000e+02   \n",
            "mean   6.194355e+02    0.009723    0.023737    0.023535  2.893109e+08   \n",
            "std    4.419811e+03    0.026934    0.059303    0.229667  2.769908e+09   \n",
            "min    1.484000e-09   -0.704000   -0.646000   -0.558000  0.000000e+00   \n",
            "25%    1.944270e-01    0.001000    0.001000   -0.041000  1.766976e+06   \n",
            "50%    1.100000e+00    0.006000    0.016000    0.000000  8.343005e+06   \n",
            "75%    7.150000e+00    0.019000    0.035000    0.037000  4.003652e+07   \n",
            "max    4.121727e+04    0.095000    0.577000    4.608000  5.793497e+10   \n",
            "\n",
            "            mkt_cap  volume_mcap_ratio  abs_1h_change  abs_24h_change  \\\n",
            "count  9.930000e+02         993.000000     993.000000      993.000000   \n",
            "mean   3.780941e+09           0.103743       0.013048        0.034553   \n",
            "std    3.817057e+10           0.366932       0.025488        0.053719   \n",
            "min    6.577043e+07           0.000000       0.000000        0.000000   \n",
            "25%    1.158653e+08           0.008774       0.002000        0.008000   \n",
            "50%    2.135646e+08           0.033798       0.007000        0.021000   \n",
            "75%    6.025829e+08           0.088332       0.020000        0.040000   \n",
            "max    7.760774e+11           5.948545       0.704000        0.646000   \n",
            "\n",
            "       abs_7d_change  liquidity_label  log_mkt_cap  volatility_score  \\\n",
            "count     993.000000       993.000000   993.000000        993.000000   \n",
            "mean        0.082924         0.100705    19.615580          0.053902   \n",
            "std         0.215448         0.301089     1.459898          0.106888   \n",
            "min         0.000000         0.000000    18.001681          0.000000   \n",
            "25%         0.014000         0.000000    18.567939          0.017800   \n",
            "50%         0.038000         0.000000    19.179450          0.032000   \n",
            "75%         0.081000         0.000000    20.216736          0.055200   \n",
            "max         4.608000         1.000000    27.377518          2.098200   \n",
            "\n",
            "       volume_growth_rate  high_liquidity  \n",
            "count          993.000000      993.000000  \n",
            "mean                  inf        0.499496  \n",
            "std                   NaN        0.500252  \n",
            "min             -1.000000        0.000000  \n",
            "25%             -0.482861        0.000000  \n",
            "50%             -0.100158        0.000000  \n",
            "75%              1.309522        1.000000  \n",
            "max                   inf        1.000000  \n"
          ]
        }
      ]
    },
    {
      "cell_type": "code",
      "source": [
        "df.groupby('symbol')['mkt_cap'].mean().sort_values(ascending=False).head(10).plot(kind='bar')\n"
      ],
      "metadata": {
        "colab": {
          "base_uri": "https://localhost:8080/",
          "height": 508
        },
        "id": "rvIo7ua-_Azv",
        "outputId": "a2f0abf7-6758-4eed-c714-01aefc4d5567"
      },
      "execution_count": null,
      "outputs": [
        {
          "output_type": "execute_result",
          "data": {
            "text/plain": [
              "<Axes: xlabel='symbol'>"
            ]
          },
          "metadata": {},
          "execution_count": 40
        },
        {
          "output_type": "display_data",
          "data": {
            "text/plain": [
              "<Figure size 640x480 with 1 Axes>"
            ],
            "image/png": "[encoded data removed]"
          },
          "metadata": {}
        }
      ]
    },
    {
      "cell_type": "code",
      "source": [
        "sns.histplot(df['volume_mcap_ratio'], bins=50, kde=True)"
      ],
      "metadata": {
        "colab": {
          "base_uri": "https://localhost:8080/",
          "height": 468
        },
        "id": "jHsknR-__GAT",
        "outputId": "4001f019-5b1c-49b9-c940-cd8ecec89466"
      },
      "execution_count": null,
      "outputs": [
        {
          "output_type": "execute_result",
          "data": {
            "text/plain": [
              "<Axes: xlabel='volume_mcap_ratio', ylabel='Count'>"
            ]
          },
          "metadata": {},
          "execution_count": 41
        },
        {
          "output_type": "display_data",
          "data": {
            "text/plain": [
              "<Figure size 640x480 with 1 Axes>"
            ],
            "image/png": "[encoded data removed]"
          },
          "metadata": {}
        }
      ]
    },
    {
      "cell_type": "markdown",
      "source": [],
      "metadata": {
        "id": "6RfqL3u3_K9n"
      }
    },
    {
      "cell_type": "markdown",
      "source": [
        "#Deliverables 3\n",
        "HLD & LLD Document"
      ],
      "metadata": {
        "id": "B8skUfe7-xaH"
      }
    },
    {
      "cell_type": "markdown",
      "source": [
        "1. High-Level Design (HLD) in pdf attached\n",
        "\n",
        "Project Overview\n",
        "\n",
        "Problem Statement\n",
        "\n",
        "Scope\n",
        "\n",
        "System Architecture Diagram\n",
        "\n",
        "Module Descriptions\n",
        "\n",
        "Technologies Used\n",
        "\n",
        "Data Flow Overview\n",
        "\n",
        "2. Low-Level Design (LLD)\n",
        "\n",
        "The LLD will include:\n",
        "\n",
        "Detailed component breakdown:\n",
        "\n",
        "Preprocessing steps\n",
        "\n",
        "Feature engineering logic\n",
        "\n",
        "Model building & evaluation\n",
        "\n",
        "Deployment flow\n",
        "\n",
        "Algorithms and data transformations\n",
        "\n",
        "Database / file handling structure\n",
        "\n",
        "Error handling & edge cases\n",
        "\n",
        "Final pipeline explanation"
      ],
      "metadata": {
        "id": "k5yHpazKAQzP"
      }
    },
    {
      "cell_type": "markdown",
      "source": [
        "#Deliverables 4\n",
        "Pipeline Architecture and Document"
      ],
      "metadata": {
        "id": "VU3DS3jX_oMs"
      }
    },
    {
      "cell_type": "markdown",
      "source": [
        "Data Source (CoinGecko CSV)\n",
        "\n",
        "    ↓\n",
        "Data Cleaning & Preprocessing\n",
        "\n",
        "    ↓\n",
        "Feature Engineering\n",
        "\n",
        "    ↓\n",
        "Model Training\n",
        "\n",
        "    ↓\n",
        "Evaluation\n",
        "\n",
        "    ↓\n",
        "Deployment"
      ],
      "metadata": {
        "id": "InzU2IU5_e6-"
      }
    },
    {
      "cell_type": "markdown",
      "source": [
        "crypto_liquidity_project/\n",
        "│\n",
        "├── data/\n",
        "│   ├── coin_gecko_2022-03-16.csv\n",
        "│   ├── coin_gecko_2022-03-17.csv\n",
        "│   └── crypto_liquidity_cleaned.csv\n",
        "│\n",
        "├── notebooks/\n",
        "│   ├── EDA.ipynb\n",
        "│   └── Modeling.ipynb\n",
        "│\n",
        "├── reports/\n",
        "│   ├── EDA_Report.pdf\n",
        "│   ├── HLD.pdf\n",
        "│   ├── LLD.pdf\n",
        "│   ├── Pipeline_Architecture.png\n",
        "│   └── Final_Report.pdf\n",
        "│\n",
        "├── model/\n",
        "│   └── crypto_liquidity_model.pkl\n",
        "│\n",
        "├── app/\n",
        "│   └── app.py\n",
        "│\n",
        "└── README.mdg"
      ],
      "metadata": {
        "id": "CtfNhZ6BC9l7"
      }
    }
  ]
}