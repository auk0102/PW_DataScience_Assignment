{
  "nbformat": 4,
  "nbformat_minor": 0,
  "metadata": {
    "colab": {
      "provenance": []
    },
    "kernelspec": {
      "name": "python3",
      "display_name": "Python 3"
    },
    "language_info": {
      "name": "python"
    }
  },
  "cells": [
    {
      "cell_type": "markdown",
      "source": [
        "#ML_SVM&Navie bayes_Assignment\n",
        "## Theoretical Question"
      ],
      "metadata": {
        "id": "HEKlFnOtRhRF"
      }
    },
    {
      "cell_type": "markdown",
      "source": [
        "1.\tWhat is a Support Vector Machine (SVM)\n",
        "- A supervised ML algorithm that finds the best hyperplane to separate classes by maximizing the margin between them\n",
        "2.\tWhat is the difference between Hard Margin and Soft Margin SVM\n",
        "- Hard Margin: Requires perfect separation, no misclassification.\n",
        "- Soft Margin: Allows some errors with penalty, better for noisy/overlapping data.\n",
        "3.\tWhat is the mathematical intuition behind SVM\n",
        "- It maximizes the margin between classes while minimizing classification errors.\n",
        "4.\tWhat is the role of Lagrange Multipliers in SVM\n",
        "- They help convert the constrained optimization problem into a solvable form.\n",
        "5.\tWhat are Support Vectors in SVM\n",
        "- Data points closest to the decision boundary; they define the margin and hyperplane.\n",
        "6.\tWhat is a Support Vector Classifier (SVC)\n",
        "- An SVM model used for classification tasks.\n",
        "7.\tWhat is a Support Vector Regressor (SVR)\n",
        "- An SVM model for regression that tries to fit within a margin of tolerance.\n",
        "8.\tWhat is the Kernel Trick in SVM\n",
        "- It allows SVM to handle non-linear data by mapping it into higher dimensions without explicit transformation.\n",
        "9.\tCompare Linear Kernel, Polynomial Kernel, and RBF Kernel\n",
        "- Linear: Works for linearly separable data, fast.\n",
        "- Polynomial: Captures feature interactions.\n",
        "- RBF: Handles complex, non-linear boundaries.\n",
        "10.\tWhat is the effect of the C parameter in SVM\n",
        "- High C: Less regularization, fewer misclassifications but risk of overfitting.\n",
        "- Low C: More regularization, simpler boundary but more errors allowed.\n",
        "11.\tWhat is the role of the Gamma parameter in RBF Kernel SVM\n",
        "- High Gamma: Focuses on close points, creates complex boundaries (risk of overfitting).\n",
        "- Low Gamma: Smoother, wider influence (risk of underfitting)"
      ],
      "metadata": {
        "id": "TtJD55JTUoCB"
      }
    },
    {
      "cell_type": "markdown",
      "source": [
        "###Naive Bayes\n",
        "\n",
        "12.\tWhat is the Naïve Bayes classifier, and why is it called \"Naïve\"\n",
        "- A probabilistic classifier based on Bayes’ theorem. It is “Naïve” because it assumes features are independent.\n",
        "13.\tWhat is Bayes’ Theorem\n",
        "- It calculates the probability of a class given observed evidence.\n",
        "14.\tExplain the differences between Gaussian Naïve Bayes, Multinomial Naïve Bayes, and Bernoulli Naïve Bayes\n",
        "- Gaussian: For continuous data (assumes normal distribution).\n",
        "- Multinomial: For count data (e.g., word counts).\n",
        "- Bernoulli: For binary features (presence/absence).\n",
        "\n",
        "15.\tWhen should you use Gaussian Naïve Bayes over other variants\n",
        "- When features are continuous and roughly normally distributed.\n",
        "16.\tWhat are the key assumptions made by Naïve Bayes\n",
        "- Features are conditionally independent.\n",
        "- Each feature contributes equally to the outcome.\n",
        "17.\tWhat are the advantages and disadvantages of Naïve Bayes\n",
        "- Advantages: Simple, fast, works well with small data and text classification.\n",
        "- Disadvantages: Independence assumption often unrealistic, may perform poorly with correlated features.\n",
        "18.\tWhy is Naïve Bayes a good choice for text classification\n",
        "- Because word occurrences can be treated as independent features, making it efficient and effective for large vocabularies.\n",
        "19.\tCompare SVM and Naïve Bayes for classification tasks\n",
        "- SVM: Works well on high-dimensional, small to medium datasets, robust but slower.\n",
        "- Naïve Bayes: Very fast, scalable, good for text, but less accurate if independence assumption fails.\n",
        "20.\tHow does Laplace Smoothing help in Naïve Bayes?\n",
        "- It avoids zero probability issues for unseen features by adding a small correction."
      ],
      "metadata": {
        "id": "Y2EBzZVxXdUh"
      }
    },
    {
      "cell_type": "markdown",
      "source": [
        "###Practical Questions\n",
        "\n",
        "21.\tWrite a Python program to train an SVM Classifier on the Iris dataset and evaluate accuracy\n",
        "22.\tWrite a Python program to train two SVM classifiers with Linear and RBF kernels on the Wine dataset, then compare their accuracies\n",
        "23.\tWrite a Python program to train an SVM Regressor (SVR) on a housing dataset and evaluate it using Mean Squared Error (MSE)\n",
        "24.\tWrite a Python program to train an SVM Classifier with a Polynomial Kernel and visualize the decision boundary\n",
        "25.\tWrite a Python program to train a Gaussian Naïve Bayes classifier on the Breast Cancer dataset and evaluate accuracy\n",
        "26.\tWrite a Python program to train a Multinomial Naïve Bayes classifier for text classification using the 20 Newsgroups dataset\n",
        "27.\tWrite a Python program to train an SVM Classifier with different C values and compare the decision boundaries visually\n",
        "28.\tWrite a Python program to train a Bernoulli Naïve Bayes classifier for binary classification on a dataset with binary features\n",
        "29.\tWrite a Python program to apply feature scaling before training an SVM model and compare results with unscaled data\n",
        "30.\tWrite a Python program to train a Gaussian Naïve Bayes model and compare the predictions before and after Laplace Smoothing\n",
        "31.\tWrite a Python program to train an SVM Classifier and use GridSearchCV to tune the hyperparameters (C, gamma, kernel)\n",
        "32.\tWrite a Python program to train an SVM Classifier on an imbalanced dataset and apply class weighting and check if it improves accuracy\n",
        "33.\tWrite a Python program to implement a Naïve Bayes classifier for spam detection using email data\n",
        "34.\tWrite a Python program to train an SVM Classifier and a Naïve Bayes Classifier on the same dataset and compare their accuracy\n",
        "35.\tWrite a Python program to perform feature selection before training a Naïve Bayes classifier and compare results\n",
        "36.\tWrite a Python program to train an SVM Classifier using One-vs-Rest (OvR) and One-vs-One (OvO) strategies on the Wine dataset and compare their accuracy\n",
        "37.\tWrite a Python program to train an SVM Classifier using Linear, Polynomial, and RBF kernels on the Breast Cancer dataset and compare their accuracy\n",
        "38.\tWrite a Python program to train an SVM Classifier using Stratified K-Fold Cross-Validation and compute the average accuracy\n",
        "39.\tWrite a Python program to train a Naïve Bayes classifier using different prior probabilities and compare performance\n",
        "40.\tWrite a Python program to perform Recursive Feature Elimination (RFE) before training an SVM Classifier and compare accuracy\n",
        "41.\tWrite a Python program to train an SVM Classifier and evaluate its performance using Precision, Recall, and F1-Score instead of accuracy\n",
        "42.\tWrite a Python program to train a Naïve Bayes Classifier and evaluate its performance using Log Loss (Cross-Entropy Loss)\n",
        "43.\tWrite a Python program to train an SVM Classifier and visualize the Confusion Matrix using seaborn\n",
        "44.\tWrite a Python program to train an SVM Regressor (SVR) and evaluate its performance using Mean Absolute Error (MAE) instead of MSE\n",
        "45.\tWrite a Python program to train a Naïve Bayes classifier and evaluate its performance using the ROC-AUC score\n",
        "46.\tWrite a Python program to train an SVM Classifier and visualize the Precision-Recall Curve"
      ],
      "metadata": {
        "id": "5qiM8P3lAP2P"
      }
    },
    {
      "cell_type": "code",
      "source": [
        "#21 Write a Python program to train an SVM Classifier on the Iris dataset and evaluate accuracy\n",
        "from sklearn.datasets import load_iris\n",
        "from sklearn.model_selection import train_test_split\n",
        "from sklearn.svm import SVC\n",
        "from sklearn.metrics import accuracy_score\n",
        "\n",
        "X,y = load_iris(return_X_y=True)\n",
        "Xtr,Xte,ytr,yte = train_test_split(X,y,test_size=0.2,random_state=42)\n",
        "clf = SVC().fit(Xtr,ytr)\n",
        "print(\"Accuracy:\", accuracy_score(yte, clf.predict(Xte)))"
      ],
      "metadata": {
        "colab": {
          "base_uri": "https://localhost:8080/"
        },
        "id": "P0g7Thk4AZyq",
        "outputId": "d28387b1-efed-41e2-bccd-8d6d440cb4ba"
      },
      "execution_count": 1,
      "outputs": [
        {
          "output_type": "stream",
          "name": "stdout",
          "text": [
            "Accuracy: 1.0\n"
          ]
        }
      ]
    },
    {
      "cell_type": "code",
      "source": [
        "#22 Write a Python program to train two SVM classifiers with Linear and RBF kernels on the Wine dataset, then compare their accuracies\n",
        "from sklearn.datasets import load_wine\n",
        "X,y = load_wine(return_X_y=True)\n",
        "Xtr,Xte,ytr,yte = train_test_split(X,y,test_size=0.2,random_state=42)\n",
        "print(\"Linear:\", SVC(kernel='linear').fit(Xtr,ytr).score(Xte,yte))\n",
        "print(\"RBF:\", SVC(kernel='rbf').fit(Xtr,ytr).score(Xte,yte))\n"
      ],
      "metadata": {
        "colab": {
          "base_uri": "https://localhost:8080/"
        },
        "id": "gTtsH204XaiG",
        "outputId": "c62d3395-db9c-4ccd-b527-a76c7a69e573"
      },
      "execution_count": 2,
      "outputs": [
        {
          "output_type": "stream",
          "name": "stdout",
          "text": [
            "Linear: 1.0\n",
            "RBF: 0.8055555555555556\n"
          ]
        }
      ]
    },
    {
      "cell_type": "code",
      "source": [
        "#23 Write a Python program to train an SVM Regressor (SVR) on a housing dataset and evaluate it using Mean Squared Error (MSE)\n",
        "from sklearn.datasets import fetch_california_housing\n",
        "from sklearn.svm import SVR\n",
        "from sklearn.metrics import mean_squared_error\n",
        "X,y = fetch_california_housing(return_X_y=True)\n",
        "Xtr,Xte,ytr,yte = train_test_split(X,y,test_size=0.2,random_state=42)\n",
        "svr = SVR(kernel='rbf').fit(Xtr,ytr)\n",
        "print(\"MSE:\", mean_squared_error(yte, svr.predict(Xte)))\n"
      ],
      "metadata": {
        "colab": {
          "base_uri": "https://localhost:8080/"
        },
        "id": "rAC5MmBhAnpt",
        "outputId": "80effc4e-b1c8-4581-87e1-76a9f42bd7cf"
      },
      "execution_count": 3,
      "outputs": [
        {
          "output_type": "stream",
          "name": "stdout",
          "text": [
            "MSE: 1.3320115421348744\n"
          ]
        }
      ]
    },
    {
      "cell_type": "code",
      "source": [
        "#24 Write a Python program to train an SVM Classifier with a Polynomial Kernel and visualize the decision boundary\n",
        "import matplotlib.pyplot as plt\n",
        "import numpy as np\n",
        "from sklearn.datasets import load_iris\n",
        "from sklearn.model_selection import train_test_split\n",
        "from sklearn.svm import SVC\n",
        "\n",
        "# Load only first 2 features for 2D plot\n",
        "X, y = load_iris(return_X_y=True)\n",
        "X = X[:, :2]   # sepal length & width\n",
        "X_train, X_test, y_train, y_test = train_test_split(X, y, test_size=0.2, random_state=42)\n",
        "\n",
        "# Train SVM with polynomial kernel\n",
        "clf = SVC(kernel='poly', degree=3, C=1).fit(X_train, y_train)\n",
        "\n",
        "# Create meshgrid for decision boundary\n",
        "x_min, x_max = X[:, 0].min() - 1, X[:, 0].max() + 1\n",
        "y_min, y_max = X[:, 1].min() - 1, X[:, 1].max() + 1\n",
        "xx, yy = np.meshgrid(np.linspace(x_min, x_max, 300),\n",
        "                     np.linspace(y_min, y_max, 300))\n",
        "\n",
        "# Predict for grid\n",
        "Z = clf.predict(np.c_[xx.ravel(), yy.ravel()])\n",
        "Z = Z.reshape(xx.shape)\n",
        "\n",
        "# Plot contour + data points\n",
        "plt.contourf(xx, yy, Z, alpha=0.3, cmap=plt.cm.Set1)\n",
        "plt.scatter(X[:, 0], X[:, 1], c=y, edgecolors='k', cmap=plt.cm.Set1)\n",
        "plt.xlabel(\"Sepal length\")\n",
        "plt.ylabel(\"Sepal width\")\n",
        "plt.title(\"SVM with Polynomial Kernel (degree=3)\")\n",
        "plt.show()\n"
      ],
      "metadata": {
        "colab": {
          "base_uri": "https://localhost:8080/",
          "height": 472
        },
        "id": "CzYxVJcxAvrm",
        "outputId": "91e0b2c3-ed9c-4d2a-e3c2-4d3654311b88"
      },
      "execution_count": 5,
      "outputs": [
        {
          "output_type": "display_data",
          "data": {
            "text/plain": [
              "<Figure size 640x480 with 1 Axes>"
            ],
            "image/png": "[encoded data removed]"
          },
          "metadata": {}
        }
      ]
    },
    {
      "cell_type": "code",
      "source": [
        "#25\n",
        "from sklearn.datasets import load_breast_cancer\n",
        "from sklearn.naive_bayes import GaussianNB\n",
        "X,y = load_breast_cancer(return_X_y=True)\n",
        "Xtr,Xte,ytr,yte = train_test_split(X,y,test_size=0.2,random_state=42)\n",
        "gnb = GaussianNB().fit(Xtr,ytr)\n",
        "print(\"Accuracy:\", gnb.score(Xte,yte))\n"
      ],
      "metadata": {
        "colab": {
          "base_uri": "https://localhost:8080/"
        },
        "id": "VJzW3NADBPG2",
        "outputId": "2cd3ac45-55cd-444f-db66-ab0e186b0f62"
      },
      "execution_count": 6,
      "outputs": [
        {
          "output_type": "stream",
          "name": "stdout",
          "text": [
            "Accuracy: 0.9736842105263158\n"
          ]
        }
      ]
    },
    {
      "cell_type": "code",
      "source": [
        "#26\n",
        "from sklearn.datasets import fetch_20newsgroups\n",
        "from sklearn.feature_extraction.text import CountVectorizer\n",
        "from sklearn.naive_bayes import MultinomialNB\n",
        "X,y = fetch_20newsgroups(subset='train', return_X_y=True)\n",
        "vec = CountVectorizer()\n",
        "Xvec = vec.fit_transform(X)\n",
        "print(\"Accuracy:\", MultinomialNB().fit(Xvec,y).score(Xvec,y))\n"
      ],
      "metadata": {
        "colab": {
          "base_uri": "https://localhost:8080/"
        },
        "id": "DxgAvFCCB93C",
        "outputId": "967091ac-9ede-482b-afc4-c59c060b42fa"
      },
      "execution_count": 7,
      "outputs": [
        {
          "output_type": "stream",
          "name": "stdout",
          "text": [
            "Accuracy: 0.9245182959165635\n"
          ]
        }
      ]
    },
    {
      "cell_type": "code",
      "source": [
        "#27\n",
        "import matplotlib.pyplot as plt\n",
        "import numpy as np\n",
        "from sklearn.datasets import load_iris\n",
        "from sklearn.model_selection import train_test_split\n",
        "from sklearn.svm import SVC\n",
        "\n",
        "# Load first 2 features of iris for visualization\n",
        "X, y = load_iris(return_X_y=True)\n",
        "X = X[:, :2]\n",
        "X_train, X_test, y_train, y_test = train_test_split(X, y, test_size=0.2, random_state=42)\n",
        "\n",
        "# Different C values\n",
        "C_values = [0.1, 1, 10]\n",
        "\n",
        "fig, axes = plt.subplots(1, 3, figsize=(15, 4))\n",
        "\n",
        "for i, C in enumerate(C_values):\n",
        "    clf = SVC(kernel='linear', C=C).fit(X_train, y_train)\n",
        "\n",
        "    # Create meshgrid\n",
        "    x_min, x_max = X[:, 0].min() - 1, X[:, 0].max() + 1\n",
        "    y_min, y_max = X[:, 1].min() - 1, X[:, 1].max() + 1\n",
        "    xx, yy = np.meshgrid(np.linspace(x_min, x_max, 300),\n",
        "                         np.linspace(y_min, y_max, 300))\n",
        "    Z = clf.predict(np.c_[xx.ravel(), yy.ravel()])\n",
        "    Z = Z.reshape(xx.shape)\n",
        "\n",
        "    # Plot decision boundary\n",
        "    axes[i].contourf(xx, yy, Z, alpha=0.3, cmap=plt.cm.Set1)\n",
        "    axes[i].scatter(X[:, 0], X[:, 1], c=y, edgecolors='k', cmap=plt.cm.Set1)\n",
        "    axes[i].set_title(f\"SVM Linear Kernel (C={C})\")\n",
        "\n",
        "plt.tight_layout()\n",
        "plt.show()\n"
      ],
      "metadata": {
        "colab": {
          "base_uri": "https://localhost:8080/",
          "height": 235
        },
        "id": "Uh62RGhZCAsb",
        "outputId": "35779910-b50e-4539-a0fd-3e27a9076cba"
      },
      "execution_count": 8,
      "outputs": [
        {
          "output_type": "display_data",
          "data": {
            "text/plain": [
              "<Figure size 1500x400 with 3 Axes>"
            ],
            "image/png": "[encoded data removed]"
          },
          "metadata": {}
        }
      ]
    },
    {
      "cell_type": "code",
      "source": [
        "#28\n",
        "from sklearn.naive_bayes import BernoulliNB\n",
        "import numpy as np\n",
        "X = np.random.randint(2,size=(10,5)); y = np.random.randint(2,size=10)\n",
        "clf = BernoulliNB().fit(X,y)\n",
        "print(\"Predictions:\", clf.predict(X))\n"
      ],
      "metadata": {
        "colab": {
          "base_uri": "https://localhost:8080/"
        },
        "id": "ieuyQ0GdCMik",
        "outputId": "505f1efa-3995-4c0e-b919-fed03e976ea0"
      },
      "execution_count": 9,
      "outputs": [
        {
          "output_type": "stream",
          "name": "stdout",
          "text": [
            "Predictions: [0 1 1 0 1 1 0 1 1 1]\n"
          ]
        }
      ]
    },
    {
      "cell_type": "code",
      "source": [
        "#29\n",
        "from sklearn.preprocessing import StandardScaler\n",
        "from sklearn.pipeline import Pipeline\n",
        "pipe = Pipeline([('sc',StandardScaler()),('svm',SVC())])\n",
        "pipe.fit(Xtr,ytr)\n"
      ],
      "metadata": {
        "colab": {
          "base_uri": "https://localhost:8080/",
          "height": 157
        },
        "id": "ukbPLnhCCRyD",
        "outputId": "a2c9467f-8f83-4e2f-eb86-f399741ca320"
      },
      "execution_count": 10,
      "outputs": [
        {
          "output_type": "execute_result",
          "data": {
            "text/plain": [
              "Pipeline(steps=[('sc', StandardScaler()), ('svm', SVC())])"
            ],
            "text/html": [
              "<style>#sk-container-id-1 {\n",
              "  /* Definition of color scheme common for light and dark mode */\n",
              "  --sklearn-color-text: #000;\n",
              "  --sklearn-color-text-muted: #666;\n",
              "  --sklearn-color-line: gray;\n",
              "  /* Definition of color scheme for unfitted estimators */\n",
              "  --sklearn-color-unfitted-level-0: #fff5e6;\n",
              "  --sklearn-color-unfitted-level-1: #f6e4d2;\n",
              "  --sklearn-color-unfitted-level-2: #ffe0b3;\n",
              "  --sklearn-color-unfitted-level-3: chocolate;\n",
              "  /* Definition of color scheme for fitted estimators */\n",
              "  --sklearn-color-fitted-level-0: #f0f8ff;\n",
              "  --sklearn-color-fitted-level-1: #d4ebff;\n",
              "  --sklearn-color-fitted-level-2: #b3dbfd;\n",
              "  --sklearn-color-fitted-level-3: cornflowerblue;\n",
              "\n",
              "  /* Specific color for light theme */\n",
              "  --sklearn-color-text-on-default-background: var(--sg-text-color, var(--theme-code-foreground, var(--jp-content-font-color1, black)));\n",
              "  --sklearn-color-background: var(--sg-background-color, var(--theme-background, var(--jp-layout-color0, white)));\n",
              "  --sklearn-color-border-box: var(--sg-text-color, var(--theme-code-foreground, var(--jp-content-font-color1, black)));\n",
              "  --sklearn-color-icon: #696969;\n",
              "\n",
              "  @media (prefers-color-scheme: dark) {\n",
              "    /* Redefinition of color scheme for dark theme */\n",
              "    --sklearn-color-text-on-default-background: var(--sg-text-color, var(--theme-code-foreground, var(--jp-content-font-color1, white)));\n",
              "    --sklearn-color-background: var(--sg-background-color, var(--theme-background, var(--jp-layout-color0, #111)));\n",
              "    --sklearn-color-border-box: var(--sg-text-color, var(--theme-code-foreground, var(--jp-content-font-color1, white)));\n",
              "    --sklearn-color-icon: #878787;\n",
              "  }\n",
              "}\n",
              "\n",
              "#sk-container-id-1 {\n",
              "  color: var(--sklearn-color-text);\n",
              "}\n",
              "\n",
              "#sk-container-id-1 pre {\n",
              "  padding: 0;\n",
              "}\n",
              "\n",
              "#sk-container-id-1 input.sk-hidden--visually {\n",
              "  border: 0;\n",
              "  clip: rect(1px 1px 1px 1px);\n",
              "  clip: rect(1px, 1px, 1px, 1px);\n",
              "  height: 1px;\n",
              "  margin: -1px;\n",
              "  overflow: hidden;\n",
              "  padding: 0;\n",
              "  position: absolute;\n",
              "  width: 1px;\n",
              "}\n",
              "\n",
              "#sk-container-id-1 div.sk-dashed-wrapped {\n",
              "  border: 1px dashed var(--sklearn-color-line);\n",
              "  margin: 0 0.4em 0.5em 0.4em;\n",
              "  box-sizing: border-box;\n",
              "  padding-bottom: 0.4em;\n",
              "  background-color: var(--sklearn-color-background);\n",
              "}\n",
              "\n",
              "#sk-container-id-1 div.sk-container {\n",
              "  /* jupyter's `normalize.less` sets `[hidden] { display: none; }`\n",
              "     but bootstrap.min.css set `[hidden] { display: none !important; }`\n",
              "     so we also need the `!important` here to be able to override the\n",
              "     default hidden behavior on the sphinx rendered scikit-learn.org.\n",
              "     See: https://github.com/scikit-learn/scikit-learn/issues/21755 */\n",
              "  display: inline-block !important;\n",
              "  position: relative;\n",
              "}\n",
              "\n",
              "#sk-container-id-1 div.sk-text-repr-fallback {\n",
              "  display: none;\n",
              "}\n",
              "\n",
              "div.sk-parallel-item,\n",
              "div.sk-serial,\n",
              "div.sk-item {\n",
              "  /* draw centered vertical line to link estimators */\n",
              "  background-image: linear-gradient(var(--sklearn-color-text-on-default-background), var(--sklearn-color-text-on-default-background));\n",
              "  background-size: 2px 100%;\n",
              "  background-repeat: no-repeat;\n",
              "  background-position: center center;\n",
              "}\n",
              "\n",
              "/* Parallel-specific style estimator block */\n",
              "\n",
              "#sk-container-id-1 div.sk-parallel-item::after {\n",
              "  content: \"\";\n",
              "  width: 100%;\n",
              "  border-bottom: 2px solid var(--sklearn-color-text-on-default-background);\n",
              "  flex-grow: 1;\n",
              "}\n",
              "\n",
              "#sk-container-id-1 div.sk-parallel {\n",
              "  display: flex;\n",
              "  align-items: stretch;\n",
              "  justify-content: center;\n",
              "  background-color: var(--sklearn-color-background);\n",
              "  position: relative;\n",
              "}\n",
              "\n",
              "#sk-container-id-1 div.sk-parallel-item {\n",
              "  display: flex;\n",
              "  flex-direction: column;\n",
              "}\n",
              "\n",
              "#sk-container-id-1 div.sk-parallel-item:first-child::after {\n",
              "  align-self: flex-end;\n",
              "  width: 50%;\n",
              "}\n",
              "\n",
              "#sk-container-id-1 div.sk-parallel-item:last-child::after {\n",
              "  align-self: flex-start;\n",
              "  width: 50%;\n",
              "}\n",
              "\n",
              "#sk-container-id-1 div.sk-parallel-item:only-child::after {\n",
              "  width: 0;\n",
              "}\n",
              "\n",
              "/* Serial-specific style estimator block */\n",
              "\n",
              "#sk-container-id-1 div.sk-serial {\n",
              "  display: flex;\n",
              "  flex-direction: column;\n",
              "  align-items: center;\n",
              "  background-color: var(--sklearn-color-background);\n",
              "  padding-right: 1em;\n",
              "  padding-left: 1em;\n",
              "}\n",
              "\n",
              "\n",
              "/* Toggleable style: style used for estimator/Pipeline/ColumnTransformer box that is\n",
              "clickable and can be expanded/collapsed.\n",
              "- Pipeline and ColumnTransformer use this feature and define the default style\n",
              "- Estimators will overwrite some part of the style using the `sk-estimator` class\n",
              "*/\n",
              "\n",
              "/* Pipeline and ColumnTransformer style (default) */\n",
              "\n",
              "#sk-container-id-1 div.sk-toggleable {\n",
              "  /* Default theme specific background. It is overwritten whether we have a\n",
              "  specific estimator or a Pipeline/ColumnTransformer */\n",
              "  background-color: var(--sklearn-color-background);\n",
              "}\n",
              "\n",
              "/* Toggleable label */\n",
              "#sk-container-id-1 label.sk-toggleable__label {\n",
              "  cursor: pointer;\n",
              "  display: flex;\n",
              "  width: 100%;\n",
              "  margin-bottom: 0;\n",
              "  padding: 0.5em;\n",
              "  box-sizing: border-box;\n",
              "  text-align: center;\n",
              "  align-items: start;\n",
              "  justify-content: space-between;\n",
              "  gap: 0.5em;\n",
              "}\n",
              "\n",
              "#sk-container-id-1 label.sk-toggleable__label .caption {\n",
              "  font-size: 0.6rem;\n",
              "  font-weight: lighter;\n",
              "  color: var(--sklearn-color-text-muted);\n",
              "}\n",
              "\n",
              "#sk-container-id-1 label.sk-toggleable__label-arrow:before {\n",
              "  /* Arrow on the left of the label */\n",
              "  content: \"▸\";\n",
              "  float: left;\n",
              "  margin-right: 0.25em;\n",
              "  color: var(--sklearn-color-icon);\n",
              "}\n",
              "\n",
              "#sk-container-id-1 label.sk-toggleable__label-arrow:hover:before {\n",
              "  color: var(--sklearn-color-text);\n",
              "}\n",
              "\n",
              "/* Toggleable content - dropdown */\n",
              "\n",
              "#sk-container-id-1 div.sk-toggleable__content {\n",
              "  max-height: 0;\n",
              "  max-width: 0;\n",
              "  overflow: hidden;\n",
              "  text-align: left;\n",
              "  /* unfitted */\n",
              "  background-color: var(--sklearn-color-unfitted-level-0);\n",
              "}\n",
              "\n",
              "#sk-container-id-1 div.sk-toggleable__content.fitted {\n",
              "  /* fitted */\n",
              "  background-color: var(--sklearn-color-fitted-level-0);\n",
              "}\n",
              "\n",
              "#sk-container-id-1 div.sk-toggleable__content pre {\n",
              "  margin: 0.2em;\n",
              "  border-radius: 0.25em;\n",
              "  color: var(--sklearn-color-text);\n",
              "  /* unfitted */\n",
              "  background-color: var(--sklearn-color-unfitted-level-0);\n",
              "}\n",
              "\n",
              "#sk-container-id-1 div.sk-toggleable__content.fitted pre {\n",
              "  /* unfitted */\n",
              "  background-color: var(--sklearn-color-fitted-level-0);\n",
              "}\n",
              "\n",
              "#sk-container-id-1 input.sk-toggleable__control:checked~div.sk-toggleable__content {\n",
              "  /* Expand drop-down */\n",
              "  max-height: 200px;\n",
              "  max-width: 100%;\n",
              "  overflow: auto;\n",
              "}\n",
              "\n",
              "#sk-container-id-1 input.sk-toggleable__control:checked~label.sk-toggleable__label-arrow:before {\n",
              "  content: \"▾\";\n",
              "}\n",
              "\n",
              "/* Pipeline/ColumnTransformer-specific style */\n",
              "\n",
              "#sk-container-id-1 div.sk-label input.sk-toggleable__control:checked~label.sk-toggleable__label {\n",
              "  color: var(--sklearn-color-text);\n",
              "  background-color: var(--sklearn-color-unfitted-level-2);\n",
              "}\n",
              "\n",
              "#sk-container-id-1 div.sk-label.fitted input.sk-toggleable__control:checked~label.sk-toggleable__label {\n",
              "  background-color: var(--sklearn-color-fitted-level-2);\n",
              "}\n",
              "\n",
              "/* Estimator-specific style */\n",
              "\n",
              "/* Colorize estimator box */\n",
              "#sk-container-id-1 div.sk-estimator input.sk-toggleable__control:checked~label.sk-toggleable__label {\n",
              "  /* unfitted */\n",
              "  background-color: var(--sklearn-color-unfitted-level-2);\n",
              "}\n",
              "\n",
              "#sk-container-id-1 div.sk-estimator.fitted input.sk-toggleable__control:checked~label.sk-toggleable__label {\n",
              "  /* fitted */\n",
              "  background-color: var(--sklearn-color-fitted-level-2);\n",
              "}\n",
              "\n",
              "#sk-container-id-1 div.sk-label label.sk-toggleable__label,\n",
              "#sk-container-id-1 div.sk-label label {\n",
              "  /* The background is the default theme color */\n",
              "  color: var(--sklearn-color-text-on-default-background);\n",
              "}\n",
              "\n",
              "/* On hover, darken the color of the background */\n",
              "#sk-container-id-1 div.sk-label:hover label.sk-toggleable__label {\n",
              "  color: var(--sklearn-color-text);\n",
              "  background-color: var(--sklearn-color-unfitted-level-2);\n",
              "}\n",
              "\n",
              "/* Label box, darken color on hover, fitted */\n",
              "#sk-container-id-1 div.sk-label.fitted:hover label.sk-toggleable__label.fitted {\n",
              "  color: var(--sklearn-color-text);\n",
              "  background-color: var(--sklearn-color-fitted-level-2);\n",
              "}\n",
              "\n",
              "/* Estimator label */\n",
              "\n",
              "#sk-container-id-1 div.sk-label label {\n",
              "  font-family: monospace;\n",
              "  font-weight: bold;\n",
              "  display: inline-block;\n",
              "  line-height: 1.2em;\n",
              "}\n",
              "\n",
              "#sk-container-id-1 div.sk-label-container {\n",
              "  text-align: center;\n",
              "}\n",
              "\n",
              "/* Estimator-specific */\n",
              "#sk-container-id-1 div.sk-estimator {\n",
              "  font-family: monospace;\n",
              "  border: 1px dotted var(--sklearn-color-border-box);\n",
              "  border-radius: 0.25em;\n",
              "  box-sizing: border-box;\n",
              "  margin-bottom: 0.5em;\n",
              "  /* unfitted */\n",
              "  background-color: var(--sklearn-color-unfitted-level-0);\n",
              "}\n",
              "\n",
              "#sk-container-id-1 div.sk-estimator.fitted {\n",
              "  /* fitted */\n",
              "  background-color: var(--sklearn-color-fitted-level-0);\n",
              "}\n",
              "\n",
              "/* on hover */\n",
              "#sk-container-id-1 div.sk-estimator:hover {\n",
              "  /* unfitted */\n",
              "  background-color: var(--sklearn-color-unfitted-level-2);\n",
              "}\n",
              "\n",
              "#sk-container-id-1 div.sk-estimator.fitted:hover {\n",
              "  /* fitted */\n",
              "  background-color: var(--sklearn-color-fitted-level-2);\n",
              "}\n",
              "\n",
              "/* Specification for estimator info (e.g. \"i\" and \"?\") */\n",
              "\n",
              "/* Common style for \"i\" and \"?\" */\n",
              "\n",
              ".sk-estimator-doc-link,\n",
              "a:link.sk-estimator-doc-link,\n",
              "a:visited.sk-estimator-doc-link {\n",
              "  float: right;\n",
              "  font-size: smaller;\n",
              "  line-height: 1em;\n",
              "  font-family: monospace;\n",
              "  background-color: var(--sklearn-color-background);\n",
              "  border-radius: 1em;\n",
              "  height: 1em;\n",
              "  width: 1em;\n",
              "  text-decoration: none !important;\n",
              "  margin-left: 0.5em;\n",
              "  text-align: center;\n",
              "  /* unfitted */\n",
              "  border: var(--sklearn-color-unfitted-level-1) 1pt solid;\n",
              "  color: var(--sklearn-color-unfitted-level-1);\n",
              "}\n",
              "\n",
              ".sk-estimator-doc-link.fitted,\n",
              "a:link.sk-estimator-doc-link.fitted,\n",
              "a:visited.sk-estimator-doc-link.fitted {\n",
              "  /* fitted */\n",
              "  border: var(--sklearn-color-fitted-level-1) 1pt solid;\n",
              "  color: var(--sklearn-color-fitted-level-1);\n",
              "}\n",
              "\n",
              "/* On hover */\n",
              "div.sk-estimator:hover .sk-estimator-doc-link:hover,\n",
              ".sk-estimator-doc-link:hover,\n",
              "div.sk-label-container:hover .sk-estimator-doc-link:hover,\n",
              ".sk-estimator-doc-link:hover {\n",
              "  /* unfitted */\n",
              "  background-color: var(--sklearn-color-unfitted-level-3);\n",
              "  color: var(--sklearn-color-background);\n",
              "  text-decoration: none;\n",
              "}\n",
              "\n",
              "div.sk-estimator.fitted:hover .sk-estimator-doc-link.fitted:hover,\n",
              ".sk-estimator-doc-link.fitted:hover,\n",
              "div.sk-label-container:hover .sk-estimator-doc-link.fitted:hover,\n",
              ".sk-estimator-doc-link.fitted:hover {\n",
              "  /* fitted */\n",
              "  background-color: var(--sklearn-color-fitted-level-3);\n",
              "  color: var(--sklearn-color-background);\n",
              "  text-decoration: none;\n",
              "}\n",
              "\n",
              "/* Span, style for the box shown on hovering the info icon */\n",
              ".sk-estimator-doc-link span {\n",
              "  display: none;\n",
              "  z-index: 9999;\n",
              "  position: relative;\n",
              "  font-weight: normal;\n",
              "  right: .2ex;\n",
              "  padding: .5ex;\n",
              "  margin: .5ex;\n",
              "  width: min-content;\n",
              "  min-width: 20ex;\n",
              "  max-width: 50ex;\n",
              "  color: var(--sklearn-color-text);\n",
              "  box-shadow: 2pt 2pt 4pt #999;\n",
              "  /* unfitted */\n",
              "  background: var(--sklearn-color-unfitted-level-0);\n",
              "  border: .5pt solid var(--sklearn-color-unfitted-level-3);\n",
              "}\n",
              "\n",
              ".sk-estimator-doc-link.fitted span {\n",
              "  /* fitted */\n",
              "  background: var(--sklearn-color-fitted-level-0);\n",
              "  border: var(--sklearn-color-fitted-level-3);\n",
              "}\n",
              "\n",
              ".sk-estimator-doc-link:hover span {\n",
              "  display: block;\n",
              "}\n",
              "\n",
              "/* \"?\"-specific style due to the `<a>` HTML tag */\n",
              "\n",
              "#sk-container-id-1 a.estimator_doc_link {\n",
              "  float: right;\n",
              "  font-size: 1rem;\n",
              "  line-height: 1em;\n",
              "  font-family: monospace;\n",
              "  background-color: var(--sklearn-color-background);\n",
              "  border-radius: 1rem;\n",
              "  height: 1rem;\n",
              "  width: 1rem;\n",
              "  text-decoration: none;\n",
              "  /* unfitted */\n",
              "  color: var(--sklearn-color-unfitted-level-1);\n",
              "  border: var(--sklearn-color-unfitted-level-1) 1pt solid;\n",
              "}\n",
              "\n",
              "#sk-container-id-1 a.estimator_doc_link.fitted {\n",
              "  /* fitted */\n",
              "  border: var(--sklearn-color-fitted-level-1) 1pt solid;\n",
              "  color: var(--sklearn-color-fitted-level-1);\n",
              "}\n",
              "\n",
              "/* On hover */\n",
              "#sk-container-id-1 a.estimator_doc_link:hover {\n",
              "  /* unfitted */\n",
              "  background-color: var(--sklearn-color-unfitted-level-3);\n",
              "  color: var(--sklearn-color-background);\n",
              "  text-decoration: none;\n",
              "}\n",
              "\n",
              "#sk-container-id-1 a.estimator_doc_link.fitted:hover {\n",
              "  /* fitted */\n",
              "  background-color: var(--sklearn-color-fitted-level-3);\n",
              "}\n",
              "</style><div id=\"sk-container-id-1\" class=\"sk-top-container\"><div class=\"sk-text-repr-fallback\"><pre>Pipeline(steps=[(&#x27;sc&#x27;, StandardScaler()), (&#x27;svm&#x27;, SVC())])</pre><b>In a Jupyter environment, please rerun this cell to show the HTML representation or trust the notebook. <br />On GitHub, the HTML representation is unable to render, please try loading this page with nbviewer.org.</b></div><div class=\"sk-container\" hidden><div class=\"sk-item sk-dashed-wrapped\"><div class=\"sk-label-container\"><div class=\"sk-label fitted sk-toggleable\"><input class=\"sk-toggleable__control sk-hidden--visually\" id=\"sk-estimator-id-1\" type=\"checkbox\" ><label for=\"sk-estimator-id-1\" class=\"sk-toggleable__label fitted sk-toggleable__label-arrow\"><div><div>Pipeline</div></div><div><a class=\"sk-estimator-doc-link fitted\" rel=\"noreferrer\" target=\"_blank\" href=\"https://scikit-learn.org/1.6/modules/generated/sklearn.pipeline.Pipeline.html\">?<span>Documentation for Pipeline</span></a><span class=\"sk-estimator-doc-link fitted\">i<span>Fitted</span></span></div></label><div class=\"sk-toggleable__content fitted\"><pre>Pipeline(steps=[(&#x27;sc&#x27;, StandardScaler()), (&#x27;svm&#x27;, SVC())])</pre></div> </div></div><div class=\"sk-serial\"><div class=\"sk-item\"><div class=\"sk-estimator fitted sk-toggleable\"><input class=\"sk-toggleable__control sk-hidden--visually\" id=\"sk-estimator-id-2\" type=\"checkbox\" ><label for=\"sk-estimator-id-2\" class=\"sk-toggleable__label fitted sk-toggleable__label-arrow\"><div><div>StandardScaler</div></div><div><a class=\"sk-estimator-doc-link fitted\" rel=\"noreferrer\" target=\"_blank\" href=\"https://scikit-learn.org/1.6/modules/generated/sklearn.preprocessing.StandardScaler.html\">?<span>Documentation for StandardScaler</span></a></div></label><div class=\"sk-toggleable__content fitted\"><pre>StandardScaler()</pre></div> </div></div><div class=\"sk-item\"><div class=\"sk-estimator fitted sk-toggleable\"><input class=\"sk-toggleable__control sk-hidden--visually\" id=\"sk-estimator-id-3\" type=\"checkbox\" ><label for=\"sk-estimator-id-3\" class=\"sk-toggleable__label fitted sk-toggleable__label-arrow\"><div><div>SVC</div></div><div><a class=\"sk-estimator-doc-link fitted\" rel=\"noreferrer\" target=\"_blank\" href=\"https://scikit-learn.org/1.6/modules/generated/sklearn.svm.SVC.html\">?<span>Documentation for SVC</span></a></div></label><div class=\"sk-toggleable__content fitted\"><pre>SVC()</pre></div> </div></div></div></div></div></div>"
            ]
          },
          "metadata": {},
          "execution_count": 10
        }
      ]
    },
    {
      "cell_type": "code",
      "source": [
        "#30\n",
        "gnb = GaussianNB(var_smoothing=1e-9).fit(Xtr,ytr)   # default smoothing\n"
      ],
      "metadata": {
        "id": "rffv-9s-CUnb"
      },
      "execution_count": 11,
      "outputs": []
    },
    {
      "cell_type": "code",
      "source": [
        "#31\n",
        "from sklearn.model_selection import GridSearchCV\n",
        "params={'C':[0.1,1,10],'gamma':[0.01,0.1,1],'kernel':['rbf','linear']}\n",
        "grid=GridSearchCV(SVC(),params,cv=5).fit(Xtr,ytr)\n",
        "print(\"Best:\", grid.best_params_)\n"
      ],
      "metadata": {
        "colab": {
          "base_uri": "https://localhost:8080/"
        },
        "id": "5tKLkjjVCXdu",
        "outputId": "0cb86286-d277-4264-b844-9d1638326439"
      },
      "execution_count": 12,
      "outputs": [
        {
          "output_type": "stream",
          "name": "stdout",
          "text": [
            "Best: {'C': 1, 'gamma': 0.01, 'kernel': 'linear'}\n"
          ]
        }
      ]
    },
    {
      "cell_type": "code",
      "source": [
        "#32\n",
        "clf = SVC(class_weight='balanced').fit(Xtr,ytr)"
      ],
      "metadata": {
        "id": "SBNTaNm_CdrF"
      },
      "execution_count": 13,
      "outputs": []
    },
    {
      "cell_type": "code",
      "source": [
        "#33 Write a Python program to implement a Naïve Bayes classifier for spam detection using email data\n",
        "from sklearn.datasets import fetch_20newsgroups\n",
        "from sklearn.feature_extraction.text import CountVectorizer\n",
        "from sklearn.model_selection import train_test_split\n",
        "from sklearn.naive_bayes import MultinomialNB\n",
        "from sklearn.metrics import accuracy_score\n",
        "\n",
        "# Use 'sci.space' as HAM (non-spam), 'talk.politics.misc' as SPAM proxy\n",
        "cats = ['sci.space', 'talk.politics.misc']\n",
        "data = fetch_20newsgroups(subset='train', categories=cats)\n",
        "\n",
        "# Vectorize text\n",
        "vec = CountVectorizer(stop_words='english')\n",
        "X = vec.fit_transform(data.data)\n",
        "y = data.target   # 0=ham, 1=spam proxy\n",
        "\n",
        "# Train-test split\n",
        "Xtr, Xte, ytr, yte = train_test_split(X, y, test_size=0.2, random_state=42)\n",
        "\n",
        "# Train NB\n",
        "clf = MultinomialNB().fit(Xtr, ytr)\n",
        "print(\"Spam detection accuracy:\", accuracy_score(yte, clf.predict(Xte)))\n"
      ],
      "metadata": {
        "colab": {
          "base_uri": "https://localhost:8080/"
        },
        "id": "qQUu2FhpDHOa",
        "outputId": "204b4ed3-c59f-4d76-c8af-b62945111e8c"
      },
      "execution_count": 14,
      "outputs": [
        {
          "output_type": "stream",
          "name": "stdout",
          "text": [
            "Spam detection accuracy: 0.9858490566037735\n"
          ]
        }
      ]
    },
    {
      "cell_type": "code",
      "source": [
        "#34\n",
        "from sklearn.datasets import load_iris\n",
        "from sklearn.model_selection import train_test_split\n",
        "from sklearn.svm import SVC\n",
        "from sklearn.naive_bayes import GaussianNB\n",
        "from sklearn.metrics import accuracy_score\n",
        "\n",
        "# Load data\n",
        "X, y = load_iris(return_X_y=True)\n",
        "Xtr, Xte, ytr, yte = train_test_split(X, y, test_size=0.2, random_state=42)\n",
        "\n",
        "# SVM\n",
        "svm = SVC(kernel='rbf').fit(Xtr, ytr)\n",
        "svm_acc = accuracy_score(yte, svm.predict(Xte))\n",
        "\n",
        "# Naïve Bayes\n",
        "nb = GaussianNB().fit(Xtr, ytr)\n",
        "nb_acc = accuracy_score(yte, nb.predict(Xte))\n",
        "\n",
        "print(\"SVM Accuracy:\", svm_acc)\n",
        "print(\"Naive Bayes Accuracy:\", nb_acc)\n"
      ],
      "metadata": {
        "colab": {
          "base_uri": "https://localhost:8080/"
        },
        "id": "ZC3zb8iXDdP-",
        "outputId": "b801de98-b083-4ee8-94c7-c7aa3cbc37b1"
      },
      "execution_count": 15,
      "outputs": [
        {
          "output_type": "stream",
          "name": "stdout",
          "text": [
            "SVM Accuracy: 1.0\n",
            "Naive Bayes Accuracy: 1.0\n"
          ]
        }
      ]
    },
    {
      "cell_type": "code",
      "source": [
        "#35\n",
        "from sklearn.feature_selection import SelectKBest, chi2\n",
        "from sklearn.pipeline import Pipeline\n",
        "\n",
        "# Pipeline with feature selection + NB\n",
        "pipe = Pipeline([\n",
        "    ('vec', CountVectorizer(stop_words='english')),\n",
        "    ('chi2', SelectKBest(chi2, k=1000)),  # select top 1000 features\n",
        "    ('nb', MultinomialNB())\n",
        "])\n",
        "\n",
        "X, y = data.data, data.target\n",
        "Xtr, Xte, ytr, yte = train_test_split(X, y, test_size=0.2, random_state=42)\n",
        "\n",
        "pipe.fit(Xtr, ytr)\n",
        "print(\"Accuracy with feature selection:\", accuracy_score(yte, pipe.predict(Xte)))\n"
      ],
      "metadata": {
        "colab": {
          "base_uri": "https://localhost:8080/"
        },
        "id": "-EiqHUIMDgmp",
        "outputId": "92eb06ba-bb71-4d3d-9c6a-313d77646d71"
      },
      "execution_count": 16,
      "outputs": [
        {
          "output_type": "stream",
          "name": "stdout",
          "text": [
            "Accuracy with feature selection: 0.9811320754716981\n"
          ]
        }
      ]
    },
    {
      "cell_type": "code",
      "source": [
        "#36\n",
        "from sklearn.datasets import load_wine\n",
        "from sklearn.model_selection import train_test_split\n",
        "from sklearn.svm import SVC\n",
        "from sklearn.metrics import accuracy_score\n",
        "\n",
        "# Load data\n",
        "X, y = load_wine(return_X_y=True)\n",
        "Xtr, Xte, ytr, yte = train_test_split(X, y, test_size=0.2, random_state=42, stratify=y)\n",
        "\n",
        "# One-vs-Rest (OvR)\n",
        "svm_ovr = SVC(decision_function_shape='ovr', kernel='rbf').fit(Xtr, ytr)\n",
        "ovr_acc = accuracy_score(yte, svm_ovr.predict(Xte))\n",
        "\n",
        "# One-vs-One (OvO)\n",
        "svm_ovo = SVC(decision_function_shape='ovo', kernel='rbf').fit(Xtr, ytr)\n",
        "ovo_acc = accuracy_score(yte, svm_ovo.predict(Xte))\n",
        "\n",
        "print(\"OvR Accuracy:\", ovr_acc)\n",
        "print(\"OvO Accuracy:\", ovo_acc)\n",
        "\n"
      ],
      "metadata": {
        "colab": {
          "base_uri": "https://localhost:8080/"
        },
        "id": "3WkVw7Z_DjNX",
        "outputId": "08553e36-8d8f-45c6-b84c-ec5469d4fb58"
      },
      "execution_count": 18,
      "outputs": [
        {
          "output_type": "stream",
          "name": "stdout",
          "text": [
            "OvR Accuracy: 0.6944444444444444\n",
            "OvO Accuracy: 0.6944444444444444\n"
          ]
        }
      ]
    },
    {
      "cell_type": "code",
      "source": [
        "#37\n",
        "from sklearn.datasets import load_breast_cancer\n",
        "from sklearn.model_selection import train_test_split\n",
        "\n",
        "X, y = load_breast_cancer(return_X_y=True)\n",
        "Xtr, Xte, ytr, yte = train_test_split(X, y, test_size=0.2, random_state=42, stratify=y)\n",
        "\n",
        "# Linear kernel\n",
        "svm_lin = SVC(kernel='linear').fit(Xtr, ytr)\n",
        "lin_acc = svm_lin.score(Xte, yte)\n",
        "\n",
        "# Polynomial kernel\n",
        "svm_poly = SVC(kernel='poly', degree=3).fit(Xtr, ytr)\n",
        "poly_acc = svm_poly.score(Xte, yte)\n",
        "\n",
        "# RBF kernel\n",
        "svm_rbf = SVC(kernel='rbf').fit(Xtr, ytr)\n",
        "rbf_acc = svm_rbf.score(Xte, yte)\n",
        "\n",
        "print(\"Linear Accuracy:\", lin_acc)\n",
        "print(\"Polynomial Accuracy:\", poly_acc)\n",
        "print(\"RBF Accuracy:\", rbf_acc)\n"
      ],
      "metadata": {
        "colab": {
          "base_uri": "https://localhost:8080/"
        },
        "id": "cOFP8s-yDp6c",
        "outputId": "ae2593fd-5dc2-4551-a955-8f451e12a2c5"
      },
      "execution_count": 19,
      "outputs": [
        {
          "output_type": "stream",
          "name": "stdout",
          "text": [
            "Linear Accuracy: 0.956140350877193\n",
            "Polynomial Accuracy: 0.9210526315789473\n",
            "RBF Accuracy: 0.9298245614035088\n"
          ]
        }
      ]
    },
    {
      "cell_type": "code",
      "source": [
        "#38\n",
        "from sklearn.model_selection import StratifiedKFold, cross_val_score\n",
        "print(cross_val_score(SVC(),X,y,cv=5).mean())\n"
      ],
      "metadata": {
        "colab": {
          "base_uri": "https://localhost:8080/"
        },
        "id": "dhswko8cD0s7",
        "outputId": "b060a0cf-6004-470b-bc3c-c3554cc3b714"
      },
      "execution_count": 20,
      "outputs": [
        {
          "output_type": "stream",
          "name": "stdout",
          "text": [
            "0.9121720229777983\n"
          ]
        }
      ]
    },
    {
      "cell_type": "code",
      "source": [
        "#39\n",
        "gnb = GaussianNB(priors=[0.3,0.7]).fit(Xtr,ytr)\n"
      ],
      "metadata": {
        "id": "vMS8u3rnD5va"
      },
      "execution_count": 23,
      "outputs": []
    },
    {
      "cell_type": "code",
      "source": [
        "#40\n",
        "from sklearn.feature_selection import RFE\n",
        "svc = SVC(kernel='linear')\n",
        "rfe = RFE(svc,n_features_to_select=5).fit(X,y)\n"
      ],
      "metadata": {
        "id": "0zBGffl2D8NG"
      },
      "execution_count": 24,
      "outputs": []
    },
    {
      "cell_type": "code",
      "source": [
        "#41\n",
        "from sklearn.datasets import load_breast_cancer\n",
        "from sklearn.model_selection import train_test_split\n",
        "from sklearn.svm import SVC\n",
        "from sklearn.metrics import classification_report\n",
        "\n",
        "# Load dataset\n",
        "X, y = load_breast_cancer(return_X_y=True)\n",
        "Xtr, Xte, ytr, yte = train_test_split(X, y, test_size=0.2, random_state=42, stratify=y)\n",
        "\n",
        "# Train SVM\n",
        "clf = SVC(kernel='rbf', C=1, gamma='scale').fit(Xtr, ytr)\n",
        "\n",
        "# Predictions\n",
        "y_pred = clf.predict(Xte)\n",
        "\n",
        "# Evaluate with precision, recall, f1\n",
        "print(classification_report(yte, y_pred, target_names=['No Cancer','Cancer']))\n"
      ],
      "metadata": {
        "colab": {
          "base_uri": "https://localhost:8080/"
        },
        "id": "592h9m21D_R1",
        "outputId": "0838184e-3f85-4d5d-b997-b3848a9aba34"
      },
      "execution_count": 26,
      "outputs": [
        {
          "output_type": "stream",
          "name": "stdout",
          "text": [
            "              precision    recall  f1-score   support\n",
            "\n",
            "   No Cancer       0.95      0.86      0.90        42\n",
            "      Cancer       0.92      0.97      0.95        72\n",
            "\n",
            "    accuracy                           0.93       114\n",
            "   macro avg       0.93      0.91      0.92       114\n",
            "weighted avg       0.93      0.93      0.93       114\n",
            "\n"
          ]
        }
      ]
    },
    {
      "cell_type": "code",
      "source": [
        "#42\n",
        "from sklearn.metrics import log_loss\n",
        "pred_prob = gnb.predict_proba(Xte)\n",
        "print(\"Log Loss:\", log_loss(yte, pred_prob))\n"
      ],
      "metadata": {
        "colab": {
          "base_uri": "https://localhost:8080/"
        },
        "id": "4jPW2_Y6PM65",
        "outputId": "42fa832e-b942-46e4-fcf9-b94c1dd6ea66"
      },
      "execution_count": 27,
      "outputs": [
        {
          "output_type": "stream",
          "name": "stdout",
          "text": [
            "Log Loss: 0.3755568770574468\n"
          ]
        }
      ]
    },
    {
      "cell_type": "code",
      "source": [
        "#43\n",
        "from sklearn.metrics import confusion_matrix\n",
        "import seaborn as sns; import matplotlib.pyplot as plt\n",
        "sns.heatmap(confusion_matrix(yte, clf.predict(Xte)), annot=True)\n"
      ],
      "metadata": {
        "colab": {
          "base_uri": "https://localhost:8080/",
          "height": 452
        },
        "id": "FPC4rEQkQvpM",
        "outputId": "605581d0-7d52-4df9-ceb3-1e0e09d0d9f8"
      },
      "execution_count": 28,
      "outputs": [
        {
          "output_type": "execute_result",
          "data": {
            "text/plain": [
              "<Axes: >"
            ]
          },
          "metadata": {},
          "execution_count": 28
        },
        {
          "output_type": "display_data",
          "data": {
            "text/plain": [
              "<Figure size 640x480 with 2 Axes>"
            ],
            "image/png": "[encoded data removed]"
          },
          "metadata": {}
        }
      ]
    },
    {
      "cell_type": "code",
      "source": [
        "#44\n",
        "from sklearn.datasets import fetch_california_housing\n",
        "from sklearn.model_selection import train_test_split\n",
        "from sklearn.svm import SVR\n",
        "from sklearn.metrics import mean_absolute_error\n",
        "from sklearn.preprocessing import StandardScaler\n",
        "from sklearn.pipeline import make_pipeline\n",
        "\n",
        "# Load dataset (California Housing)\n",
        "X, y = fetch_california_housing(return_X_y=True)\n",
        "\n",
        "# Train-test split\n",
        "Xtr, Xte, ytr, yte = train_test_split(X, y, test_size=0.2, random_state=42)\n",
        "\n",
        "# SVR with scaling (important for kernel methods)\n",
        "svr = make_pipeline(StandardScaler(), SVR(kernel='rbf', C=100, gamma=0.1, epsilon=0.1))\n",
        "\n",
        "# Train model\n",
        "svr.fit(Xtr, ytr)\n",
        "\n",
        "# Predictions\n",
        "y_pred = svr.predict(Xte)\n",
        "\n",
        "# Evaluate with MAE\n",
        "mae = mean_absolute_error(yte, y_pred)\n",
        "print(\"Mean Absolute Error (MAE):\", round(mae, 4))"
      ],
      "metadata": {
        "colab": {
          "base_uri": "https://localhost:8080/"
        },
        "id": "TcQODAVrQyGu",
        "outputId": "e06ca7af-22e6-475f-bf65-163ef01131f6"
      },
      "execution_count": 30,
      "outputs": [
        {
          "output_type": "stream",
          "name": "stdout",
          "text": [
            "Mean Absolute Error (MAE): 0.3738\n"
          ]
        }
      ]
    },
    {
      "cell_type": "code",
      "source": [
        "#45 Write a Python program to train a Naïve Bayes classifier and evaluate its performance using the ROC-AUC score\n",
        "from sklearn.datasets import load_breast_cancer\n",
        "from sklearn.model_selection import train_test_split\n",
        "from sklearn.naive_bayes import GaussianNB\n",
        "from sklearn.metrics import roc_auc_score\n",
        "\n",
        "# Load dataset\n",
        "X, y = load_breast_cancer(return_X_y=True)\n",
        "\n",
        "# Train-test split\n",
        "Xtr, Xte, ytr, yte = train_test_split(X, y, test_size=0.2, random_state=42, stratify=y)\n",
        "\n",
        "# Train Gaussian Naïve Bayes\n",
        "gnb = GaussianNB().fit(Xtr, ytr)\n",
        "\n",
        "# Predict probabilities\n",
        "y_prob = gnb.predict_proba(Xte)[:, 1]   # probability of class \"1\"\n",
        "\n",
        "# Evaluate with ROC-AUC\n",
        "roc_auc = roc_auc_score(yte, y_prob)\n",
        "print(\"ROC-AUC Score:\", round(roc_auc, 4))\n"
      ],
      "metadata": {
        "colab": {
          "base_uri": "https://localhost:8080/"
        },
        "id": "q0uMcGKXQ1B8",
        "outputId": "7894153b-4917-4057-d032-8a8e689c72f3"
      },
      "execution_count": 32,
      "outputs": [
        {
          "output_type": "stream",
          "name": "stdout",
          "text": [
            "ROC-AUC Score: 0.9878\n"
          ]
        }
      ]
    },
    {
      "cell_type": "code",
      "source": [
        "#46 Write a Python program to train an SVM Classifier and visualize the Precision-Recall Curve.\n",
        "import matplotlib.pyplot as plt\n",
        "from sklearn.datasets import load_breast_cancer\n",
        "from sklearn.model_selection import train_test_split\n",
        "from sklearn.svm import SVC\n",
        "from sklearn.metrics import precision_recall_curve, average_precision_score\n",
        "\n",
        "# Load dataset\n",
        "X, y = load_breast_cancer(return_X_y=True)\n",
        "\n",
        "# Train-test split\n",
        "Xtr, Xte, ytr, yte = train_test_split(X, y, test_size=0.2, random_state=42, stratify=y)\n",
        "\n",
        "# Train SVM (enable probability=True for PR curve)\n",
        "clf = SVC(kernel='rbf', C=1, gamma='scale', probability=True).fit(Xtr, ytr)\n",
        "\n",
        "# Get probabilities for positive class\n",
        "y_scores = clf.predict_proba(Xte)[:, 1]\n",
        "\n",
        "# Compute Precision-Recall curve\n",
        "precision, recall, _ = precision_recall_curve(yte, y_scores)\n",
        "avg_pr = average_precision_score(yte, y_scores)\n",
        "\n",
        "# Plot\n",
        "plt.plot(recall, precision, label=f'AP={avg_pr:.2f}')\n",
        "plt.xlabel(\"Recall\")\n",
        "plt.ylabel(\"Precision\")\n",
        "plt.title(\"Precision-Recall Curve (SVM)\")\n",
        "plt.legend()\n",
        "plt.show()\n"
      ],
      "metadata": {
        "colab": {
          "base_uri": "https://localhost:8080/",
          "height": 472
        },
        "id": "S3eOxsArRtfW",
        "outputId": "3ffbe452-abf3-454d-827a-02a70dcff733"
      },
      "execution_count": 33,
      "outputs": [
        {
          "output_type": "display_data",
          "data": {
            "text/plain": [
              "<Figure size 640x480 with 1 Axes>"
            ],
            "image/png": "[encoded data removed]"
          },
          "metadata": {}
        }
      ]
    },
    {
      "cell_type": "code",
      "source": [],
      "metadata": {
        "id": "omn3i3seSGXe"
      },
      "execution_count": null,
      "outputs": []
    }
  ]
}