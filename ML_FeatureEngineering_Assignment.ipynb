{
  "nbformat": 4,
  "nbformat_minor": 0,
  "metadata": {
    "colab": {
      "provenance": []
    },
    "kernelspec": {
      "name": "python3",
      "display_name": "Python 3"
    },
    "language_info": {
      "name": "python"
    }
  },
  "cells": [
    {
      "cell_type": "code",
      "execution_count": null,
      "metadata": {
        "id": "dWyskFQQSlvr"
      },
      "outputs": [],
      "source": []
    },
    {
      "cell_type": "markdown",
      "source": [
        "#ML_FeatureEngineering_Assignment\n",
        "\n",
        "1. What is a parameter?\n",
        "- A parameter is a configuration variable internal to a model that is estimated from the data during training. Example: weights in linear regression.\n",
        "\n",
        "2. What is correlation?\n",
        "- Correlation is a statistical measure that expresses the strength and direction of a linear relationship between two variables.\n",
        "\n",
        "3. What does negative correlation mean?\n",
        "- Negative correlation means that as one variable increases, the other decreases. For example, as temperature increases, heating bills tend to decrease.\n",
        "\n",
        "4. Define Machine Learning. What are the main components in Machine Learning?\n",
        "- Machine Learning is a field of AI where computers learn patterns from data to make decisions or predictions.\n",
        "- Main components are Data, Features, Model, Loss function, Optimizer and Evaluation metrics\n",
        "\n",
        "5. How does loss value help in determining whether the model is good or not?\n",
        "- Loss value indicates how far the predicted output is from the actual output. A lower loss means better model performance.\n",
        "\n",
        "6. What are continuous and categorical variables?\n",
        "- Continuous: Numeric variables with infinite values (e.g., height, temperature).\n",
        "\n",
        "- Categorical: Variables with limited categories or labels (e.g., gender, color).\n",
        "\n",
        "7. How do we handle categorical variables in Machine Learning? What are the common techniques?\n",
        "- We convert them to numerical form using techniques like Label Encoding, One-Hot Encoding and Ordinal Encoding.\n",
        "\n",
        "8. What do you mean by training and testing a dataset?\n",
        "- Training: The model learns patterns from this data.\n",
        "\n",
        "- Testing: We check how well the model performs on unseen data.\n",
        "\n",
        "9. What is sklearn.preprocessing?\n",
        "- A module in scikit-learn used for data preprocessing like scaling, encoding, normalization, and transformation.\n",
        "\n",
        "10. What is a Test set?\n",
        "- A portion of the dataset used to evaluate model performance after training.\n",
        "\n",
        "11. How do we split data for model fitting (training and testing) in Python?"
      ],
      "metadata": {
        "id": "IkyC6JtYS7Va"
      }
    },
    {
      "cell_type": "code",
      "source": [
        "# Importing library\n",
        "from sklearn.model_selection import train_test_split\n",
        "\n",
        "# Example: Assume df is your dataset\n",
        "import pandas as pd\n",
        "\n",
        "# Example DataFrame\n",
        "df = pd.DataFrame({\n",
        "    'feature1': [10, 20, 30, 40, 50],\n",
        "    'feature2': [5, 10, 15, 20, 25],\n",
        "    'target': [1, 0, 1, 0, 1]\n",
        "})\n",
        "\n",
        "# Define X and y\n",
        "X = df[['feature1', 'feature2']]  # Features\n",
        "y = df['target']                  # Target variable\n",
        "\n",
        "# Split the dataset\n",
        "X_train, X_test, y_train, y_test = train_test_split(X, y, test_size=0.2, random_state=42)\n",
        "\n",
        "# Now you can use X_train, y_train to train your model"
      ],
      "metadata": {
        "id": "d-OYKIMFTk6N"
      },
      "execution_count": 4,
      "outputs": []
    },
    {
      "cell_type": "markdown",
      "source": [
        "12. How do you approach a Machine Learning problem?\n",
        "Understand the problem\n",
        "\n",
        "- Collect and clean data\n",
        "- Perform EDA\n",
        "- Choose the model\n",
        "- Train the model\n",
        "- Evaluate performance\n",
        "- Improve if needed\n",
        "- Deploy the model\n",
        "\n",
        "13. Why do we have to perform EDA before fitting a model to the data?\n",
        "- EDA (Exploratory Data Analysis) helps us understand patterns, spot missing values, detect outliers, and choose the right preprocessing and models.\n",
        "\n",
        "14. What is correlation?\n",
        "- (Same as Q2) It shows how two variables move in relation to each other.\n",
        "\n",
        "15. What does negative correlation mean?\n",
        "- (Same as Q3) As one variable increases, the other decreases.\n",
        "\n",
        "16. How can you find correlation between variables in Python?"
      ],
      "metadata": {
        "id": "TUvOfQbMTxBn"
      }
    },
    {
      "cell_type": "code",
      "source": [
        "import seaborn as sns; sns.heatmap(df.corr())"
      ],
      "metadata": {
        "colab": {
          "base_uri": "https://localhost:8080/",
          "height": 452
        },
        "id": "C8ugLtC5UkwQ",
        "outputId": "1ac00e17-81d7-4270-bff3-b314ebd1166f"
      },
      "execution_count": 5,
      "outputs": [
        {
          "output_type": "execute_result",
          "data": {
            "text/plain": [
              "<Axes: >"
            ]
          },
          "metadata": {},
          "execution_count": 5
        },
        {
          "output_type": "display_data",
          "data": {
            "text/plain": [
              "<Figure size 640x480 with 2 Axes>"
            ],
            "image/png": "[encoded data removed]"
          },
          "metadata": {}
        }
      ]
    },
    {
      "cell_type": "markdown",
      "source": [
        "17. What is causation? Explain the difference between correlation and causation with an example.\n",
        "- Causation means one variable directly affects another.\n",
        "\n",
        "  -  Correlation: Ice cream sales and drowning incidents are positively correlated.\n",
        "\n",
        "  - Causation: Hot weather causes both (not one causing the other).\n",
        "\n",
        "18. What is an Optimizer? What are different types of optimizers? Explain each with an example.\n",
        "- An optimizer adjusts the model parameters to minimize the loss.\n",
        "Common optimizers:\n",
        "\n",
        "  - SGD (Stochastic Gradient Descent) – simple, updates weights per batch.\n",
        "\n",
        "  - Adam – combines momentum and adaptive learning rate.\n",
        "\n",
        "  - RMSprop – adjusts learning rate based on recent gradient magnitude.\n",
        "\n",
        "19. What is sklearn.linear_model?\n",
        "- A module in scikit-learn for linear models like LinearRegression, LogisticRegression, etc.\n",
        "\n",
        "20. What does model.fit() do? What arguments must be given?\n",
        "- It trains the model on given data.\n",
        "Arguments: X_train, y_train\n",
        "\n",
        "21. What does model.predict() do? What arguments must be given?\n",
        "- It uses the trained model to make predictions.\n",
        "Argument: X_test or new data\n",
        "\n",
        "22. What are continuous and categorical variables?\n",
        "- (Same as Q6) Continuous: Numeric with infinite values.\n",
        "- Categorical: Non-numeric, fixed categories.\n",
        "\n",
        "23. What is feature scaling? How does it help in Machine Learning?\n",
        "- Feature scaling standardizes data to a fixed range (like 0–1 or standard normal).\n",
        "It helps algorithms (like gradient descent, SVM, KNN) converge faster and avoid bias due to different scales.\n",
        "\n",
        "24. How do we perform scaling in Python?"
      ],
      "metadata": {
        "id": "tkNM5-xYUn5s"
      }
    },
    {
      "cell_type": "code",
      "source": [
        "from sklearn.preprocessing import StandardScaler\n",
        "scaler = StandardScaler()\n",
        "X_scaled = scaler.fit_transform(X)"
      ],
      "metadata": {
        "id": "yONliYIQVUeb"
      },
      "execution_count": 6,
      "outputs": []
    },
    {
      "cell_type": "markdown",
      "source": [
        "25. What is sklearn.preprocessing?\n",
        "- (Same as Q9) It's a module in scikit-learn for data transformation tasks like encoding and scaling.\n",
        "\n",
        "26. How do we split data for model fitting (training and testing) in Python?\n",
        "- (Same as Q11) Use train_test_split().\n",
        "\n",
        "27. Explain data encoding?\n",
        "- Data encoding is converting categorical variables into numerical form.\n",
        "Examples:\n",
        "  - Label Encoding: Assigns a unique integer to each category.\n",
        "  - One-Hot Encoding: Creates binary columns for each category"
      ],
      "metadata": {
        "id": "_ixUJJIsVVjo"
      }
    },
    {
      "cell_type": "code",
      "source": [],
      "metadata": {
        "id": "tMsaGZ2FVhPL"
      },
      "execution_count": null,
      "outputs": []
    }
  ]
}