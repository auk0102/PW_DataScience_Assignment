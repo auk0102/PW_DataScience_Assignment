{
  "nbformat": 4,
  "nbformat_minor": 0,
  "metadata": {
    "colab": {
      "provenance": []
    },
    "kernelspec": {
      "name": "python3",
      "display_name": "Python 3"
    },
    "language_info": {
      "name": "python"
    }
  },
  "cells": [
    {
      "cell_type": "markdown",
      "source": [
        "#Python Basics"
      ],
      "metadata": {
        "id": "oGPiSg2x_BEi"
      }
    },
    {
      "cell_type": "markdown",
      "source": [
        "# A) Python Basics"
      ],
      "metadata": {
        "id": "ysUXWS8jHkZN"
      }
    },
    {
      "cell_type": "markdown",
      "source": [
        "## A1) Theory Questions\n",
        "1. What is Python, and why is it popular?\n",
        "    - Python is a high-level, interpreted programming language known for its simplicity and readability. It's popular because:\n",
        "        - It's easy to learn and write.\n",
        "        - It has a large standard library and a supportive community.\n",
        "        - It’s versatile (used in web development, data science, AI, etc.).\n",
        "\n",
        "2. What is an interpreter in Python?\n",
        "    - An interpreter reads and executes Python code line by line, translating it into machine code on the fly. This allows for immediate execution and testing.\n",
        "\n",
        "3. What are pre-defined keywords in Python?\n",
        "    - Pre-defined keywords are reserved words that have special meanings in Python, such as if, else, while, def, class, etc. Python has 35+ keywords.\n",
        "\n",
        "4. Can keywords be used as variable names?\n",
        "    - No, keywords cannot be used as variable names because they are reserved for specific functions in the language syntax.\n",
        "\n",
        "5. What is mutability in Python?\n",
        "    - Mutability refers to whether an object can be changed after it's created.\n",
        "        - Mutable: can be changed (e.g., lists, dictionaries).\n",
        "        - Immutable: cannot be changed (e.g., strings, tuples).\n",
        "\n",
        "6. Why are lists mutable, but tuples are immutable?\n",
        "    - Lists are designed for dynamic data, so Python allows them to be modified (add/remove elements).\n",
        "    - Tuples are meant for fixed data structures, so they are immutable for safety and performance.\n",
        "\n",
        "7. What is the difference between == and is operators in Python?\n",
        "== checks value equality (do the objects have the same value?).\n",
        "\n",
        "is checks identity (are they the same object in memory?).\n",
        "\n",
        "8. What are logical operators in Python?\n",
        "    - Logical operators are used to combine conditional statements:\n",
        "        - and: True if both operands are true.\n",
        "        - or: True if at least one operand is true.\n",
        "        - not: Inverts the truth value.\n",
        "\n",
        "9. What is type casting in Python?\n",
        "    - Type casting means converting a variable from one data type to another, like from int to float or str.\n",
        "\n",
        "10. What is the difference between implicit and explicit type casting?\n",
        "    - Implicit: Python automatically converts data types (int to float).\n",
        "    - Explicit: You manually convert data using functions like int(), str(), etc.\n",
        "\n",
        "11. What is the purpose of conditional statements in Python?\n",
        "    - Conditional statements (if, elif, else) allow you to execute code only when certain conditions are met, enabling decision-making in programs.\n",
        "\n",
        "12. How does the elif statement work?\n",
        "    - elif (short for \"else if\") checks another condition if the previous if condition was False. It helps create multiple branches in decision-making.\n",
        "\n",
        "13. What is the difference between for and while loops?\n",
        "    - for loop: used when you know how many times to repeat (e.g., iterating over a list or range).\n",
        "    - while loop: used when you loop until a condition becomes false, and you don’t know how many times it will run in advance.\n",
        "\n",
        "14. Describe a scenario where a while loop is more suitable than a for loop.\n",
        "    - Example: Repeatedly asking a user for input until they enter a valid password. You don’t know how many attempts they'll need, so a while loop is appropriate."
      ],
      "metadata": {
        "id": "ItLHrceb-mGm"
      }
    },
    {
      "cell_type": "markdown",
      "source": [
        "## A2) Practical Questions\n",
        "\n",
        "1. Print \"Hello, World!\""
      ],
      "metadata": {
        "id": "mNVLPuhYKDO2"
      }
    },
    {
      "cell_type": "code",
      "source": [
        "print(\"Hello, World!\")"
      ],
      "metadata": {
        "colab": {
          "base_uri": "https://localhost:8080/"
        },
        "id": "GSinZ0C7JziK",
        "outputId": "70e11959-8eab-419d-fc66-39405d44fd6c"
      },
      "execution_count": 1,
      "outputs": [
        {
          "output_type": "stream",
          "name": "stdout",
          "text": [
            "Hello, World!\n"
          ]
        }
      ]
    },
    {
      "cell_type": "markdown",
      "source": [
        "2. Display your name and age"
      ],
      "metadata": {
        "id": "lYAd_xLtKPUO"
      }
    },
    {
      "cell_type": "code",
      "source": [
        "name = \"Alice\"\n",
        "age = 25\n",
        "print(\"Name:\", name)\n",
        "print(\"Age:\", age)"
      ],
      "metadata": {
        "colab": {
          "base_uri": "https://localhost:8080/"
        },
        "id": "MbxhGOL3OfJO",
        "outputId": "baa218e4-bfaf-4f1a-d319-34975c39e728"
      },
      "execution_count": 17,
      "outputs": [
        {
          "output_type": "stream",
          "name": "stdout",
          "text": [
            "Name: Alice\n",
            "Age: 25\n"
          ]
        }
      ]
    },
    {
      "cell_type": "markdown",
      "source": [
        "3. Print all Python keywords"
      ],
      "metadata": {
        "id": "nqZcJeyQKPRe"
      }
    },
    {
      "cell_type": "code",
      "source": [
        "import keyword\n",
        "print(keyword.kwlist)"
      ],
      "metadata": {
        "colab": {
          "base_uri": "https://localhost:8080/"
        },
        "id": "yMbvJ_BUOOjy",
        "outputId": "8a482d56-f48e-4cf3-e6f7-eb59860a964d"
      },
      "execution_count": 16,
      "outputs": [
        {
          "output_type": "stream",
          "name": "stdout",
          "text": [
            "['False', 'None', 'True', 'and', 'as', 'assert', 'async', 'await', 'break', 'class', 'continue', 'def', 'del', 'elif', 'else', 'except', 'finally', 'for', 'from', 'global', 'if', 'import', 'in', 'is', 'lambda', 'nonlocal', 'not', 'or', 'pass', 'raise', 'return', 'try', 'while', 'with', 'yield']\n"
          ]
        }
      ]
    },
    {
      "cell_type": "markdown",
      "source": [
        "4. Check if a word is a Python keyword"
      ],
      "metadata": {
        "id": "wEdZ54V1KPO-"
      }
    },
    {
      "cell_type": "code",
      "source": [
        "import keyword\n",
        "\n",
        "word = input(\"Enter a word: \")\n",
        "if keyword.iskeyword(word):\n",
        "    print(f\"{word} is a Python keyword.\")\n",
        "else:\n",
        "    print(f\"{word} is not a Python keyword.\")"
      ],
      "metadata": {
        "colab": {
          "base_uri": "https://localhost:8080/"
        },
        "id": "9j9TTvS_ODCX",
        "outputId": "2bd79255-41ec-4d5c-e9b5-97e8d0d13721"
      },
      "execution_count": 15,
      "outputs": [
        {
          "output_type": "stream",
          "name": "stdout",
          "text": [
            "Enter a word: if\n",
            "if is a Python keyword.\n"
          ]
        }
      ]
    },
    {
      "cell_type": "markdown",
      "source": [
        "5. Mutable vs Immutable Arguments"
      ],
      "metadata": {
        "id": "ynIs9qchKPMc"
      }
    },
    {
      "cell_type": "code",
      "source": [
        "def demo_mutable_immutable(a, b):\n",
        "    a += 1         # int is immutable\n",
        "    b.append(4)    # list is mutable\n",
        "    print(\"Inside function - a:\", a, \"b:\", b)\n",
        "\n",
        "x = 10\n",
        "y = [1, 2, 3]\n",
        "demo_mutable_immutable(x, y)\n",
        "print(\"Outside function - x:\", x, \"y:\", y)"
      ],
      "metadata": {
        "colab": {
          "base_uri": "https://localhost:8080/"
        },
        "id": "TRa1GEMGNwEG",
        "outputId": "e2721eb3-fa05-4481-ccc9-a83aab03e549"
      },
      "execution_count": 14,
      "outputs": [
        {
          "output_type": "stream",
          "name": "stdout",
          "text": [
            "Inside function - a: 11 b: [1, 2, 3, 4]\n",
            "Outside function - x: 10 y: [1, 2, 3, 4]\n"
          ]
        }
      ]
    },
    {
      "cell_type": "markdown",
      "source": [
        "6. Basic Arithmetic Operations"
      ],
      "metadata": {
        "id": "3vyhgE4bKPJa"
      }
    },
    {
      "cell_type": "code",
      "source": [
        "a = float(input(\"Enter first number: \"))\n",
        "b = float(input(\"Enter second number: \"))\n",
        "\n",
        "print(\"Sum:\", a + b)\n",
        "print(\"Difference:\", a - b)\n",
        "print(\"Product:\", a * b)\n",
        "print(\"Quotient:\", a / b if b != 0 else \"Cannot divide by zero\")"
      ],
      "metadata": {
        "colab": {
          "base_uri": "https://localhost:8080/"
        },
        "id": "kuMTASjnNqRN",
        "outputId": "49cbd71a-ee46-4deb-88ca-38ed9bc96395"
      },
      "execution_count": 13,
      "outputs": [
        {
          "output_type": "stream",
          "name": "stdout",
          "text": [
            "Enter first number: 12\n",
            "Enter second number: 2\n",
            "Sum: 14.0\n",
            "Difference: 10.0\n",
            "Product: 24.0\n",
            "Quotient: 6.0\n"
          ]
        }
      ]
    },
    {
      "cell_type": "markdown",
      "source": [
        "7. Use of Logical Operators"
      ],
      "metadata": {
        "id": "-6XTMZMzKPGi"
      }
    },
    {
      "cell_type": "code",
      "source": [
        "a = int(input(\"Enter a number: \"))\n",
        "print(\"Is the number between 1 and 10?\", a > 1 and a < 10)"
      ],
      "metadata": {
        "colab": {
          "base_uri": "https://localhost:8080/"
        },
        "id": "C-I1KNtZNlik",
        "outputId": "d88d4c78-5cef-4d9f-c22a-f3ff169fbde3"
      },
      "execution_count": 12,
      "outputs": [
        {
          "output_type": "stream",
          "name": "stdout",
          "text": [
            "Enter a number: 12\n",
            "Is the number between 1 and 10? False\n"
          ]
        }
      ]
    },
    {
      "cell_type": "markdown",
      "source": [
        "8. List vs Tuple Mutability"
      ],
      "metadata": {
        "id": "9wIcGOaxKPDw"
      }
    },
    {
      "cell_type": "code",
      "source": [
        "my_list = [1, 2, 3]\n",
        "my_tuple = (1, 2, 3)\n",
        "\n",
        "my_list[0] = 10  # This will work\n",
        "print(\"Modified list:\", my_list)\n",
        "\n",
        "try:\n",
        "    my_tuple[0] = 10  # This will raise an error\n",
        "except TypeError:\n",
        "    print(\"Cannot modify a tuple!\")"
      ],
      "metadata": {
        "colab": {
          "base_uri": "https://localhost:8080/"
        },
        "id": "RbFsHyWnNNiC",
        "outputId": "6627e3ed-eafe-4390-afeb-96728b546618"
      },
      "execution_count": 11,
      "outputs": [
        {
          "output_type": "stream",
          "name": "stdout",
          "text": [
            "Modified list: [10, 2, 3]\n",
            "Cannot modify a tuple!\n"
          ]
        }
      ]
    },
    {
      "cell_type": "markdown",
      "source": [
        "9. Convert Input to int, float, and bool"
      ],
      "metadata": {
        "id": "5fhTIL2PKPA4"
      }
    },
    {
      "cell_type": "code",
      "source": [
        "user_input = input(\"Enter a number: \")\n",
        "print(\"As integer:\", int(user_input))\n",
        "print(\"As float:\", float(user_input))\n",
        "print(\"As boolean:\", bool(user_input))"
      ],
      "metadata": {
        "colab": {
          "base_uri": "https://localhost:8080/"
        },
        "id": "MY1J-85UMtQu",
        "outputId": "660f381c-07e1-48ef-ee46-d699dcc9cce4"
      },
      "execution_count": 10,
      "outputs": [
        {
          "output_type": "stream",
          "name": "stdout",
          "text": [
            "Enter a number: 11\n",
            "As integer: 11\n",
            "As float: 11.0\n",
            "As boolean: True\n"
          ]
        }
      ]
    },
    {
      "cell_type": "markdown",
      "source": [
        "10. Type Casting with List Elements"
      ],
      "metadata": {
        "id": "mTGzhmBwKO-M"
      }
    },
    {
      "cell_type": "code",
      "source": [
        "str_list = [\"1\", \"2\", \"3\"]\n",
        "int_list = [int(x) for x in str_list]\n",
        "print(\"Integer list:\", int_list)"
      ],
      "metadata": {
        "colab": {
          "base_uri": "https://localhost:8080/"
        },
        "id": "E4Ddm0E0Mo-Q",
        "outputId": "96d3893e-8637-4c93-86a8-e57566cf8cb2"
      },
      "execution_count": 8,
      "outputs": [
        {
          "output_type": "stream",
          "name": "stdout",
          "text": [
            "Integer list: [1, 2, 3]\n"
          ]
        }
      ]
    },
    {
      "cell_type": "markdown",
      "source": [
        "11. Check if Number is Positive, Negative, or Zero"
      ],
      "metadata": {
        "id": "Go_1X3oXKO7W"
      }
    },
    {
      "cell_type": "code",
      "source": [
        "n = float(input(\"Enter a number: \"))\n",
        "if n > 0:\n",
        "    print(\"Positive\")\n",
        "elif n < 0:\n",
        "    print(\"Negative\")\n",
        "else:\n",
        "    print(\"Zero\")"
      ],
      "metadata": {
        "colab": {
          "base_uri": "https://localhost:8080/"
        },
        "id": "09n03up-Mjv7",
        "outputId": "896d076b-d4fe-4715-af41-ecf18bfc3398"
      },
      "execution_count": 7,
      "outputs": [
        {
          "output_type": "stream",
          "name": "stdout",
          "text": [
            "Enter a number: 2\n",
            "Positive\n"
          ]
        }
      ]
    },
    {
      "cell_type": "markdown",
      "source": [
        "12. For Loop to Print 1 to 10"
      ],
      "metadata": {
        "id": "iw4SpczfKO4s"
      }
    },
    {
      "cell_type": "code",
      "source": [
        "for i in range(1, 11):\n",
        "    print(i)"
      ],
      "metadata": {
        "colab": {
          "base_uri": "https://localhost:8080/"
        },
        "id": "z-7yLpiwMh1l",
        "outputId": "bdf9d626-fb58-4653-eafb-6d165f2e3ded"
      },
      "execution_count": 6,
      "outputs": [
        {
          "output_type": "stream",
          "name": "stdout",
          "text": [
            "1\n",
            "2\n",
            "3\n",
            "4\n",
            "5\n",
            "6\n",
            "7\n",
            "8\n",
            "9\n",
            "10\n"
          ]
        }
      ]
    },
    {
      "cell_type": "markdown",
      "source": [
        "13. Sum of Even Numbers Between 1 and 50"
      ],
      "metadata": {
        "id": "iwe9FiP_KO13"
      }
    },
    {
      "cell_type": "code",
      "source": [
        "total = 0\n",
        "for i in range(1, 51):\n",
        "    if i % 2 == 0:\n",
        "        total += i\n",
        "print(\"Sum of even numbers from 1 to 50 is:\", total)"
      ],
      "metadata": {
        "colab": {
          "base_uri": "https://localhost:8080/"
        },
        "id": "_v2BJF9XMcsO",
        "outputId": "197070f6-c561-4584-bdc7-05454e472538"
      },
      "execution_count": 5,
      "outputs": [
        {
          "output_type": "stream",
          "name": "stdout",
          "text": [
            "Sum of even numbers from 1 to 50 is: 650\n"
          ]
        }
      ]
    },
    {
      "cell_type": "markdown",
      "source": [
        "14. Reverse a String Using While Loop"
      ],
      "metadata": {
        "id": "gcDFW8PKMAKf"
      }
    },
    {
      "cell_type": "code",
      "source": [
        "text = input(\"Enter a string: \")\n",
        "reversed_text = \"\"\n",
        "i = len(text) - 1\n",
        "while i >= 0:\n",
        "    reversed_text += text[i]\n",
        "    i -= 1\n",
        "print(\"Reversed string:\", reversed_text)"
      ],
      "metadata": {
        "colab": {
          "base_uri": "https://localhost:8080/"
        },
        "id": "2CyNulRrMWXS",
        "outputId": "830a2db6-43a3-4616-f732-6de977c1c835"
      },
      "execution_count": 4,
      "outputs": [
        {
          "output_type": "stream",
          "name": "stdout",
          "text": [
            "Enter a string: Hello\n",
            "Reversed string: olleH\n"
          ]
        }
      ]
    },
    {
      "cell_type": "markdown",
      "source": [
        "15. Factorial Using While Loop"
      ],
      "metadata": {
        "id": "yImNDUTPMCy5"
      }
    },
    {
      "cell_type": "code",
      "source": [
        "n = int(input(\"Enter a number: \"))\n",
        "factorial = 1\n",
        "i = 1\n",
        "while i <= n:\n",
        "    factorial *= i\n",
        "    i += 1\n",
        "print(\"Factorial:\", factorial)"
      ],
      "metadata": {
        "colab": {
          "base_uri": "https://localhost:8080/"
        },
        "id": "tD2q6nqqLRnb",
        "outputId": "436e6637-dc6e-40eb-fd27-570c5012033a"
      },
      "execution_count": 3,
      "outputs": [
        {
          "output_type": "stream",
          "name": "stdout",
          "text": [
            "Enter a number: 1\n",
            "Factorial: 1\n"
          ]
        }
      ]
    }
  ]
}