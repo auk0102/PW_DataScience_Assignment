{
  "nbformat": 4,
  "nbformat_minor": 0,
  "metadata": {
    "colab": {
      "provenance": []
    },
    "kernelspec": {
      "name": "python3",
      "display_name": "Python 3"
    },
    "language_info": {
      "name": "python"
    }
  },
  "cells": [
    {
      "cell_type": "markdown",
      "source": [
        "#Files, exceptional handling, logging and memory management\n",
        "\n",
        "**A) Theory Questions**"
      ],
      "metadata": {
        "id": "S2O2unU-1le6"
      }
    },
    {
      "cell_type": "markdown",
      "source": [
        "1. What is the difference between interpreted and compiled languages?\n",
        "- Interpreted languages (like Python) are executed line-by-line at runtime by an interpreter. Compiled languages (like C++) are converted into machine code before execution, resulting in faster execution but requiring a separate compilation step.\n",
        "\n",
        "2. What is exception handling in Python?\n",
        "- Exception handling allows you to manage errors gracefully using try, except, else, and finally blocks so that the program doesn’t crash unexpectedly.\n",
        "\n",
        "3. What is the purpose of the finally block in exception handling?\n",
        "- The finally block is executed no matter what—whether an exception occurs or not. It’s commonly used to release resources such as closing a file or database connection.\n",
        "\n",
        "4. What is logging in Python?\n",
        "- Logging records events or messages that happen during program execution. It helps in debugging, monitoring, and auditing applications using Python's built-in logging module.\n",
        "\n",
        "5. What is the significance of the __del__ method in Python?\n",
        "- __del__ is a destructor method called when an object is about to be destroyed. It is used for cleanup activities like releasing external resources.\n",
        "\n",
        "6. What is the difference between import and from ... import in Python?\n",
        "- import module brings in the entire module.\n",
        "- from module import name imports specific functions or classes, allowing direct use without prefixing them with the module name.\n",
        "\n",
        "7. How can you handle multiple exceptions in Python?\n",
        "- You can handle multiple exceptions using multiple except blocks or by grouping exceptions in a tuple:"
      ],
      "metadata": {
        "id": "zLnBxLio13Z1"
      }
    },
    {
      "cell_type": "code",
      "source": [
        "try:\n",
        "    x = int(\"abc\")  # This will raise a ValueError as some code that may raise ValueError or TypeError\n",
        "except (ValueError, TypeError) as e:\n",
        "    print(e)"
      ],
      "metadata": {
        "colab": {
          "base_uri": "https://localhost:8080/"
        },
        "id": "xvbewhDo3nft",
        "outputId": "f16aa633-284b-4065-cf31-cc74fc70148f"
      },
      "execution_count": 46,
      "outputs": [
        {
          "output_type": "stream",
          "name": "stdout",
          "text": [
            "invalid literal for int() with base 10: 'abc'\n"
          ]
        }
      ]
    },
    {
      "cell_type": "markdown",
      "source": [
        "8. What is the purpose of the with statement when handling files in Python?\n",
        "- The with statement ensures that a file is properly closed after use, even if an error occurs during file operations. It simplifies file handling and avoids resource leaks.\n",
        "\n",
        "9. What is the difference between multithreading and multiprocessing?\n",
        "- Multithreading runs multiple threads in the same process memory space and is suited for I/O-bound tasks.\n",
        "- Multiprocessing runs separate processes with their own memory and is better for CPU-bound tasks.\n",
        "\n",
        "10. What are the advantages of using logging in a program?\n",
        "- Tracks events and errors without using print()\n",
        "\n",
        "- Helps debug production issues\n",
        "\n",
        "- Supports configurable log levels and output formats\n",
        "\n",
        "11. What is memory management in Python?\n",
        "- Python manages memory using private heaps, automatic garbage collection, and reference counting to allocate and reclaim memory used by programs.\n",
        "\n",
        "12. What are the basic steps involved in exception handling in Python?\n",
        "- Use try to wrap risky code.\n",
        "\n",
        "- Use except to catch specific exceptions.\n",
        "\n",
        "- Optionally use else to run if no exception occurs.\n",
        "\n",
        "- Use finally to run code regardless of what happens.\n",
        "\n",
        "13. Why is memory management important in Python?\n",
        "- Efficient memory management prevents memory leaks, improves performance, and ensures that resources are released when no longer needed.\n",
        "\n",
        "14. What is the role of try and except in exception handling?\n",
        "- try: Contains code that might raise an exception.\n",
        "\n",
        "- except: Handles the error if one occurs in the try block.\n",
        "\n",
        "15. How does Python's garbage collection system work?\n",
        "- Python uses reference counting to track object usage and a cyclic garbage collector to clean up objects involved in circular references.\n",
        "\n",
        "16. What is the purpose of the else block in exception handling?\n",
        "- The else block executes if the try block completes without raising any exceptions. It’s used for code that should run only if no errors occurred.\n",
        "\n",
        "17. What are the common logging levels in Python?\n",
        "- DEBUG: Detailed information\n",
        "\n",
        "- INFO: General events\n",
        "\n",
        "- WARNING: Something unexpected\n",
        "\n",
        "- ERROR: A serious problem\n",
        "\n",
        "- CRITICAL: A fatal error\n",
        "\n",
        "18. What is the difference between os.fork() and multiprocessing in Python?\n",
        "- os.fork() creates a child process (Unix-only) and requires low-level management.\n",
        "- multiprocessing is a high-level, cross-platform module that makes process creation and communication easier.\n",
        "\n",
        "19. What is the importance of closing a file in Python?\n",
        "- Closing a file releases system resources and ensures that any data buffered in memory is written to disk.\n",
        "\n",
        "20. What is the difference between file.read() and file.readline() in Python?\n",
        "- file.read(): Reads the entire file content at once.\n",
        "\n",
        "- file.readline(): Reads one line at a time.\n",
        "\n",
        "21. What is the logging module in Python used for?\n",
        "- The logging module is used to record messages, warnings, and errors for tracking application behavior and diagnosing issues.\n",
        "\n",
        "22. What is the os module in Python used for in file handling?\n",
        "- The os module provides functions to interact with the operating system, such as creating, removing, or navigating directories and files.\n",
        "\n",
        "23. What are the challenges associated with memory management in Python?\n",
        "- Circular references can delay object cleanup\n",
        "\n",
        "- High-level abstraction can hide inefficient memory use\n",
        "\n",
        "- Unintentional global references may prevent garbage collection\n",
        "\n",
        "24. How do you raise an exception manually in Python?\n",
        "- Use the raise keyword followed by an exception class:"
      ],
      "metadata": {
        "id": "NqU_vKdD3e0J"
      }
    },
    {
      "cell_type": "code",
      "source": [
        "raise ValueError(\"Custom error message\")"
      ],
      "metadata": {
        "colab": {
          "base_uri": "https://localhost:8080/",
          "height": 141
        },
        "id": "jODk2qUk10BC",
        "outputId": "087feb24-e386-4060-efb4-5be336305de8"
      },
      "execution_count": 4,
      "outputs": [
        {
          "output_type": "error",
          "ename": "ValueError",
          "evalue": "Custom error message",
          "traceback": [
            "\u001b[0;31m---------------------------------------------------------------------------\u001b[0m",
            "\u001b[0;31mValueError\u001b[0m                                Traceback (most recent call last)",
            "\u001b[0;32m<ipython-input-4-7c58c671a629>\u001b[0m in \u001b[0;36m<cell line: 0>\u001b[0;34m()\u001b[0m\n\u001b[0;32m----> 1\u001b[0;31m \u001b[0;32mraise\u001b[0m \u001b[0mValueError\u001b[0m\u001b[0;34m(\u001b[0m\u001b[0;34m\"Custom error message\"\u001b[0m\u001b[0;34m)\u001b[0m\u001b[0;34m\u001b[0m\u001b[0;34m\u001b[0m\u001b[0m\n\u001b[0m",
            "\u001b[0;31mValueError\u001b[0m: Custom error message"
          ]
        }
      ]
    },
    {
      "cell_type": "markdown",
      "source": [
        "25. Why is it important to use multithreading in certain applications?\n",
        "- Multithreading improves performance in I/O-bound applications (e.g., network or disk access) by allowing parallel operations without waiting for one to complete."
      ],
      "metadata": {
        "id": "aBxft98T2z-l"
      }
    },
    {
      "cell_type": "markdown",
      "source": [
        "**B) Practical Questions**"
      ],
      "metadata": {
        "id": "0-9PPgbe37pu"
      }
    },
    {
      "cell_type": "markdown",
      "source": [
        "1. How can you open a file for writing in Python and write a string to it?"
      ],
      "metadata": {
        "id": "NogjKynb4RZz"
      }
    },
    {
      "cell_type": "code",
      "source": [
        "with open(\"example.txt\", \"w\") as file:\n",
        "    file.write(\"My first program\")"
      ],
      "metadata": {
        "id": "RUXi7YvT6Duh"
      },
      "execution_count": 53,
      "outputs": []
    },
    {
      "cell_type": "markdown",
      "source": [
        "2. Write a Python program to read the contents of a file and print each line?"
      ],
      "metadata": {
        "id": "34_HAUcF4RXP"
      }
    },
    {
      "cell_type": "code",
      "source": [
        "with open(\"example.txt\", \"r\") as file:\n",
        "    for line in file:\n",
        "        print(line.strip())"
      ],
      "metadata": {
        "colab": {
          "base_uri": "https://localhost:8080/"
        },
        "id": "4SZG14_H6ELs",
        "outputId": "4f2d9541-25c9-45ee-b897-fa8210e8ecd5"
      },
      "execution_count": 54,
      "outputs": [
        {
          "output_type": "stream",
          "name": "stdout",
          "text": [
            "My first program\n"
          ]
        }
      ]
    },
    {
      "cell_type": "markdown",
      "source": [
        "3. How would you handle a case where the file doesn't exist while trying to open it for reading?"
      ],
      "metadata": {
        "id": "_SduFNtt4RUr"
      }
    },
    {
      "cell_type": "code",
      "source": [
        "try:\n",
        "    with open(\"AAA.txt\", \"r\") as file:\n",
        "        content = file.read()\n",
        "except FileNotFoundError:\n",
        "    print(\"File not found!\")"
      ],
      "metadata": {
        "colab": {
          "base_uri": "https://localhost:8080/"
        },
        "id": "GpOkNDMr6Eu9",
        "outputId": "54867a42-7376-493d-8735-b02a4e4418c2"
      },
      "execution_count": 55,
      "outputs": [
        {
          "output_type": "stream",
          "name": "stdout",
          "text": [
            "File not found!\n"
          ]
        }
      ]
    },
    {
      "cell_type": "markdown",
      "source": [
        "4. Write a Python script that reads from one file and writes its content to another file?"
      ],
      "metadata": {
        "id": "j4sqURa04RSL"
      }
    },
    {
      "cell_type": "code",
      "source": [
        "with open(\"source.txt\", \"w\") as f:\n",
        "    f.write(\"This is a test.\\nSecond line.\")"
      ],
      "metadata": {
        "id": "WCk_MT0T6FBy"
      },
      "execution_count": 56,
      "outputs": []
    },
    {
      "cell_type": "code",
      "source": [
        "with open(\"source.txt\", \"r\") as src, open(\"destination.txt\", \"w\") as dest:\n",
        "    for line in src:\n",
        "        dest.write(line)"
      ],
      "metadata": {
        "id": "QSU5MORgN1VO"
      },
      "execution_count": 59,
      "outputs": []
    },
    {
      "cell_type": "markdown",
      "source": [
        "5. How would you catch and handle division by zero error in Python?"
      ],
      "metadata": {
        "id": "jAXTAlma4RPe"
      }
    },
    {
      "cell_type": "code",
      "source": [
        "try:\n",
        "    result = 10 / 0\n",
        "except ZeroDivisionError:\n",
        "    print(\"Cannot divide by zero.\")"
      ],
      "metadata": {
        "colab": {
          "base_uri": "https://localhost:8080/"
        },
        "id": "hjn14hDb6Gdl",
        "outputId": "a1cd7c01-fa79-433c-bc4d-ba7f20a448c7"
      },
      "execution_count": 60,
      "outputs": [
        {
          "output_type": "stream",
          "name": "stdout",
          "text": [
            "Cannot divide by zero.\n"
          ]
        }
      ]
    },
    {
      "cell_type": "markdown",
      "source": [
        "6. Write a Python program that logs an error message to a log file when a division by zero exception occurs?"
      ],
      "metadata": {
        "id": "MTXufsnn4RM0"
      }
    },
    {
      "cell_type": "code",
      "source": [
        "import logging\n",
        "\n",
        "logging.basicConfig(filename='app.log', level=logging.ERROR)\n",
        "\n",
        "try:\n",
        "    x = 10 / 0\n",
        "except ZeroDivisionError as e:\n",
        "    logging.error(\"Division by zero error occurred: %s\", e)"
      ],
      "metadata": {
        "colab": {
          "base_uri": "https://localhost:8080/"
        },
        "id": "Ksdf2_2D6G4S",
        "outputId": "285e609c-519a-41b4-a520-9dce47ba1f5d"
      },
      "execution_count": 61,
      "outputs": [
        {
          "output_type": "stream",
          "name": "stderr",
          "text": [
            "ERROR:root:Division by zero error occurred: division by zero\n"
          ]
        }
      ]
    },
    {
      "cell_type": "markdown",
      "source": [
        "7. How do you log information at different levels (INFO, ERROR, WARNING) in Python using the logging module?"
      ],
      "metadata": {
        "id": "LYT_tjg-4RKJ"
      }
    },
    {
      "cell_type": "code",
      "source": [
        "import logging\n",
        "\n",
        "logging.basicConfig(level=logging.DEBUG)\n",
        "\n",
        "logging.info(\"This is an info message.\")\n",
        "logging.warning(\"This is a warning.\")\n",
        "logging.error(\"This is an error.\")"
      ],
      "metadata": {
        "colab": {
          "base_uri": "https://localhost:8080/"
        },
        "id": "kl3juURu6HYc",
        "outputId": "bcb7aed0-8846-48e2-c01d-1702335eceb3"
      },
      "execution_count": 62,
      "outputs": [
        {
          "output_type": "stream",
          "name": "stderr",
          "text": [
            "WARNING:root:This is a warning.\n",
            "ERROR:root:This is an error.\n"
          ]
        }
      ]
    },
    {
      "cell_type": "markdown",
      "source": [
        "8. Write a program to handle a file opening error using exception handling?"
      ],
      "metadata": {
        "id": "GjZBIxFu4RHm"
      }
    },
    {
      "cell_type": "code",
      "source": [
        "try:\n",
        "    with open(\"file.txt\", \"r\") as file:\n",
        "        data = file.read()\n",
        "except IOError:\n",
        "    print(\"Error opening file.\")"
      ],
      "metadata": {
        "id": "TPFXkkqt6I0x"
      },
      "execution_count": 63,
      "outputs": []
    },
    {
      "cell_type": "markdown",
      "source": [
        "9. How can you read a file line by line and store its content in a list in Python?"
      ],
      "metadata": {
        "id": "D5iB_E5O4RE7"
      }
    },
    {
      "cell_type": "code",
      "source": [
        "with open(\"example.txt\", \"r\") as file:\n",
        "    lines = file.readlines()\n",
        "\n",
        "print(lines)"
      ],
      "metadata": {
        "colab": {
          "base_uri": "https://localhost:8080/"
        },
        "id": "emrzN8ZK6ISY",
        "outputId": "6c3f7110-a25e-4eea-f6e1-b22401d5faa3"
      },
      "execution_count": 64,
      "outputs": [
        {
          "output_type": "stream",
          "name": "stdout",
          "text": [
            "['My first program']\n"
          ]
        }
      ]
    },
    {
      "cell_type": "markdown",
      "source": [
        "10. How can you append data to an existing file in Python?"
      ],
      "metadata": {
        "id": "Q-n6FLO34RCU"
      }
    },
    {
      "cell_type": "code",
      "source": [
        "with open(\"example.txt\", \"a\") as file:\n",
        "    file.write(\"This is an appended line.\\n\")\n",
        "    file.write(\"Another line.\\n\")"
      ],
      "metadata": {
        "id": "sb8t6rnc6H_-"
      },
      "execution_count": 66,
      "outputs": []
    },
    {
      "cell_type": "markdown",
      "source": [
        "11. Write a Python program that uses a try-except block to handle an error when attempting to access a dictionary key that doesn't exist?"
      ],
      "metadata": {
        "id": "yp40cYlu4Q_v"
      }
    },
    {
      "cell_type": "code",
      "source": [
        "my_dict = {\"name\": \"Alice\"}\n",
        "try:\n",
        "    print(my_dict[\"age\"])\n",
        "except KeyError:\n",
        "    print(\"Key does not exist.\")"
      ],
      "metadata": {
        "colab": {
          "base_uri": "https://localhost:8080/"
        },
        "id": "62ufB5tG6L04",
        "outputId": "ccd51b17-9ad5-4b3c-cd46-a39305785595"
      },
      "execution_count": 67,
      "outputs": [
        {
          "output_type": "stream",
          "name": "stdout",
          "text": [
            "Key does not exist.\n"
          ]
        }
      ]
    },
    {
      "cell_type": "markdown",
      "source": [
        "12. Write a program that demonstrates using multiple except blocks to handle different types of exceptions?"
      ],
      "metadata": {
        "id": "4XXSajKo4Q88"
      }
    },
    {
      "cell_type": "code",
      "source": [
        "try:\n",
        "    x = int(\"abc\")\n",
        "    y = 10 / 0\n",
        "except ValueError:\n",
        "    print(\"Invalid value!\")\n",
        "except ZeroDivisionError:\n",
        "    print(\"Cannot divide by zero.\")"
      ],
      "metadata": {
        "colab": {
          "base_uri": "https://localhost:8080/"
        },
        "id": "48hitcX_6LWE",
        "outputId": "1d9ea84c-5c71-4a2d-8041-ae939310d0f1"
      },
      "execution_count": 68,
      "outputs": [
        {
          "output_type": "stream",
          "name": "stdout",
          "text": [
            "Invalid value!\n"
          ]
        }
      ]
    },
    {
      "cell_type": "markdown",
      "source": [
        "13. How would you check if a file exists before attempting to read it in Python?"
      ],
      "metadata": {
        "id": "-gdxyKJC4Q6j"
      }
    },
    {
      "cell_type": "code",
      "source": [
        "import os\n",
        "\n",
        "if os.path.exists(\"file.txt\"):\n",
        "    with open(\"file.txt\", \"r\") as file:\n",
        "        print(file.read())\n",
        "else:\n",
        "    print(\"File does not exist.\")"
      ],
      "metadata": {
        "colab": {
          "base_uri": "https://localhost:8080/"
        },
        "id": "UnHByLUT6LHG",
        "outputId": "1f0abc68-e837-478c-e37e-1a75145e4bdb"
      },
      "execution_count": 69,
      "outputs": [
        {
          "output_type": "stream",
          "name": "stdout",
          "text": [
            "\n",
            "New line appended.\n",
            "New line appended.\n"
          ]
        }
      ]
    },
    {
      "cell_type": "markdown",
      "source": [
        "14. Write a program that uses the logging module to log both informational and error messages?"
      ],
      "metadata": {
        "id": "nGEU6C-24Q4D"
      }
    },
    {
      "cell_type": "code",
      "source": [
        "import logging\n",
        "\n",
        "logging.basicConfig(filename='app.log', level=logging.INFO)\n",
        "logging.info(\"This is an info message.\")\n",
        "try:\n",
        "    1 / 0\n",
        "except ZeroDivisionError:\n",
        "    logging.error(\"Caught a division by zero.\")"
      ],
      "metadata": {
        "colab": {
          "base_uri": "https://localhost:8080/"
        },
        "id": "is3ZjIsV6K0O",
        "outputId": "82508fb9-8828-4f97-c6ca-0b896cdde359"
      },
      "execution_count": 70,
      "outputs": [
        {
          "output_type": "stream",
          "name": "stderr",
          "text": [
            "ERROR:root:Caught a division by zero.\n"
          ]
        }
      ]
    },
    {
      "cell_type": "markdown",
      "source": [
        "15. Write a Python program that prints the content of a file and handles the case when the file is empty?"
      ],
      "metadata": {
        "id": "RBfBNYZr4Q1S"
      }
    },
    {
      "cell_type": "code",
      "source": [
        "with open(\"file.txt\", \"r\") as file:\n",
        "    content = file.read()\n",
        "    if content:\n",
        "        print(content)\n",
        "    else:\n",
        "        print(\"File is empty.\")"
      ],
      "metadata": {
        "colab": {
          "base_uri": "https://localhost:8080/"
        },
        "id": "BtIBhkVq6KYp",
        "outputId": "3c029b2a-b8b0-4322-a792-5950c7c0a450"
      },
      "execution_count": 71,
      "outputs": [
        {
          "output_type": "stream",
          "name": "stdout",
          "text": [
            "\n",
            "New line appended.\n",
            "New line appended.\n"
          ]
        }
      ]
    },
    {
      "cell_type": "markdown",
      "source": [
        "16. Demonstrate how to use memory profiling to check the memory usage of a small program?"
      ],
      "metadata": {
        "id": "6G6CVkLP4Qy1"
      }
    },
    {
      "cell_type": "code",
      "source": [
        "!pip install memory-profiler"
      ],
      "metadata": {
        "colab": {
          "base_uri": "https://localhost:8080/"
        },
        "id": "4UKbgncZRMos",
        "outputId": "01436c5f-06bd-4b02-eb21-a26563ee5208"
      },
      "execution_count": 73,
      "outputs": [
        {
          "output_type": "stream",
          "name": "stdout",
          "text": [
            "Collecting memory-profiler\n",
            "  Downloading memory_profiler-0.61.0-py3-none-any.whl.metadata (20 kB)\n",
            "Requirement already satisfied: psutil in /usr/local/lib/python3.11/dist-packages (from memory-profiler) (5.9.5)\n",
            "Downloading memory_profiler-0.61.0-py3-none-any.whl (31 kB)\n",
            "Installing collected packages: memory-profiler\n",
            "Successfully installed memory-profiler-0.61.0\n"
          ]
        }
      ]
    },
    {
      "cell_type": "code",
      "source": [
        "from memory_profiler import profile\n",
        "\n",
        "@profile\n",
        "def my_function():\n",
        "    a = [i for i in range(10)]\n",
        "    return a\n",
        "\n",
        "my_function()"
      ],
      "metadata": {
        "colab": {
          "base_uri": "https://localhost:8080/"
        },
        "id": "iXDPTws86J75",
        "outputId": "1bc13b3d-0ac5-4bb5-b1f5-06034b0340ac"
      },
      "execution_count": 75,
      "outputs": [
        {
          "output_type": "stream",
          "name": "stdout",
          "text": [
            "ERROR: Could not find file <ipython-input-75-135879a4a33c>\n",
            "NOTE: %mprun can only be used on functions defined in physical files, and not in the IPython environment.\n"
          ]
        },
        {
          "output_type": "execute_result",
          "data": {
            "text/plain": [
              "[0, 1, 2, 3, 4, 5, 6, 7, 8, 9]"
            ]
          },
          "metadata": {},
          "execution_count": 75
        }
      ]
    },
    {
      "cell_type": "markdown",
      "source": [
        "17. Write a Python program to create and write a list of numbers to a file, one number per line?"
      ],
      "metadata": {
        "id": "64Zr01bi4Qwb"
      }
    },
    {
      "cell_type": "code",
      "source": [
        "numbers = [1, 2, 3, 4, 5]\n",
        "with open(\"numbers.txt\", \"w\") as file:\n",
        "    for num in numbers:\n",
        "        file.write(f\"{num}\\n\")"
      ],
      "metadata": {
        "id": "ocfDi5Pc6O-c"
      },
      "execution_count": 76,
      "outputs": []
    },
    {
      "cell_type": "markdown",
      "source": [
        "18. How would you implement a basic logging setup that logs to a file with rotation after 1MB?"
      ],
      "metadata": {
        "id": "rjCkDWsS4Qto"
      }
    },
    {
      "cell_type": "code",
      "source": [
        "import logging\n",
        "from logging.handlers import RotatingFileHandler\n",
        "\n",
        "handler = RotatingFileHandler(\"app.log\", maxBytes=1_000_000, backupCount=3)\n",
        "logging.basicConfig(handlers=[handler], level=logging.INFO)\n",
        "logging.info(\"Starting application\")"
      ],
      "metadata": {
        "id": "Z8UePGgB6Obp"
      },
      "execution_count": 79,
      "outputs": []
    },
    {
      "cell_type": "markdown",
      "source": [
        "19. Write a program that handles both IndexError and KeyError using a try-except block?"
      ],
      "metadata": {
        "id": "JUAuuBDj4QrR"
      }
    },
    {
      "cell_type": "code",
      "source": [
        "try:\n",
        "    my_list = [1, 2]\n",
        "    print(my_list[3])\n",
        "    my_dict = {\"a\": 1}\n",
        "    print(my_dict[\"b\"])\n",
        "except IndexError:\n",
        "    print(\"List index out of range.\")\n",
        "except KeyError:\n",
        "    print(\"Dictionary key not found.\")"
      ],
      "metadata": {
        "colab": {
          "base_uri": "https://localhost:8080/"
        },
        "id": "OAX-jwtR6OD4",
        "outputId": "304214e8-56f6-4825-96b9-955159239552"
      },
      "execution_count": 80,
      "outputs": [
        {
          "output_type": "stream",
          "name": "stdout",
          "text": [
            "List index out of range.\n"
          ]
        }
      ]
    },
    {
      "cell_type": "markdown",
      "source": [
        "20. How would you open a file and read its contents using a context manager in Python?"
      ],
      "metadata": {
        "id": "tzrqlYeF4Qot"
      }
    },
    {
      "cell_type": "code",
      "source": [
        "with open(\"file.txt\", \"r\") as file:\n",
        "    data = file.read()\n",
        "    print(data)"
      ],
      "metadata": {
        "colab": {
          "base_uri": "https://localhost:8080/"
        },
        "id": "MwLtJ60s6Nvd",
        "outputId": "62da66ae-713a-469f-f435-1f3eb9765356"
      },
      "execution_count": 81,
      "outputs": [
        {
          "output_type": "stream",
          "name": "stdout",
          "text": [
            "\n",
            "New line appended.\n",
            "New line appended.\n"
          ]
        }
      ]
    },
    {
      "cell_type": "markdown",
      "source": [
        "21. Write a Python program that reads a file and prints the number of occurrences of a specific word?"
      ],
      "metadata": {
        "id": "pI0w0_624QmN"
      }
    },
    {
      "cell_type": "code",
      "source": [
        "word_to_count = \"Python\"\n",
        "with open(\"file.txt\", \"r\") as file:\n",
        "    content = file.read()\n",
        "    count = content.count(word_to_count)\n",
        "    print(f\"'{word_to_count}' found {count} times.\")"
      ],
      "metadata": {
        "colab": {
          "base_uri": "https://localhost:8080/"
        },
        "id": "mdVNyFlW6NPY",
        "outputId": "8ae9576a-a5dc-4b03-b93f-3b4f8c12926e"
      },
      "execution_count": 82,
      "outputs": [
        {
          "output_type": "stream",
          "name": "stdout",
          "text": [
            "'Python' found 0 times.\n"
          ]
        }
      ]
    },
    {
      "cell_type": "markdown",
      "source": [
        "22. How can you check if a file is empty before attempting to read its contents?"
      ],
      "metadata": {
        "id": "SEiMBsKG4Qj8"
      }
    },
    {
      "cell_type": "code",
      "source": [
        "import os\n",
        "\n",
        "if os.stat(\"file.txt\").st_size == 0:\n",
        "    print(\"File is empty.\")\n",
        "else:\n",
        "    with open(\"file.txt\", \"r\") as file:\n",
        "        print(file.read())"
      ],
      "metadata": {
        "colab": {
          "base_uri": "https://localhost:8080/"
        },
        "id": "D2hDG8id6M_Z",
        "outputId": "7be7e8ab-3ae1-4869-c501-065cffd87ebd"
      },
      "execution_count": 83,
      "outputs": [
        {
          "output_type": "stream",
          "name": "stdout",
          "text": [
            "\n",
            "New line appended.\n",
            "New line appended.\n"
          ]
        }
      ]
    },
    {
      "cell_type": "markdown",
      "source": [
        "23. Write a Python program that writes to a log file when an error occurs during file handling?"
      ],
      "metadata": {
        "id": "XlRZU0j24QhQ"
      }
    },
    {
      "cell_type": "code",
      "source": [
        "import logging\n",
        "\n",
        "logging.basicConfig(filename='file_error.log', level=logging.ERROR)\n",
        "\n",
        "try:\n",
        "    with open(\"missing.txt\", \"r\") as file:\n",
        "        data = file.read()\n",
        "except FileNotFoundError as e:\n",
        "    logging.error(\"Error occurred: %s\", e)"
      ],
      "metadata": {
        "colab": {
          "base_uri": "https://localhost:8080/"
        },
        "id": "_-1sg6Zl34UM",
        "outputId": "e86989b6-f288-4884-efa1-4c1ea0f5d63e"
      },
      "execution_count": 84,
      "outputs": [
        {
          "output_type": "stream",
          "name": "stderr",
          "text": [
            "ERROR:root:Error occurred: [Errno 2] No such file or directory: 'missing.txt'\n"
          ]
        }
      ]
    },
    {
      "cell_type": "code",
      "source": [],
      "metadata": {
        "id": "wVpP89zmLkXN"
      },
      "execution_count": null,
      "outputs": []
    }
  ]
}