{
  "nbformat": 4,
  "nbformat_minor": 0,
  "metadata": {
    "colab": {
      "provenance": []
    },
    "kernelspec": {
      "name": "python3",
      "display_name": "Python 3"
    },
    "language_info": {
      "name": "python"
    }
  },
  "cells": [
    {
      "cell_type": "markdown",
      "source": [
        "# **OOPS_Assignment**\n",
        "**A) Theory Questions**"
      ],
      "metadata": {
        "id": "pUtISlaegYKG"
      }
    },
    {
      "cell_type": "markdown",
      "source": [
        "1. What is Object-Oriented Programming (OOP)?\n",
        "- OOP is a programming paradigm based on the concept of objects, which contain data (attributes) and code (methods). It organizes software design around data, or objects, rather than functions and logic. The main principles are encapsulation, inheritance, polymorphism, and abstraction.\n",
        "\n",
        "2. What is a class in OOP?\n",
        "- A class is a blueprint or template for creating objects. It defines a set of attributes and methods that the created objects will have.\n",
        "\n",
        "3. What is an object in OOP?\n",
        "- An object is an instance of a class. It is a specific realization of the class with actual values assigned to its attributes.\n",
        "\n",
        "4. What is the difference between abstraction and encapsulation?\n",
        "- Abstraction hides the complex implementation details and shows only the essential features.\n",
        "\n",
        "- Encapsulation restricts direct access to some of an object’s components (like making variables private) and protects object integrity.\n",
        "\n",
        "5. What are dunder methods in Python?\n",
        "- Dunder (double underscore) methods, also called magic or special methods, are predefined methods with names starting and ending with double underscores (e.g., __init__, __str__).\n",
        " - They let you define or customize behavior of Python objects.\n",
        "\n"
      ],
      "metadata": {
        "id": "vXP5xpcrgsfq"
      }
    },
    {
      "cell_type": "markdown",
      "source": [
        "6. Explain the concept of inheritance in OOP?\n",
        "- Inheritance allows a class (child/subclass) to acquire properties and behaviors (methods) from another class (parent/superclass). It promotes code reuse and establishes a relationship between classes.\n",
        "\n",
        "7. What is polymorphism in OOP?\n",
        "- Polymorphism means \"many forms.\" It allows objects of different classes to be treated as objects of a common superclass. Methods can be overridden to perform different behaviors based on the object’s actual class.\n",
        "\n",
        "8. How is encapsulation achieved in Python?\n",
        "- Encapsulation is done by making attributes private or protected (using _ or __ prefix) and providing getter/setter methods or properties to control access.\n",
        "\n",
        "9. What is a constructor in Python?\n",
        "- The __init__() method is the constructor, called automatically when a new instance is created. It initializes the object’s attributes.\n",
        "\n",
        "10. What are class and static methods in Python?\n",
        "- Class methods use the @classmethod decorator and take cls as the first argument. They can modify class state.\n",
        "\n",
        "- Static methods use @staticmethod and don’t take self or cls. They behave like regular functions inside a class."
      ],
      "metadata": {
        "id": "rN0CVHUjgscs"
      }
    },
    {
      "cell_type": "markdown",
      "source": [
        "11. What is method overloading in Python?\n",
        "- Python doesn’t support traditional method overloading by multiple definitions. It can be simulated using default arguments, *args/**kwargs, or type checks inside a single method.\n",
        "\n",
        "12. What is method overriding in OOP?\n",
        "- Method overriding means redefining a method in a child class that was already defined in its parent class to provide a new implementation.\n",
        "\n",
        "13. What is a property decorator in Python?\n",
        "- @property allows you to define methods that can be accessed like attributes, enabling controlled access to private variables.\n",
        "\n",
        "14. Why is polymorphism important in OOP?\n",
        "- It allows flexibility and scalability, enabling code to work with objects of different classes through a common interface.\n",
        "\n",
        "15. What is an abstract class in Python?\n",
        "- An abstract class (using abc module) cannot be instantiated and may contain abstract methods that must be implemented by subclasses."
      ],
      "metadata": {
        "id": "ckEuW-Iggrq0"
      }
    },
    {
      "cell_type": "markdown",
      "source": [
        "16. What are the advantages of OOP?\n",
        "- Code reusability through inheritance\n",
        "\n",
        "- Improved code organization and modularity\n",
        "\n",
        "- Easier maintenance and scalability\n",
        "\n",
        "- Encapsulation increases security\n",
        "\n",
        "- Polymorphism enhances flexibility\n",
        "\n",
        "17. What is the difference between a class variable and an instance variable?\n",
        "- Class variable: shared among all instances of a class\n",
        "\n",
        "- Instance variable: unique to each instance\n",
        "\n",
        "18. What is multiple inheritance in Python?\n",
        "- A class inherits from more than one parent class, acquiring attributes and methods from all of them.\n",
        "\n",
        "19. Explain the purpose of __str__ and __repr__ methods in Python?\n",
        "- __str__: Defines a human-readable string representation of an object (used by print)\n",
        "\n",
        "- __repr__: Defines an official string representation, meant for developers, often used in debugging\n",
        "\n",
        "20. What is the significance of the super() function in Python?\n",
        "- super() allows you to call methods from a parent class inside a child class, useful in inheritance for extending or modifying parent behavior."
      ],
      "metadata": {
        "id": "0rhWOyA1grn6"
      }
    },
    {
      "cell_type": "markdown",
      "source": [
        "\n",
        "21. What is the significance of the __del__ method in Python?\n",
        "- It is the destructor method called when an object is about to be destroyed, used for cleanup (though its use is generally discouraged because of unpredictable timing).\n",
        "\n",
        "22. What is the difference between  @staticmethod and @classmethod in Python?\n",
        "\n",
        "- @staticmethod: No access to self or cls; behaves like a plain function inside a class\n",
        "\n",
        "- @classmethod: Receives the class (cls) as first argument and can modify class state\n",
        "\n",
        "23. How does polymorphism work in Python with inheritance?\n",
        "- Child classes override methods of the parent class, so when calling the method on a parent class reference, Python dynamically calls the child class’s version.\n",
        "\n",
        "24. What is method chaining in Python OOP?\n",
        "- Calling multiple methods sequentially on the same object, where each method returns the object itself, enabling compact and fluent code like: obj.method1().method2()\n",
        "\n",
        "25. What is the purpose of the __call__ method in Python?\n",
        "- It allows an instance of a class to be called as if it were a function, by defining what happens when you do obj()."
      ],
      "metadata": {
        "id": "CzO_X5TGgrPI"
      }
    },
    {
      "cell_type": "markdown",
      "source": [
        "**B) Practical Questions**"
      ],
      "metadata": {
        "id": "Y0QfowIijrs1"
      }
    },
    {
      "cell_type": "markdown",
      "source": [
        "1. Create a parent class Animal with a method speak() that prints a generic message. Create a child class Dog\n",
        "that overrides the speak() method to print \"Bark!\"."
      ],
      "metadata": {
        "id": "4YV1tXI5j3FU"
      }
    },
    {
      "cell_type": "code",
      "source": [
        "#Method Overriding >> method in parent class and child class with same signature child class will be more powerful\n",
        "class Animal:\n",
        "  def speak(self):\n",
        "    print(\"Animal sound\")\n",
        "class Dog(Animal):\n",
        "  def speak(self):\n",
        "    print(\"Dog Bark!\")"
      ],
      "metadata": {
        "id": "3JeuPUb1l3pn"
      },
      "execution_count": 6,
      "outputs": []
    },
    {
      "cell_type": "code",
      "source": [
        "anm = Animal()\n",
        "anm.speak() #animal class"
      ],
      "metadata": {
        "colab": {
          "base_uri": "https://localhost:8080/"
        },
        "id": "M2n8cOVfmUkt",
        "outputId": "d227d85b-d0ef-42d5-9371-32a51ed146d3"
      },
      "execution_count": 7,
      "outputs": [
        {
          "output_type": "stream",
          "name": "stdout",
          "text": [
            "Animal sound\n"
          ]
        }
      ]
    },
    {
      "cell_type": "code",
      "source": [
        "dog = Dog()\n",
        "dog.speak() #Child class is more powerful"
      ],
      "metadata": {
        "colab": {
          "base_uri": "https://localhost:8080/"
        },
        "id": "BwY8gp2nmbID",
        "outputId": "0699895f-b34f-431e-d54f-611f296b6538"
      },
      "execution_count": 8,
      "outputs": [
        {
          "output_type": "stream",
          "name": "stdout",
          "text": [
            "Dog Bark!\n"
          ]
        }
      ]
    },
    {
      "cell_type": "markdown",
      "source": [
        "2. Write a program to create an abstract class Shape with a method area(). Derive classes Circle and Rectangle\n",
        "from it and implement the area() method in both."
      ],
      "metadata": {
        "id": "ftuXK-poj3CV"
      }
    },
    {
      "cell_type": "code",
      "source": [
        "from abc import ABC, abstractmethod\n",
        "import math\n",
        "\n",
        "class Shape(ABC): #Abstract class has attributes\n",
        "    @abstractmethod\n",
        "    def area(self): #method area()\n",
        "        pass\n",
        "\n",
        "class Circle(Shape): #derive class\n",
        "    def __init__(self, radius):\n",
        "        self.radius = radius\n",
        "\n",
        "    def area(self): #area() method\n",
        "        return math.pi * self.radius ** 2\n",
        "\n",
        "class Rectangle(Shape): #derive class\n",
        "    def __init__(self, width, height):\n",
        "        self.width = width\n",
        "        self.height = height\n",
        "\n",
        "    def area(self): #area() method\n",
        "        return self.width * self.height"
      ],
      "metadata": {
        "id": "bYh_oSQYm1Ct"
      },
      "execution_count": 9,
      "outputs": []
    },
    {
      "cell_type": "code",
      "source": [
        "# Demo\n",
        "c = Circle(5)\n",
        "print(c.area())  # 78.53981633974483\n",
        "\n",
        "r = Rectangle(4, 7)\n",
        "print(r.area())  # 28"
      ],
      "metadata": {
        "colab": {
          "base_uri": "https://localhost:8080/"
        },
        "id": "2ahEOdufm9Wm",
        "outputId": "b5680a39-eae3-4d1d-cf12-70b406d25c40"
      },
      "execution_count": 10,
      "outputs": [
        {
          "output_type": "stream",
          "name": "stdout",
          "text": [
            "78.53981633974483\n",
            "28\n"
          ]
        }
      ]
    },
    {
      "cell_type": "markdown",
      "source": [
        "\n",
        "3. Implement a multi-level inheritance scenario where a class Vehicle has an attribute type. Derive a class Car\n",
        "and further derive a class ElectricCar that adds a battery attribute."
      ],
      "metadata": {
        "id": "fSDGkOaYj2_q"
      }
    },
    {
      "cell_type": "code",
      "source": [
        "#Multi level inheritance (Vehicle>Car>ElectricCar)\n",
        "class Vehicle:\n",
        "  def vehicle_info(self):\n",
        "    print(\"Inside vehicle type: 4 Wheeler\")\n",
        "class Car(Vehicle):\n",
        "  def car_info(self):\n",
        "    print(\"Insde Car class: Car\")\n",
        "class ElectricCar(Car):\n",
        "  def ecar_info(self, battery):\n",
        "    print(\"Electric Car adds a battery attribute of :\" + battery)"
      ],
      "metadata": {
        "id": "G6_vG3yhoBN_"
      },
      "execution_count": 12,
      "outputs": []
    },
    {
      "cell_type": "code",
      "source": [
        "ec=ElectricCar()\n",
        "ec.vehicle_info()\n",
        "ec.car_info()\n",
        "ec.ecar_info(\"Tesla Model 3\")"
      ],
      "metadata": {
        "colab": {
          "base_uri": "https://localhost:8080/"
        },
        "id": "IHkMefXmqT4k",
        "outputId": "11002be4-75e9-4c25-f8ab-7527e4b04909"
      },
      "execution_count": 13,
      "outputs": [
        {
          "output_type": "stream",
          "name": "stdout",
          "text": [
            "Inside vehicle type: 4 Wheeler\n",
            "Insde Car class: Car\n",
            "Electric Car adds a battery attribute of :Tesla Model 3\n"
          ]
        }
      ]
    },
    {
      "cell_type": "markdown",
      "source": [
        "\n",
        "4. Demonstrate polymorphism by creating a base class Bird with a method fly(). Create two derived classes\n",
        "Sparrow and Penguin that override the fly() method."
      ],
      "metadata": {
        "id": "-ASejQJNj288"
      }
    },
    {
      "cell_type": "code",
      "source": [
        "#Polymorphism in OOPs takes place in 2 ways\n",
        "#1. Method Overloading >> Py. dont support it (in Java), can achieve\n",
        "#2. Method Overriding\n",
        "class Bird:\n",
        "    def fly(self):\n",
        "        print(\"Birds fly in the sky\")\n",
        "\n",
        "class Sparrow(Bird):\n",
        "    def fly(self):\n",
        "        print(\"Sparrow is flying\")\n",
        "\n",
        "class Penguin(Bird):\n",
        "    def fly(self):\n",
        "        print(\"Penguins can't fly\")"
      ],
      "metadata": {
        "id": "XQF3P4dLrT7A"
      },
      "execution_count": 14,
      "outputs": []
    },
    {
      "cell_type": "code",
      "source": [
        "birds = [Sparrow(), Penguin()]\n",
        "for b in birds:\n",
        "    b.fly()"
      ],
      "metadata": {
        "colab": {
          "base_uri": "https://localhost:8080/"
        },
        "id": "qHTb_9g8rotJ",
        "outputId": "6fe75b4b-b299-4a7b-e36b-15ac283fca26"
      },
      "execution_count": 15,
      "outputs": [
        {
          "output_type": "stream",
          "name": "stdout",
          "text": [
            "Sparrow is flying\n",
            "Penguins can't fly\n"
          ]
        }
      ]
    },
    {
      "cell_type": "markdown",
      "source": [
        "\n",
        "5. Write a program to demonstrate encapsulation by creating a class BankAccount with private attributes\n",
        "balance and methods to deposit, withdraw, and check balance."
      ],
      "metadata": {
        "id": "uV1SKL80j257"
      }
    },
    {
      "cell_type": "code",
      "source": [
        "#Encapsulation is use for Bundling of data & methods of a class\n",
        "\"\"\"\n",
        "#Access Modifier are of 3 types:\n",
        "1. Public - Accessible from anywhere (out/in side) of class\n",
        "2. Protected - within the class and its subclass, protected can be access, (_)\n",
        "3. Private - Data & Method is only Accessible within its class, using __ to make private\n",
        "\"\"\"\n",
        "#Use in bank is deposit or withdraw\n",
        "class BankAccount:\n",
        "  def __init__(self, balance):\n",
        "    self.__balance = balance\n",
        "  def deposit(self, amount): #amount is new deposit\n",
        "    self.__balance = self.__balance + amount\n",
        "  def withdraw(self, amount):\n",
        "    if self.__balance >= amount:\n",
        "      self.__balance = self.__balance - amount\n",
        "      return True\n",
        "    else:\n",
        "      return False\n",
        "  def get_balance(self): #Check balance\n",
        "    return self.__balance"
      ],
      "metadata": {
        "id": "OB9_XfFIr4Nb"
      },
      "execution_count": 16,
      "outputs": []
    },
    {
      "cell_type": "code",
      "source": [
        "acc1 = BankAccount(1000) #Opening amount\n",
        "acc1.deposit(500)\n",
        "acc1.get_balance()"
      ],
      "metadata": {
        "colab": {
          "base_uri": "https://localhost:8080/"
        },
        "id": "ba8Z2XipsYBj",
        "outputId": "3a52fcb5-886f-4013-bedd-a69e38abe9bf"
      },
      "execution_count": 18,
      "outputs": [
        {
          "output_type": "execute_result",
          "data": {
            "text/plain": [
              "1500"
            ]
          },
          "metadata": {},
          "execution_count": 18
        }
      ]
    },
    {
      "cell_type": "code",
      "source": [
        "acc1.withdraw(150)\n",
        "acc1.get_balance()"
      ],
      "metadata": {
        "colab": {
          "base_uri": "https://localhost:8080/"
        },
        "id": "wo-qvBoMsfkN",
        "outputId": "dac0d334-81f9-4a31-f884-d94dceba78e1"
      },
      "execution_count": 19,
      "outputs": [
        {
          "output_type": "execute_result",
          "data": {
            "text/plain": [
              "1350"
            ]
          },
          "metadata": {},
          "execution_count": 19
        }
      ]
    },
    {
      "cell_type": "markdown",
      "source": [
        "\n",
        "6. Demonstrate runtime polymorphism using a method play() in a base class Instrument. Derive classes Guitar\n",
        "and Piano that implement their own version of play().\n"
      ],
      "metadata": {
        "id": "hlGv7Mr0j23a"
      }
    },
    {
      "cell_type": "code",
      "source": [
        "#Polymorphism = Many, morphism = forms / states\n",
        "#refers to Object taking several forms depending on the Methods/data\n",
        "class Instrument: #Base class\n",
        "    def play(self): #method\n",
        "        print(\"Playing instrument\")\n",
        "\n",
        "class Guitar(Instrument): #Derive class\n",
        "    def play(self):\n",
        "        print(\"Strumming the guitar\")\n",
        "\n",
        "class Piano(Instrument): #Derive class\n",
        "    def play(self):\n",
        "        print(\"Playing the piano\")"
      ],
      "metadata": {
        "id": "PIo2g50RsoO8"
      },
      "execution_count": 20,
      "outputs": []
    },
    {
      "cell_type": "code",
      "source": [
        "instruments = [Guitar(), Piano()]\n",
        "for inst in instruments:\n",
        "    inst.play()"
      ],
      "metadata": {
        "colab": {
          "base_uri": "https://localhost:8080/"
        },
        "id": "lYb2W1httEMg",
        "outputId": "9941e36f-412e-42c6-c60f-260347e75e5c"
      },
      "execution_count": 21,
      "outputs": [
        {
          "output_type": "stream",
          "name": "stdout",
          "text": [
            "Strumming the guitar\n",
            "Playing the piano\n"
          ]
        }
      ]
    },
    {
      "cell_type": "markdown",
      "source": [
        "\n",
        "7. Create a class MathOperations with a class method add_numbers() to add two numbers and a static\n",
        "method subtract_numbers() to subtract two numbers.\n"
      ],
      "metadata": {
        "id": "qswwYoCij20v"
      }
    },
    {
      "cell_type": "code",
      "source": [
        "class MathOperations:\n",
        "    @classmethod\n",
        "    def add_numbers(cls, a, b): #Class method\n",
        "        return a + b\n",
        "\n",
        "    @staticmethod\n",
        "    def subtract_numbers(a, b): #Static method\n",
        "        return a - b"
      ],
      "metadata": {
        "id": "njo-RugotRES"
      },
      "execution_count": 22,
      "outputs": []
    },
    {
      "cell_type": "code",
      "source": [
        "print(MathOperations.add_numbers(5, 3))\n",
        "print(MathOperations.subtract_numbers(5, 3))"
      ],
      "metadata": {
        "colab": {
          "base_uri": "https://localhost:8080/"
        },
        "id": "DwoM2uZnth-P",
        "outputId": "bc521aa7-c083-4df2-f72f-6ced645c761d"
      },
      "execution_count": 23,
      "outputs": [
        {
          "output_type": "stream",
          "name": "stdout",
          "text": [
            "8\n",
            "2\n"
          ]
        }
      ]
    },
    {
      "cell_type": "markdown",
      "source": [
        "\n",
        "8. Implement a class Person with a class method to count the total number of persons created.\n"
      ],
      "metadata": {
        "id": "ty8akcXBj2x-"
      }
    },
    {
      "cell_type": "code",
      "source": [
        "class Person:\n",
        "    count = 0\n",
        "\n",
        "    def __init__(self, name):\n",
        "        self.name = name\n",
        "        Person.count += 1\n",
        "\n",
        "    @classmethod\n",
        "    def total_persons(cls): #class method\n",
        "        return cls.count"
      ],
      "metadata": {
        "id": "diXYJ8KGuVYq"
      },
      "execution_count": 24,
      "outputs": []
    },
    {
      "cell_type": "code",
      "source": [
        "p1 = Person(\"Alice\")\n",
        "p2 = Person(\"Bob\")\n",
        "print(Person.total_persons())"
      ],
      "metadata": {
        "colab": {
          "base_uri": "https://localhost:8080/"
        },
        "id": "Oj1tnrWzuhFR",
        "outputId": "c8ae3ab3-5b03-4f2b-c50b-b132e18b528e"
      },
      "execution_count": 25,
      "outputs": [
        {
          "output_type": "stream",
          "name": "stdout",
          "text": [
            "2\n"
          ]
        }
      ]
    },
    {
      "cell_type": "markdown",
      "source": [
        "\n",
        "9. Write a class Fraction with attributes numerator and denominator. Override the str method to display the\n",
        "fraction as \"numerator/denominator\".\n"
      ],
      "metadata": {
        "id": "oYDr9nrDj2uw"
      }
    },
    {
      "cell_type": "code",
      "source": [
        "class Fraction:\n",
        "    def __init__(self, numerator, denominator): #attributes\n",
        "        self.numerator = numerator\n",
        "        self.denominator = denominator\n",
        "\n",
        "    def __str__(self):\n",
        "        return f\"{self.numerator}/{self.denominator}\""
      ],
      "metadata": {
        "id": "JbbVTbInumTn"
      },
      "execution_count": 26,
      "outputs": []
    },
    {
      "cell_type": "code",
      "source": [
        "f = Fraction(3, 4)\n",
        "print(f)"
      ],
      "metadata": {
        "colab": {
          "base_uri": "https://localhost:8080/"
        },
        "id": "4NtP2gL4u5Lf",
        "outputId": "c5ea177d-94a1-473a-bead-8c458b369e69"
      },
      "execution_count": 27,
      "outputs": [
        {
          "output_type": "stream",
          "name": "stdout",
          "text": [
            "3/4\n"
          ]
        }
      ]
    },
    {
      "cell_type": "markdown",
      "source": [
        "\n",
        "10. Demonstrate operator overloading by creating a class Vector and overriding the add method to add two\n",
        "vectors.\n"
      ],
      "metadata": {
        "id": "MSpoSwMDj11W"
      }
    },
    {
      "cell_type": "code",
      "source": [
        "class Vector:\n",
        "    def __init__(self, x, y):\n",
        "        self.x = x\n",
        "        self.y = y\n",
        "\n",
        "    def __add__(self, other):\n",
        "        return Vector(self.x + other.x, self.y + other.y)\n",
        "\n",
        "    def __str__(self):\n",
        "        return f\"Vector({self.x}, {self.y})\""
      ],
      "metadata": {
        "id": "WTzLr4ohu-6n"
      },
      "execution_count": 29,
      "outputs": []
    },
    {
      "cell_type": "code",
      "source": [
        "v1 = Vector(1, 2)\n",
        "v2 = Vector(3, 4)\n",
        "v3 = v1 + v2\n",
        "print(v3)"
      ],
      "metadata": {
        "colab": {
          "base_uri": "https://localhost:8080/"
        },
        "id": "j1oUSUfJyJ7B",
        "outputId": "a57f4f7d-f401-47ba-97e3-0dfbcd110242"
      },
      "execution_count": 30,
      "outputs": [
        {
          "output_type": "stream",
          "name": "stdout",
          "text": [
            "Vector(4, 6)\n"
          ]
        }
      ]
    },
    {
      "cell_type": "markdown",
      "source": [
        "\n",
        "11. Create a class Person with attributes name and age. Add a method greet() that prints \"Hello, my name is\n",
        "{name} and I am {age} years old.\"\n"
      ],
      "metadata": {
        "id": "yZpdICrwj1zI"
      }
    },
    {
      "cell_type": "code",
      "source": [
        "class Person:\n",
        "    def __init__(self, name, age): #attributes\n",
        "        self.name = name\n",
        "        self.age = age\n",
        "\n",
        "    def greet(self): #method\n",
        "        print(f\"Hello, my name is {self.name} and I am {self.age} years old.\")"
      ],
      "metadata": {
        "id": "5USWiSrmyUdq"
      },
      "execution_count": 31,
      "outputs": []
    },
    {
      "cell_type": "code",
      "source": [
        "p = Person(\"Aman Ullah\", 30)\n",
        "p.greet()"
      ],
      "metadata": {
        "colab": {
          "base_uri": "https://localhost:8080/"
        },
        "id": "hJvKIbzZyiae",
        "outputId": "40ba0d36-d9b4-4ef0-c7f7-32e1eea77f08"
      },
      "execution_count": 32,
      "outputs": [
        {
          "output_type": "stream",
          "name": "stdout",
          "text": [
            "Hello, my name is Aman Ullah and I am 30 years old.\n"
          ]
        }
      ]
    },
    {
      "cell_type": "markdown",
      "source": [
        "\n",
        "12. Implement a class Student with attributes name and grades. Create a method average_grade() to compute\n",
        "the average of the grades.\n"
      ],
      "metadata": {
        "id": "zyXKoiA6j1wD"
      }
    },
    {
      "cell_type": "code",
      "source": [
        "class Student:\n",
        "    def __init__(self, name, grades): #attributes\n",
        "        self.name = name\n",
        "        self.grades = grades\n",
        "\n",
        "    def average_grade(self): #method\n",
        "        return sum(self.grades) / len(self.grades) if self.grades else 0"
      ],
      "metadata": {
        "id": "N7M_9GIwynXL"
      },
      "execution_count": 34,
      "outputs": []
    },
    {
      "cell_type": "code",
      "source": [
        "s = Student(\"Bob\", [80, 90, 85])\n",
        "print(s.average_grade())"
      ],
      "metadata": {
        "colab": {
          "base_uri": "https://localhost:8080/"
        },
        "id": "4rDJbGIFy2Na",
        "outputId": "d9867e07-22cb-4307-9092-6489b153b100"
      },
      "execution_count": 35,
      "outputs": [
        {
          "output_type": "stream",
          "name": "stdout",
          "text": [
            "85.0\n"
          ]
        }
      ]
    },
    {
      "cell_type": "markdown",
      "source": [
        "\n",
        "13. Create a class Rectangle with methods set_dimensions() to set the dimensions and area() to calculate the\n",
        "area.\n"
      ],
      "metadata": {
        "id": "0pbc7MKQj1sP"
      }
    },
    {
      "cell_type": "code",
      "source": [
        "class Rectangle:\n",
        "    def __init__(self):\n",
        "        self.width = 0\n",
        "        self.height = 0\n",
        "\n",
        "    def set_dimensions(self, width, height): #method\n",
        "        self.width = width\n",
        "        self.height = height\n",
        "\n",
        "    def area(self): #method\n",
        "        return self.width * self.height"
      ],
      "metadata": {
        "id": "ER0-1O2DzD2D"
      },
      "execution_count": 36,
      "outputs": []
    },
    {
      "cell_type": "code",
      "source": [
        "r = Rectangle()\n",
        "r.set_dimensions(5, 10)\n",
        "print(r.area())"
      ],
      "metadata": {
        "colab": {
          "base_uri": "https://localhost:8080/"
        },
        "id": "goHah73BzOw7",
        "outputId": "2d7e468a-475a-4f79-c0fa-66257b5cad62"
      },
      "execution_count": 37,
      "outputs": [
        {
          "output_type": "stream",
          "name": "stdout",
          "text": [
            "50\n"
          ]
        }
      ]
    },
    {
      "cell_type": "markdown",
      "source": [
        "\n",
        "14. Create a class Employee with a method calculate_salary() that computes the salary based on hours worked\n",
        "and hourly rate. Create a derived class Manager that adds a bonus to the salary."
      ],
      "metadata": {
        "id": "23Bo-IdPj1oi"
      }
    },
    {
      "cell_type": "code",
      "source": [
        "class Employee:\n",
        "    def __init__(self, hours_worked, hourly_rate):\n",
        "        self.hours_worked = hours_worked\n",
        "        self.hourly_rate = hourly_rate\n",
        "\n",
        "    def calculate_salary(self): #method\n",
        "        return self.hours_worked * self.hourly_rate #Hourly paid\n",
        "\n",
        "class Manager(Employee): #derived class\n",
        "    def __init__(self, hours_worked, hourly_rate, bonus): #bonus added as attribute\n",
        "        super().__init__(hours_worked, hourly_rate)\n",
        "        self.bonus = bonus\n",
        "\n",
        "    def calculate_salary(self):\n",
        "        base_salary = super().calculate_salary()\n",
        "        return base_salary + self.bonus"
      ],
      "metadata": {
        "id": "BcXVCOJmzYNy"
      },
      "execution_count": 39,
      "outputs": []
    },
    {
      "cell_type": "code",
      "source": [
        "e = Employee(40, 20)\n",
        "print(e.calculate_salary())\n",
        "\n",
        "m = Manager(40, 20, 200)\n",
        "print(m.calculate_salary())"
      ],
      "metadata": {
        "colab": {
          "base_uri": "https://localhost:8080/"
        },
        "id": "jXvzm4YM0f8C",
        "outputId": "06ce92d4-66f3-4954-d17a-dea25fe4fe22"
      },
      "execution_count": 40,
      "outputs": [
        {
          "output_type": "stream",
          "name": "stdout",
          "text": [
            "800\n",
            "1000\n"
          ]
        }
      ]
    },
    {
      "cell_type": "markdown",
      "source": [
        "15. Create a class Product with attributes name, price, and quantity. Implement a method total_price() that\n",
        "calculates the total price of the product.\n"
      ],
      "metadata": {
        "id": "Xp6txuSpj1k3"
      }
    },
    {
      "cell_type": "code",
      "source": [
        "class Product:\n",
        "    def __init__(self, name, price, quantity):\n",
        "        self.name = name\n",
        "        self.price = price\n",
        "        self.quantity = quantity\n",
        "\n",
        "    def total_price(self): #method\n",
        "        return self.price * self.quantity"
      ],
      "metadata": {
        "id": "_fiaUPRN0sTA"
      },
      "execution_count": 41,
      "outputs": []
    },
    {
      "cell_type": "code",
      "source": [
        "p = Product(\"Lamp\", 800, 3)\n",
        "print(p.total_price())"
      ],
      "metadata": {
        "colab": {
          "base_uri": "https://localhost:8080/"
        },
        "id": "ohs67AYe03dw",
        "outputId": "327bb3a9-2c4e-4858-ed03-cb5f653eb8ad"
      },
      "execution_count": 42,
      "outputs": [
        {
          "output_type": "stream",
          "name": "stdout",
          "text": [
            "2400\n"
          ]
        }
      ]
    },
    {
      "cell_type": "markdown",
      "source": [
        "\n",
        "16. Create a class Animal with an abstract method sound(). Create two derived classes Cow and Sheep that\n",
        "implement the sound() method.\n"
      ],
      "metadata": {
        "id": "Ah1ffLwpkl4k"
      }
    },
    {
      "cell_type": "code",
      "source": [
        "from abc import ABC, abstractmethod\n",
        "\n",
        "class Animal(ABC):\n",
        "    @abstractmethod\n",
        "    def sound(self):\n",
        "        pass\n",
        "\n",
        "class Cow(Animal):\n",
        "    def sound(self):\n",
        "        return \"Moo\"\n",
        "\n",
        "class Sheep(Animal):\n",
        "    def sound(self):\n",
        "        return \"Baa\""
      ],
      "metadata": {
        "id": "FUj-FmbE1pzs"
      },
      "execution_count": 45,
      "outputs": []
    },
    {
      "cell_type": "code",
      "source": [
        "c = Cow()\n",
        "s = Sheep()\n",
        "print(c.sound())\n",
        "print(s.sound())"
      ],
      "metadata": {
        "colab": {
          "base_uri": "https://localhost:8080/"
        },
        "id": "7-dJQTf61wn9",
        "outputId": "eb6e838c-d3e0-4e02-d3dd-6835dd070ab9"
      },
      "execution_count": 44,
      "outputs": [
        {
          "output_type": "stream",
          "name": "stdout",
          "text": [
            "Moo\n",
            "Baa\n"
          ]
        }
      ]
    },
    {
      "cell_type": "markdown",
      "source": [
        "\n",
        "17. Create a class Book with attributes title, author, and year_published. Add a method get_book_info() that\n",
        "returns a formatted string with the book's details.\n"
      ],
      "metadata": {
        "id": "0ZxpAypQklxB"
      }
    },
    {
      "cell_type": "code",
      "source": [
        "class Book:\n",
        "    def __init__(self, title, author, year_published):\n",
        "        self.title = title\n",
        "        self.author = author\n",
        "        self.year_published = year_published\n",
        "\n",
        "    def get_book_info(self):\n",
        "        return f\"'{self.title}' by {self.author}, published in {self.year_published}\""
      ],
      "metadata": {
        "id": "Q_4NjwNJ1765"
      },
      "execution_count": 46,
      "outputs": []
    },
    {
      "cell_type": "code",
      "source": [
        "b = Book(\"1984\", \"George Orwell\", 1949)\n",
        "print(b.get_book_info())"
      ],
      "metadata": {
        "id": "7u53MdQl1_ZA",
        "outputId": "417dcf13-778b-4925-d481-91a49d43afb5",
        "colab": {
          "base_uri": "https://localhost:8080/"
        }
      },
      "execution_count": 47,
      "outputs": [
        {
          "output_type": "stream",
          "name": "stdout",
          "text": [
            "'1984' by George Orwell, published in 1949\n"
          ]
        }
      ]
    },
    {
      "cell_type": "markdown",
      "source": [
        "\n",
        "18. Create a class House with attributes address and price. Create a derived class Mansion that adds an\n",
        "attribute number_of_rooms."
      ],
      "metadata": {
        "id": "mlC2chCWklqN"
      }
    },
    {
      "cell_type": "code",
      "source": [
        "class House:\n",
        "    def __init__(self, address, price):\n",
        "        self.address = address\n",
        "        self.price = price\n",
        "\n",
        "class Mansion(House):\n",
        "    def __init__(self, address, price, number_of_rooms):\n",
        "        super().__init__(address, price)\n",
        "        self.number_of_rooms = number_of_rooms"
      ],
      "metadata": {
        "id": "Zf4wqGTajlHN"
      },
      "execution_count": 48,
      "outputs": []
    },
    {
      "cell_type": "code",
      "source": [
        "m = Mansion(\"123 New Delhi\", 5000000, 12)\n",
        "print(m.address)\n",
        "print(m.price)\n",
        "print(m.number_of_rooms)"
      ],
      "metadata": {
        "id": "ECXpB1qs3RMz",
        "outputId": "e3c88ff6-2b7d-46d1-fe70-ef4c0bb0b963",
        "colab": {
          "base_uri": "https://localhost:8080/"
        }
      },
      "execution_count": 49,
      "outputs": [
        {
          "output_type": "stream",
          "name": "stdout",
          "text": [
            "123 New Delhi\n",
            "5000000\n",
            "12\n"
          ]
        }
      ]
    },
    {
      "cell_type": "code",
      "source": [],
      "metadata": {
        "id": "sd9q5IMb3XxX"
      },
      "execution_count": null,
      "outputs": []
    }
  ]
}