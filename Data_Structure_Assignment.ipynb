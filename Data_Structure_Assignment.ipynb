{
  "nbformat": 4,
  "nbformat_minor": 0,
  "metadata": {
    "colab": {
      "provenance": []
    },
    "kernelspec": {
      "name": "python3",
      "display_name": "Python 3"
    },
    "language_info": {
      "name": "python"
    }
  },
  "cells": [
    {
      "cell_type": "markdown",
      "source": [
        "**Data_Structure_Assignment**\n",
        "\n",
        "Theory Questions\n",
        "\n"
      ],
      "metadata": {
        "id": "BMSrnOR2buVZ"
      }
    },
    {
      "cell_type": "markdown",
      "source": [
        "1. What are data structures, and why are they important?\n",
        "  -  Data structures organize and store data efficiently, enabling easy access and modification.\n",
        "2. Explain the difference between mutable and immutable data types with examples?\n",
        "  -  Mutable can change (e.g., list), immutable cannot (e.g., tuple, str)\n",
        "3. What are the main differences between lists and tuples in Python?\n",
        "  -  Lists are mutable and slower; tuples are immutable and faster.\n",
        "4. Describe how dictionaries store data?\n",
        "  -  As key-value pairs using a hash table.\n",
        "5. Why might you use a set instead of a list in Python?\n",
        "  -  Sets eliminate duplicates and offer faster membership testing.\n",
        "6. What is a string in Python, and how is it different from a list?\n",
        "  - String is an immutable sequence of characters and is of one datatype while a list is mutable and can hold various data types.\n",
        "7. How do tuples ensure data integrity in Python?\n",
        "  -  Their immutability prevents accidental changes.\n",
        "8. What is a hash table, and how does it relate to dictionaries in Python?\n",
        "  -  A hash table maps keys to values using hash function;\n",
        "  - Python dictionaries use this internally.\n",
        "9. Can lists contain different data types in Python?\n",
        "  -  Yes\n",
        "10. Explain why strings are immutable in Python?\n",
        "  -  To ensure data consistency and allow for internal optimizations like string interning.\n",
        "11. What advantages do dictionaries offer over lists for certain tasks?\n",
        "  -  Faster lookups using keys and clearer data organization.\n",
        "12. Describe a scenario where using a tuple would be preferable over a list?\n",
        "  -  When storing fixed configuration data or as dictionary keys.\n",
        "13. How do sets handle duplicate values in Python?\n",
        "  -  Sets automatically remove duplicates.\n",
        "14. How does the “in” keyword work differently for lists and dictionaries?\n",
        "  -  In lists, it checks for values; in dictionaries, it checks for keys.\n",
        "15. Can you modify the elements of a tuple? Explain why or why not?\n",
        "  -  No\n",
        "  - Tuples are immutable, meaning their contents can’t be changed.\n",
        "16. What is a nested dictionary, and give an example of its use case?\n",
        "  -  A dictionary inside another; useful for representing hierarchical data like user profiles.\n",
        "17. Describe the time complexity of accessing elements in a dictionary?\n",
        "  -  Average time complexity is O(1), constant time.\n",
        "18. In what situations are lists preferred over dictionaries?\n",
        "  -  When order matters and data doesn’t require key-value mapping.\n",
        "19. Why are dictionaries considered unordered, and how does that affect data retrieval?\n",
        "  -  Prior to Python 3.7, insertion order is not maintained; now they do, but key-based access remains primary.\n",
        "20. Explain the difference between a list and a dictionary in terms of data retrieval?\n",
        "  -  Lists use index-based access; dictionaries use key-based access, which is faster for lookups.\n"
      ],
      "metadata": {
        "id": "RbT-pSQBe9PZ"
      }
    },
    {
      "cell_type": "markdown",
      "source": [
        "**Practical Questions**"
      ],
      "metadata": {
        "id": "dc-qzUaPi4qU"
      }
    },
    {
      "cell_type": "markdown",
      "source": [
        "1. Create a string with your name and print it?"
      ],
      "metadata": {
        "id": "RUtw1Juyi-hN"
      }
    },
    {
      "cell_type": "code",
      "source": [
        "name = \"Aman Ullah\"\n",
        "print(name)"
      ],
      "metadata": {
        "colab": {
          "base_uri": "https://localhost:8080/"
        },
        "id": "sIWABEE1i1RA",
        "outputId": "8a0eaaae-b6cb-4086-8073-08c5aa8ef99b"
      },
      "execution_count": 2,
      "outputs": [
        {
          "output_type": "stream",
          "name": "stdout",
          "text": [
            "Aman Ullah\n"
          ]
        }
      ]
    },
    {
      "cell_type": "markdown",
      "source": [
        "2. Find the length of the string \"Hello World\"?"
      ],
      "metadata": {
        "id": "4QVcbfoaF0st"
      }
    },
    {
      "cell_type": "code",
      "source": [
        "print(len(\"Hello World\"))"
      ],
      "metadata": {
        "colab": {
          "base_uri": "https://localhost:8080/"
        },
        "id": "xFLtzibOF_no",
        "outputId": "69418f73-9310-4b29-98c4-32e83a2b9644"
      },
      "execution_count": 3,
      "outputs": [
        {
          "output_type": "stream",
          "name": "stdout",
          "text": [
            "11\n"
          ]
        }
      ]
    },
    {
      "cell_type": "markdown",
      "source": [
        "3. Slice the first 3 characters from \"Python Programming\"?"
      ],
      "metadata": {
        "id": "PAM21n9CF0ou"
      }
    },
    {
      "cell_type": "code",
      "source": [
        "print(\"Python Programming\"[:3])"
      ],
      "metadata": {
        "colab": {
          "base_uri": "https://localhost:8080/"
        },
        "id": "vTnzKqTfGTUX",
        "outputId": "ff050363-9e1a-413c-90d1-7145c3d0e915"
      },
      "execution_count": 4,
      "outputs": [
        {
          "output_type": "stream",
          "name": "stdout",
          "text": [
            "Pyt\n"
          ]
        }
      ]
    },
    {
      "cell_type": "markdown",
      "source": [
        "4. Convert \"hello\" to uppercase?"
      ],
      "metadata": {
        "id": "28PDZlfvGSZ6"
      }
    },
    {
      "cell_type": "code",
      "source": [
        "print(\"hello\".upper())"
      ],
      "metadata": {
        "colab": {
          "base_uri": "https://localhost:8080/"
        },
        "id": "lM5utOFXGpIL",
        "outputId": "5fb935fe-d871-42d1-c7ac-24a06f25c078"
      },
      "execution_count": 5,
      "outputs": [
        {
          "output_type": "stream",
          "name": "stdout",
          "text": [
            "HELLO\n"
          ]
        }
      ]
    },
    {
      "cell_type": "markdown",
      "source": [
        "5. Replace \"apple\" with \"orange\" in the string \"I like apple\"P?"
      ],
      "metadata": {
        "id": "kb2zIiYOF0lw"
      }
    },
    {
      "cell_type": "code",
      "source": [
        "print(\"I like apple\".replace(\"apple\", \"orange\"))"
      ],
      "metadata": {
        "colab": {
          "base_uri": "https://localhost:8080/"
        },
        "id": "uRNIgyqPGyGo",
        "outputId": "e9d6beb8-9193-462f-d7b5-15acc486791d"
      },
      "execution_count": 6,
      "outputs": [
        {
          "output_type": "stream",
          "name": "stdout",
          "text": [
            "I like orange\n"
          ]
        }
      ]
    },
    {
      "cell_type": "markdown",
      "source": [
        "6. Create a list with numbers 1 to 5 and print it"
      ],
      "metadata": {
        "id": "X6Ru2rLwF0ie"
      }
    },
    {
      "cell_type": "code",
      "source": [
        "n = [1, 2, 3, 4, 5]\n",
        "print(n)"
      ],
      "metadata": {
        "colab": {
          "base_uri": "https://localhost:8080/"
        },
        "id": "xuIt1LtaG_65",
        "outputId": "5b01b064-ef32-4bd6-b4a7-34003395644c"
      },
      "execution_count": 7,
      "outputs": [
        {
          "output_type": "stream",
          "name": "stdout",
          "text": [
            "[1, 2, 3, 4, 5]\n"
          ]
        }
      ]
    },
    {
      "cell_type": "markdown",
      "source": [
        "7. Append 10 to list [1, 2, 3, 4]?"
      ],
      "metadata": {
        "id": "uCrk25Y9F0fR"
      }
    },
    {
      "cell_type": "code",
      "source": [
        "a = [1, 2, 3, 4]\n",
        "a.append(10)\n",
        "print(a)"
      ],
      "metadata": {
        "colab": {
          "base_uri": "https://localhost:8080/"
        },
        "id": "fPYPEdR5HJMp",
        "outputId": "aed69b53-4736-48c7-d880-723f6a916b60"
      },
      "execution_count": 8,
      "outputs": [
        {
          "output_type": "stream",
          "name": "stdout",
          "text": [
            "[1, 2, 3, 4, 10]\n"
          ]
        }
      ]
    },
    {
      "cell_type": "markdown",
      "source": [
        "8. Remove number 3 from list [1, 2, 3, 4, 5]"
      ],
      "metadata": {
        "id": "35YmXY2SF0b7"
      }
    },
    {
      "cell_type": "code",
      "source": [
        "a = [1, 2, 3, 4,5]\n",
        "a.remove(3)\n",
        "print(a)"
      ],
      "metadata": {
        "colab": {
          "base_uri": "https://localhost:8080/"
        },
        "id": "DyKhZhTRHXQL",
        "outputId": "57131e01-82b4-48f7-8339-09fc468cf701"
      },
      "execution_count": 9,
      "outputs": [
        {
          "output_type": "stream",
          "name": "stdout",
          "text": [
            "[1, 2, 4, 5]\n"
          ]
        }
      ]
    },
    {
      "cell_type": "markdown",
      "source": [
        "9. Access second element in ['a', 'b', 'c', 'd']"
      ],
      "metadata": {
        "id": "qYv-2OSnF0YZ"
      }
    },
    {
      "cell_type": "code",
      "source": [
        "a = ['a', 'b', 'c', 'd']\n",
        "print(a[1])"
      ],
      "metadata": {
        "colab": {
          "base_uri": "https://localhost:8080/"
        },
        "id": "H86UIvOvHjzq",
        "outputId": "5d4f1d36-6ca2-4365-e45b-e9588bbe6033"
      },
      "execution_count": 10,
      "outputs": [
        {
          "output_type": "stream",
          "name": "stdout",
          "text": [
            "b\n"
          ]
        }
      ]
    },
    {
      "cell_type": "markdown",
      "source": [
        "10. Reverse list [10, 20, 30, 40, 50]"
      ],
      "metadata": {
        "id": "B9yOHgncF0Va"
      }
    },
    {
      "cell_type": "code",
      "source": [
        "a = [10, 20, 30, 40, 50]\n",
        "a.reverse()\n",
        "print(a)"
      ],
      "metadata": {
        "colab": {
          "base_uri": "https://localhost:8080/"
        },
        "id": "WHB7twq3Hvjc",
        "outputId": "6f7e4c66-5047-4b23-fd26-0dce757d8f06"
      },
      "execution_count": 12,
      "outputs": [
        {
          "output_type": "stream",
          "name": "stdout",
          "text": [
            "[50, 40, 30, 20, 10]\n"
          ]
        }
      ]
    },
    {
      "cell_type": "markdown",
      "source": [
        "11. Create tuple (100, 200, 300) and print"
      ],
      "metadata": {
        "id": "R7-5rEbWF0OP"
      }
    },
    {
      "cell_type": "code",
      "source": [
        "t = (100, 200, 300)\n",
        "print(t)"
      ],
      "metadata": {
        "colab": {
          "base_uri": "https://localhost:8080/"
        },
        "id": "QstOjphCIHEy",
        "outputId": "209035be-c141-4d26-e223-8bae0972f91b"
      },
      "execution_count": 13,
      "outputs": [
        {
          "output_type": "stream",
          "name": "stdout",
          "text": [
            "(100, 200, 300)\n"
          ]
        }
      ]
    },
    {
      "cell_type": "markdown",
      "source": [
        "12. Access the second-to-last element of the tuple ('red', 'green', 'blue', 'yellow')?"
      ],
      "metadata": {
        "id": "fESbOY4FF0IU"
      }
    },
    {
      "cell_type": "code",
      "source": [
        "colors = ('red', 'green', 'blue', 'yellow')\n",
        "print(colors[1:])"
      ],
      "metadata": {
        "colab": {
          "base_uri": "https://localhost:8080/"
        },
        "id": "R69qB4FFIL2j",
        "outputId": "1422d976-d9e8-4850-d34b-2d1aa746b078"
      },
      "execution_count": 16,
      "outputs": [
        {
          "output_type": "stream",
          "name": "stdout",
          "text": [
            "('green', 'blue', 'yellow')\n"
          ]
        }
      ]
    },
    {
      "cell_type": "markdown",
      "source": [
        "13. Find minimum number in tuple (10, 20, 5, 15)?"
      ],
      "metadata": {
        "id": "QrUpZlKyF0FM"
      }
    },
    {
      "cell_type": "code",
      "source": [
        "print(min((10, 20, 5, 15)))"
      ],
      "metadata": {
        "colab": {
          "base_uri": "https://localhost:8080/"
        },
        "id": "wadkPCUDIbKC",
        "outputId": "58a075f8-c9f8-4a00-bc45-72dae4db7189"
      },
      "execution_count": 17,
      "outputs": [
        {
          "output_type": "stream",
          "name": "stdout",
          "text": [
            "5\n"
          ]
        }
      ]
    },
    {
      "cell_type": "markdown",
      "source": [
        "14. Find index of \"cat\" in a tuple?"
      ],
      "metadata": {
        "id": "p0LPa2FuF0CW"
      }
    },
    {
      "cell_type": "code",
      "source": [
        "animals = ('dog', 'cat', 'rabbit')\n",
        "print(animals.index(\"cat\"))"
      ],
      "metadata": {
        "colab": {
          "base_uri": "https://localhost:8080/"
        },
        "id": "PoGJn3FyIkFj",
        "outputId": "18bb7914-cf22-4761-ffe3-3cb9f4939da2"
      },
      "execution_count": 18,
      "outputs": [
        {
          "output_type": "stream",
          "name": "stdout",
          "text": [
            "1\n"
          ]
        }
      ]
    },
    {
      "cell_type": "markdown",
      "source": [
        "15. Create a tuple containing three different fruits and check if \"kiwi\" is in it?"
      ],
      "metadata": {
        "id": "sOV4LfbxFz_M"
      }
    },
    {
      "cell_type": "code",
      "source": [
        "fruits = (\"apple\", \"banana\", \"mango\")\n",
        "print(\"kiwi\" in fruits)"
      ],
      "metadata": {
        "colab": {
          "base_uri": "https://localhost:8080/"
        },
        "id": "zeQOxN8xIqHt",
        "outputId": "13ad353e-30c1-4e05-803c-68837e512382"
      },
      "execution_count": 19,
      "outputs": [
        {
          "output_type": "stream",
          "name": "stdout",
          "text": [
            "False\n"
          ]
        }
      ]
    },
    {
      "cell_type": "markdown",
      "source": [
        "16. Create set {'a', 'b', 'c'} and print?"
      ],
      "metadata": {
        "id": "KaGgU1wSFz8E"
      }
    },
    {
      "cell_type": "code",
      "source": [
        "set1 = {'a', 'b', 'c'}\n",
        "print(set1) #Set will print random and unique"
      ],
      "metadata": {
        "colab": {
          "base_uri": "https://localhost:8080/"
        },
        "id": "rmfNjFYDIzIW",
        "outputId": "2dbc0936-525a-4978-fc6a-642a505b44ef"
      },
      "execution_count": 20,
      "outputs": [
        {
          "output_type": "stream",
          "name": "stdout",
          "text": [
            "{'c', 'b', 'a'}\n"
          ]
        }
      ]
    },
    {
      "cell_type": "markdown",
      "source": [
        "17. Clear all elements from {1, 2, 3, 4, 5}"
      ],
      "metadata": {
        "id": "RUq36BVkFz5M"
      }
    },
    {
      "cell_type": "code",
      "source": [
        "set2 = {1, 2, 3, 4, 5}\n",
        "set2.clear()\n",
        "print(set2)"
      ],
      "metadata": {
        "colab": {
          "base_uri": "https://localhost:8080/"
        },
        "id": "FwiJogKVJAm0",
        "outputId": "db843fa0-1021-4d2d-d5a0-22cd4b67dc86"
      },
      "execution_count": 21,
      "outputs": [
        {
          "output_type": "stream",
          "name": "stdout",
          "text": [
            "set()\n"
          ]
        }
      ]
    },
    {
      "cell_type": "markdown",
      "source": [
        "18. Remove element 4 from {1, 2, 3, 4}?"
      ],
      "metadata": {
        "id": "WH6x7kePFz2b"
      }
    },
    {
      "cell_type": "code",
      "source": [
        "set3 = {1, 2, 3, 4}\n",
        "set3.remove(4)\n",
        "print(set3)"
      ],
      "metadata": {
        "colab": {
          "base_uri": "https://localhost:8080/"
        },
        "id": "D_uIpkjTJJdJ",
        "outputId": "f19b986f-759e-4974-f8c0-ac9c7f75571f"
      },
      "execution_count": 22,
      "outputs": [
        {
          "output_type": "stream",
          "name": "stdout",
          "text": [
            "{1, 2, 3}\n"
          ]
        }
      ]
    },
    {
      "cell_type": "markdown",
      "source": [
        "19. Find union of {1, 2, 3} and {3, 4, 5}?"
      ],
      "metadata": {
        "id": "W-ncdR2ZFzzf"
      }
    },
    {
      "cell_type": "code",
      "source": [
        "set4 = {1, 2, 3}.union({3, 4, 5})\n",
        "print(set4) #Set will print random and unique"
      ],
      "metadata": {
        "colab": {
          "base_uri": "https://localhost:8080/"
        },
        "id": "v-lz2yc0JUCy",
        "outputId": "b8c12313-e7e1-42de-b068-4abaed8ee836"
      },
      "execution_count": 23,
      "outputs": [
        {
          "output_type": "stream",
          "name": "stdout",
          "text": [
            "{1, 2, 3, 4, 5}\n"
          ]
        }
      ]
    },
    {
      "cell_type": "markdown",
      "source": [
        "20. Find intersection of {1, 2, 3} and {2, 3, 4}?"
      ],
      "metadata": {
        "id": "t1GVZ2nUFzwZ"
      }
    },
    {
      "cell_type": "code",
      "source": [
        "set5 = {1, 2, 3}.intersection({2, 3, 4})\n",
        "print(set5)"
      ],
      "metadata": {
        "colab": {
          "base_uri": "https://localhost:8080/"
        },
        "id": "fTA_s1DdJnjq",
        "outputId": "80d5ce72-aa5b-4545-8553-75995b0b87fd"
      },
      "execution_count": 25,
      "outputs": [
        {
          "output_type": "stream",
          "name": "stdout",
          "text": [
            "{2, 3}\n"
          ]
        }
      ]
    },
    {
      "cell_type": "markdown",
      "source": [
        "21. Create dictionary with keys \"name\", \"age\", \"city\"?"
      ],
      "metadata": {
        "id": "wvzjJUFtFztv"
      }
    },
    {
      "cell_type": "code",
      "source": [
        "d1 = {\"name\": \"John\", \"age\": 25, \"city\": \"Allahabad\"}\n",
        "print(d1)"
      ],
      "metadata": {
        "colab": {
          "base_uri": "https://localhost:8080/"
        },
        "id": "TJFCVIrAJ7WT",
        "outputId": "deb98154-ee38-4d99-bf4d-d3f0be1f2725"
      },
      "execution_count": 27,
      "outputs": [
        {
          "output_type": "stream",
          "name": "stdout",
          "text": [
            "{'name': 'John', 'age': 25, 'city': 'Allahabad'}\n"
          ]
        }
      ]
    },
    {
      "cell_type": "markdown",
      "source": [
        "22. Add a new key-value pair \"country\": \"USA\" to the dictionary?"
      ],
      "metadata": {
        "id": "FL2ZXQx6FzrB"
      }
    },
    {
      "cell_type": "code",
      "source": [
        "d2 = {\"name\": \"John\", \"age\": 25, \"city\": \"Allahabad\"}\n",
        "d2['country']=\"USA\"\n",
        "print(d2)"
      ],
      "metadata": {
        "colab": {
          "base_uri": "https://localhost:8080/"
        },
        "id": "Nd4a34AYKIrz",
        "outputId": "1ee7eadc-84c5-4ffc-bc04-919520ec184d"
      },
      "execution_count": 28,
      "outputs": [
        {
          "output_type": "stream",
          "name": "stdout",
          "text": [
            "{'name': 'John', 'age': 25, 'city': 'Allahabad', 'country': 'USA'}\n"
          ]
        }
      ]
    },
    {
      "cell_type": "markdown",
      "source": [
        "23. Access the value associated with the key \"name\" in the dictionary?"
      ],
      "metadata": {
        "id": "wP7hrGKtFzn9"
      }
    },
    {
      "cell_type": "code",
      "source": [
        "d3 = {'name': 'Alice', 'age': 30}\n",
        "print(d3['name'])"
      ],
      "metadata": {
        "colab": {
          "base_uri": "https://localhost:8080/"
        },
        "id": "DlcpK7DiKaQw",
        "outputId": "569c6315-d00e-488c-d8ca-a2bf7bc020e7"
      },
      "execution_count": 30,
      "outputs": [
        {
          "output_type": "stream",
          "name": "stdout",
          "text": [
            "Alice\n"
          ]
        }
      ]
    },
    {
      "cell_type": "markdown",
      "source": [
        "24. Remove \"age\" from dict?"
      ],
      "metadata": {
        "id": "xkiN_ZkSFzlJ"
      }
    },
    {
      "cell_type": "code",
      "source": [
        "d4 = {'name': 'John', 'age': 25, 'city': 'Allahabad', 'country': 'USA'}\n",
        "d4.pop(\"age\")\n",
        "print(d4)"
      ],
      "metadata": {
        "colab": {
          "base_uri": "https://localhost:8080/"
        },
        "id": "55DJY0IkKkHA",
        "outputId": "af1532ea-ae0f-43de-9608-56eb53deb411"
      },
      "execution_count": 33,
      "outputs": [
        {
          "output_type": "stream",
          "name": "stdout",
          "text": [
            "{'name': 'John', 'city': 'Allahabad', 'country': 'USA'}\n"
          ]
        }
      ]
    },
    {
      "cell_type": "markdown",
      "source": [
        "25. Check if Key \"city\" exists in dict?"
      ],
      "metadata": {
        "id": "9-QTj1b1Fzib"
      }
    },
    {
      "cell_type": "code",
      "source": [
        "d5 = {'name': 'Alice', 'city': 'Paris', 'country': 'USA'}\n",
        "print(\"city\" in d5)"
      ],
      "metadata": {
        "colab": {
          "base_uri": "https://localhost:8080/"
        },
        "id": "kf0qr1YqK9xu",
        "outputId": "81b80c5b-28f0-4c6a-fb13-e025b99054bd"
      },
      "execution_count": 46,
      "outputs": [
        {
          "output_type": "stream",
          "name": "stdout",
          "text": [
            "True\n"
          ]
        }
      ]
    },
    {
      "cell_type": "markdown",
      "source": [
        "26. Create list, tuple, dictionary and print all?"
      ],
      "metadata": {
        "id": "r0LSyNMnFzfH"
      }
    },
    {
      "cell_type": "code",
      "source": [
        "lst1 = [1, 2, 3]\n",
        "tup2 = (4, 5, 6)\n",
        "dct3 = {\"a\": 1, \"b\": 2}\n",
        "print(lst1, tup2, dct3)"
      ],
      "metadata": {
        "colab": {
          "base_uri": "https://localhost:8080/"
        },
        "id": "xfhB_sZvLNQI",
        "outputId": "5c18fc24-cf46-4388-a187-9f87718447bf"
      },
      "execution_count": 35,
      "outputs": [
        {
          "output_type": "stream",
          "name": "stdout",
          "text": [
            "[1, 2, 3] (4, 5, 6) {'a': 1, 'b': 2}\n"
          ]
        }
      ]
    },
    {
      "cell_type": "markdown",
      "source": [
        "27. Create a list of 5 random numbers between 1 and 100, sort it in ascending order, and print the result.(replaced)?"
      ],
      "metadata": {
        "id": "70TE_4VDFzcB"
      }
    },
    {
      "cell_type": "code",
      "source": [
        "import random\n",
        "no = random.sample(range(1, 101), 5)\n",
        "no.sort()\n",
        "print(no)"
      ],
      "metadata": {
        "colab": {
          "base_uri": "https://localhost:8080/"
        },
        "id": "A4Yd1q8xFqCl",
        "outputId": "734f603b-505d-424b-e927-3ec51f5fc35f"
      },
      "execution_count": 37,
      "outputs": [
        {
          "output_type": "stream",
          "name": "stdout",
          "text": [
            "[13, 39, 63, 93, 97]\n"
          ]
        }
      ]
    },
    {
      "cell_type": "markdown",
      "source": [
        "28. create a list with strings and print the element at the third index?"
      ],
      "metadata": {
        "id": "0tpzzRUOLtcl"
      }
    },
    {
      "cell_type": "code",
      "source": [
        "fruits = [\"apple\", \"banana\", \"cherry\", \"date\", \"fig\"]\n",
        "print(fruits[3])"
      ],
      "metadata": {
        "colab": {
          "base_uri": "https://localhost:8080/"
        },
        "id": "m507FqaULx8v",
        "outputId": "36efc00e-70dc-4c63-895b-b53243ec9acf"
      },
      "execution_count": 38,
      "outputs": [
        {
          "output_type": "stream",
          "name": "stdout",
          "text": [
            "date\n"
          ]
        }
      ]
    },
    {
      "cell_type": "markdown",
      "source": [
        "29. Combine two dictionaries into one and print the result?"
      ],
      "metadata": {
        "id": "mPtajSwJLtSu"
      }
    },
    {
      "cell_type": "code",
      "source": [
        "dict1 = {'a': 1}\n",
        "dict2 = {'b': 2}\n",
        "dict3 = (dict1, dict2)\n",
        "print(dict3)"
      ],
      "metadata": {
        "colab": {
          "base_uri": "https://localhost:8080/"
        },
        "id": "y-1NyrlsMBy8",
        "outputId": "2a951ee8-e7f0-4f42-c1cf-1a9c3679321c"
      },
      "execution_count": 44,
      "outputs": [
        {
          "output_type": "stream",
          "name": "stdout",
          "text": [
            "({'a': 1}, {'b': 2})\n"
          ]
        }
      ]
    },
    {
      "cell_type": "markdown",
      "source": [
        "30. Convert a list of strings into a set?"
      ],
      "metadata": {
        "id": "WKTrxbcmLwbX"
      }
    },
    {
      "cell_type": "code",
      "source": [
        "str_list = [\"apple\", \"banana\", \"apple\"]\n",
        "str_set = set(str_list)\n",
        "print(str_set)"
      ],
      "metadata": {
        "colab": {
          "base_uri": "https://localhost:8080/"
        },
        "id": "eB2skUxULlLV",
        "outputId": "a56f6ce2-647d-4fab-f83b-c9fb34874240"
      },
      "execution_count": 45,
      "outputs": [
        {
          "output_type": "stream",
          "name": "stdout",
          "text": [
            "{'apple', 'banana'}\n"
          ]
        }
      ]
    }
  ]
}