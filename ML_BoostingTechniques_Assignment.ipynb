{
  "nbformat": 4,
  "nbformat_minor": 0,
  "metadata": {
    "colab": {
      "provenance": []
    },
    "kernelspec": {
      "name": "python3",
      "display_name": "Python 3"
    },
    "language_info": {
      "name": "python"
    }
  },
  "cells": [
    {
      "cell_type": "markdown",
      "source": [
        "#Boosting Techniques\n",
        "**Question 1**\n",
        "\n",
        "What is Boosting in Machine Learning? Explain how it improves weak learners.\n",
        "\n",
        "**Answer:** Boosting is an ensemble technique that builds a strong learner by sequentially combining many weak learners (models that perform just slightly better than random). Each new model focuses on examples the previous models struggled with, typically by reweighting samples (e.g., AdaBoost) or by fitting residual errors/gradients (e.g., Gradient Boosting). Final predictions are a weighted vote (classification) or sum (regression) of all weak learners.\n",
        "\n",
        "Why it improves weak learners:\n",
        "\n",
        "- Focus on hard cases: Misclassified or high-error samples get more attention in later rounds.\n",
        "\n",
        "- Bias reduction: Sequential corrections reduce systematic errors.\n",
        "\n",
        "- Additive modeling: Each learner adds a small, targeted improvement.\n",
        "\n",
        "- Shrinkage & regularization: Learning rate, depth constraints, and penalties curb overfitting while allowing many learners to contribute.\n",
        "\n",
        "**Question 2**\n",
        "\n",
        "What is the difference between AdaBoost and Gradient Boosting in terms of how models are trained?\n",
        "\n",
        "**Answer:**\n",
        "| Aspect                 | **AdaBoost**                                                                         | **Gradient Boosting**                                                                     |\n",
        "| ---------------------- | ------------------------------------------------------------------------------------ | ----------------------------------------------------------------------------------------- |\n",
        "| **Core idea**          | Reweights misclassified samples and builds next learner on updated weights.          | Fits new learners to the **residuals (negative gradients)** of the chosen loss function.  |\n",
        "| **Error handling**     | Increases weights of wrongly classified samples so the next learner focuses on them. | Each learner directly minimizes the gradient of the loss (e.g., squared error, log loss). |\n",
        "| **Loss function**      | Implicitly based on **exponential loss** (for classification).                       | Works with any **differentiable loss** (squared error, log loss, MAE, etc.).              |\n",
        "| **Base learners**      | Often **decision stumps** (depth=1 trees).                                           | Typically **deeper trees** (depth 3–6) for capturing complex interactions.                |\n",
        "| **Combination method** | Weighted majority vote (classification) or weighted sum (regression).                | Additive model: final prediction is the sum of all learners’ outputs.                     |\n",
        "| **Flexibility**        | Less flexible (fixed exponential-style weighting).                                   | More flexible (supports custom loss, regularization, shrinkage).                          |\n",
        "| **Interpretability**   | Simpler, fewer hyperparameters.                                                      | Richer, more complex, requires careful tuning.                                            |\n",
        "| **Performance**        | Good for simpler tasks, small datasets.                                              | Superior for large, complex, noisy, or tabular datasets.                                  |\n",
        "\n",
        "\n",
        "**Question 3**\n",
        "\n",
        "How does regularization help in XGBoost?\n",
        "\n",
        "**Answer:**\n",
        "XGBoost adds multiple regularization mechanisms that reduce overfitting and improve generalization/performance:\n",
        "\n",
        "- L1/L2 penalties (alpha, lambda) on leaf weights stabilize the model and control complexity.\n",
        "\n",
        "- Tree constraints: max_depth, min_child_weight, gamma (min loss reduction for a split), and max_leaves limit tree growth.\n",
        "\n",
        "- Shrinkage (learning_rate/eta): Small learning steps make each tree’s contribution modest, enabling more robust additive modeling.\n",
        "\n",
        "- Subsampling: subsample (rows) and colsample_bytree/bylevel/bynode (features) act like built-in bagging to reduce variance.\n",
        "\n",
        "- Early stopping: Halts training when validation performance stalls, preventing overfit.\n",
        "\n",
        "Together, these mechanisms make XGBoost fast, accurate, and robust on noisy/tabular data.\n",
        "\n",
        "**Question 4**\n",
        "\n",
        "Why is CatBoost considered efficient for handling categorical data?\n",
        "\n",
        "**Answer:**\n",
        "CatBoost is designed for categorical features and avoids target leakage via ordered target statistics: it computes target-based encodings using permutation-driven, past-only statistics. Key advantages:\n",
        "\n",
        "- Native categorical handling: No need for heavy one-hot encoding; reduces dimensionality.\n",
        "\n",
        "- Ordered boosting: Mitigates prediction shift by using an ordering scheme for both boosting and statistics.\n",
        "\n",
        "- Robust defaults: Handles missing values and categorical encodings internally with strong regularization.\n",
        "\n",
        "- Fast, accurate on tabular data: Typically competitive out-of-the-box with minimal preprocessing.\n",
        "\n",
        "**Question 5**\n",
        "\n",
        "What are some real-world applications where boosting techniques are preferred over bagging methods?\n",
        "\n",
        "**Answer:**\n",
        "Boosting often wins on structured/tabular problems with heterogeneous features and complex interactions, especially when accuracy is paramount:\n",
        "\n",
        "- Credit risk / fraud detection (imbalanced classification)\n",
        "\n",
        "- Click-through rate (CTR) prediction / ad ranking\n",
        "\n",
        "- Customer churn / propensity modeling\n",
        "\n",
        "- Insurance pricing & claim prediction\n",
        "\n",
        "- Medical diagnosis / readmission risk\n",
        "\n",
        "- Demand forecasting / price elasticity\n",
        "\n",
        "Reason: Boosting’s additive, gradient-driven corrections capture subtle patterns better than bagging’s pure variance reduction."
      ],
      "metadata": {
        "id": "MbrYC1QqdiBe"
      }
    },
    {
      "cell_type": "markdown",
      "source": [
        "**Question 6**\n",
        "\n",
        "Write a Python program to:\n",
        "\n",
        "Train an AdaBoost Classifier on the Breast Cancer dataset\n",
        "\n",
        "Print the model accuracy"
      ],
      "metadata": {
        "id": "n2gEqlqPIvuF"
      }
    },
    {
      "cell_type": "code",
      "source": [
        "from sklearn.datasets import load_breast_cancer\n",
        "from sklearn.model_selection import train_test_split\n",
        "from sklearn.ensemble import AdaBoostClassifier\n",
        "from sklearn.tree import DecisionTreeClassifier\n",
        "from sklearn.metrics import accuracy_score\n",
        "import numpy as np\n",
        "\n",
        "# Load data\n",
        "X, y = load_breast_cancer(return_X_y=True)\n",
        "\n",
        "# Train/val split\n",
        "X_train, X_test, y_train, y_test = train_test_split(\n",
        "    X, y, test_size=0.2, random_state=42, stratify=y\n",
        ")\n",
        "\n",
        "# Base learner: decision stump (depth=1) is classic for AdaBoost\n",
        "base = DecisionTreeClassifier(max_depth=1, random_state=42)\n",
        "\n",
        "# AdaBoost\n",
        "clf = AdaBoostClassifier(\n",
        "    estimator=base,        # or base_estimator in older sklearn\n",
        "    n_estimators=200,\n",
        "    learning_rate=0.5,\n",
        "    random_state=42\n",
        ")\n",
        "clf.fit(X_train, y_train)\n",
        "\n",
        "# Evaluate\n",
        "pred = clf.predict(X_test)\n",
        "acc = accuracy_score(y_test, pred)\n",
        "print(f\"AdaBoost test accuracy: {acc:.4f}\")\n"
      ],
      "metadata": {
        "colab": {
          "base_uri": "https://localhost:8080/"
        },
        "id": "Mb50CUqeKY7f",
        "outputId": "82c28ab5-0f5b-476c-a7e2-7920dd04450f"
      },
      "execution_count": 1,
      "outputs": [
        {
          "output_type": "stream",
          "name": "stdout",
          "text": [
            "AdaBoost test accuracy: 0.9561\n"
          ]
        }
      ]
    },
    {
      "cell_type": "markdown",
      "source": [
        "**Question 7**\n",
        "\n",
        "Write a Python program to:\n",
        "\n",
        "Train a Gradient Boosting Regressor on the California Housing dataset\n",
        "\n",
        "Evaluate performance using R-squared score"
      ],
      "metadata": {
        "id": "K2jcUksrKLAf"
      }
    },
    {
      "cell_type": "code",
      "source": [
        "from sklearn.datasets import fetch_california_housing\n",
        "from sklearn.model_selection import train_test_split\n",
        "from sklearn.ensemble import GradientBoostingRegressor\n",
        "from sklearn.metrics import r2_score\n",
        "from sklearn.preprocessing import StandardScaler\n",
        "from sklearn.compose import ColumnTransformer\n",
        "from sklearn.pipeline import Pipeline\n",
        "import numpy as np\n",
        "import pandas as pd\n",
        "\n",
        "# Load data\n",
        "data = fetch_california_housing(as_frame=True)\n",
        "X = data.frame.drop(columns=[\"MedHouseVal\"])\n",
        "y = data.frame[\"MedHouseVal\"]\n",
        "\n",
        "# (Optional) simple scaling for continuous features can help weak learners\n",
        "num_features = list(X.columns)\n",
        "pre = ColumnTransformer(\n",
        "    transformers=[(\"num\", StandardScaler(), num_features)],\n",
        "    remainder=\"drop\"\n",
        ")\n",
        "\n",
        "gbr = GradientBoostingRegressor(\n",
        "    n_estimators=500,\n",
        "    learning_rate=0.05,\n",
        "    max_depth=3,\n",
        "    subsample=0.8,\n",
        "    random_state=42\n",
        ")\n",
        "\n",
        "pipe = Pipeline([(\"pre\", pre), (\"model\", gbr)])\n",
        "X_train, X_test, y_train, y_test = train_test_split(\n",
        "    X, y, test_size=0.2, random_state=42\n",
        ")\n",
        "\n",
        "pipe.fit(X_train, y_train)\n",
        "y_pred = pipe.predict(X_test)\n",
        "print(f\"Gradient Boosting R^2: {r2_score(y_test, y_pred):.4f}\")\n"
      ],
      "metadata": {
        "colab": {
          "base_uri": "https://localhost:8080/"
        },
        "id": "B2_N7xliKYfi",
        "outputId": "2ac31dc3-40bf-4e7f-d042-0785b6e07b73"
      },
      "execution_count": 2,
      "outputs": [
        {
          "output_type": "stream",
          "name": "stdout",
          "text": [
            "Gradient Boosting R^2: 0.8077\n"
          ]
        }
      ]
    },
    {
      "cell_type": "markdown",
      "source": [
        "**Question 8**\n",
        "\n",
        "Write a Python program to:\n",
        "\n",
        "Train an XGBoost Classifier on the Breast Cancer dataset\n",
        "\n",
        "Tune the learning rate using GridSearchCV\n",
        "\n",
        "Print the best parameters and accuracy"
      ],
      "metadata": {
        "id": "Xn992kZPKLVM"
      }
    },
    {
      "cell_type": "code",
      "source": [
        "# !pip install xgboost  # Uncomment if running locally and xgboost is missing\n",
        "\n",
        "from sklearn.datasets import load_breast_cancer\n",
        "from sklearn.model_selection import train_test_split, GridSearchCV\n",
        "from sklearn.metrics import accuracy_score\n",
        "from xgboost import XGBClassifier\n",
        "import numpy as np\n",
        "\n",
        "# Data\n",
        "X, y = load_breast_cancer(return_X_y=True)\n",
        "X_train, X_test, y_train, y_test = train_test_split(\n",
        "    X, y, test_size=0.2, random_state=42, stratify=y\n",
        ")\n",
        "\n",
        "# Base model\n",
        "xgb = XGBClassifier(\n",
        "    n_estimators=400,\n",
        "    max_depth=3,\n",
        "    subsample=0.8,\n",
        "    colsample_bytree=0.8,\n",
        "    eval_metric=\"logloss\",\n",
        "    random_state=42,\n",
        "    n_jobs=-1\n",
        ")\n",
        "\n",
        "# Grid over learning_rate\n",
        "param_grid = {\"learning_rate\": [0.01, 0.05, 0.1, 0.2]}\n",
        "\n",
        "grid = GridSearchCV(\n",
        "    estimator=xgb,\n",
        "    param_grid=param_grid,\n",
        "    scoring=\"accuracy\",\n",
        "    cv=5,\n",
        "    n_jobs=-1,\n",
        "    verbose=0\n",
        ")\n",
        "\n",
        "grid.fit(X_train, y_train)\n",
        "\n",
        "best_model = grid.best_estimator_\n",
        "pred = best_model.predict(X_test)\n",
        "acc = accuracy_score(y_test, pred)\n",
        "\n",
        "print(f\"Best params: {grid.best_params_}\")\n",
        "print(f\"Test accuracy: {acc:.4f}\")\n"
      ],
      "metadata": {
        "colab": {
          "base_uri": "https://localhost:8080/"
        },
        "id": "0dlDozlaKZeK",
        "outputId": "40525572-6c10-44ff-d1ba-40009c175462"
      },
      "execution_count": 3,
      "outputs": [
        {
          "output_type": "stream",
          "name": "stdout",
          "text": [
            "Best params: {'learning_rate': 0.1}\n",
            "Test accuracy: 0.9561\n"
          ]
        }
      ]
    },
    {
      "cell_type": "markdown",
      "source": [
        "**Question 9**\n",
        "\n",
        "Write a Python program to:\n",
        "\n",
        "Train a CatBoost Classifier\n",
        "\n",
        "Plot the confusion matrix using seaborn"
      ],
      "metadata": {
        "id": "2GaCd4h6KLoM"
      }
    },
    {
      "cell_type": "code",
      "source": [
        "!pip install catboost"
      ],
      "metadata": {
        "colab": {
          "base_uri": "https://localhost:8080/"
        },
        "id": "lKZg_ogdLEyn",
        "outputId": "dcaf9b1f-0604-4ae2-b2af-08852b7cc534"
      },
      "execution_count": 5,
      "outputs": [
        {
          "output_type": "stream",
          "name": "stdout",
          "text": [
            "Collecting catboost\n",
            "  Downloading catboost-1.2.8-cp312-cp312-manylinux2014_x86_64.whl.metadata (1.2 kB)\n",
            "Requirement already satisfied: graphviz in /usr/local/lib/python3.12/dist-packages (from catboost) (0.21)\n",
            "Requirement already satisfied: matplotlib in /usr/local/lib/python3.12/dist-packages (from catboost) (3.10.0)\n",
            "Requirement already satisfied: numpy<3.0,>=1.16.0 in /usr/local/lib/python3.12/dist-packages (from catboost) (2.0.2)\n",
            "Requirement already satisfied: pandas>=0.24 in /usr/local/lib/python3.12/dist-packages (from catboost) (2.2.2)\n",
            "Requirement already satisfied: scipy in /usr/local/lib/python3.12/dist-packages (from catboost) (1.16.1)\n",
            "Requirement already satisfied: plotly in /usr/local/lib/python3.12/dist-packages (from catboost) (5.24.1)\n",
            "Requirement already satisfied: six in /usr/local/lib/python3.12/dist-packages (from catboost) (1.17.0)\n",
            "Requirement already satisfied: python-dateutil>=2.8.2 in /usr/local/lib/python3.12/dist-packages (from pandas>=0.24->catboost) (2.9.0.post0)\n",
            "Requirement already satisfied: pytz>=2020.1 in /usr/local/lib/python3.12/dist-packages (from pandas>=0.24->catboost) (2025.2)\n",
            "Requirement already satisfied: tzdata>=2022.7 in /usr/local/lib/python3.12/dist-packages (from pandas>=0.24->catboost) (2025.2)\n",
            "Requirement already satisfied: contourpy>=1.0.1 in /usr/local/lib/python3.12/dist-packages (from matplotlib->catboost) (1.3.3)\n",
            "Requirement already satisfied: cycler>=0.10 in /usr/local/lib/python3.12/dist-packages (from matplotlib->catboost) (0.12.1)\n",
            "Requirement already satisfied: fonttools>=4.22.0 in /usr/local/lib/python3.12/dist-packages (from matplotlib->catboost) (4.59.1)\n",
            "Requirement already satisfied: kiwisolver>=1.3.1 in /usr/local/lib/python3.12/dist-packages (from matplotlib->catboost) (1.4.9)\n",
            "Requirement already satisfied: packaging>=20.0 in /usr/local/lib/python3.12/dist-packages (from matplotlib->catboost) (25.0)\n",
            "Requirement already satisfied: pillow>=8 in /usr/local/lib/python3.12/dist-packages (from matplotlib->catboost) (11.3.0)\n",
            "Requirement already satisfied: pyparsing>=2.3.1 in /usr/local/lib/python3.12/dist-packages (from matplotlib->catboost) (3.2.3)\n",
            "Requirement already satisfied: tenacity>=6.2.0 in /usr/local/lib/python3.12/dist-packages (from plotly->catboost) (8.5.0)\n",
            "Downloading catboost-1.2.8-cp312-cp312-manylinux2014_x86_64.whl (99.2 MB)\n",
            "\u001b[2K   \u001b[90m━━━━━━━━━━━━━━━━━━━━━━━━━━━━━━━━━━━━━━━━\u001b[0m \u001b[32m99.2/99.2 MB\u001b[0m \u001b[31m10.7 MB/s\u001b[0m eta \u001b[36m0:00:00\u001b[0m\n",
            "\u001b[?25hInstalling collected packages: catboost\n",
            "Successfully installed catboost-1.2.8\n"
          ]
        }
      ]
    },
    {
      "cell_type": "code",
      "source": [
        "# Q9: CatBoost Classifier + Confusion Matrix\n",
        "# !pip install catboost seaborn  # Uncomment if running locally\n",
        "\n",
        "from sklearn.datasets import load_breast_cancer\n",
        "from sklearn.model_selection import train_test_split\n",
        "from sklearn.metrics import confusion_matrix, classification_report\n",
        "from catboost import CatBoostClassifier, Pool\n",
        "import seaborn as sns\n",
        "import matplotlib.pyplot as plt\n",
        "\n",
        "# Data\n",
        "X, y = load_breast_cancer(return_X_y=True)\n",
        "X_train, X_test, y_train, y_test = train_test_split(\n",
        "    X, y, test_size=0.2, random_state=42, stratify=y\n",
        ")\n",
        "\n",
        "# CatBoost (silent training)\n",
        "cb = CatBoostClassifier(\n",
        "    depth=6,\n",
        "    learning_rate=0.1,\n",
        "    iterations=400,\n",
        "    loss_function=\"Logloss\",\n",
        "    random_seed=42,\n",
        "    verbose=False\n",
        ")\n",
        "cb.fit(X_train, y_train)\n",
        "\n",
        "# Predictions and confusion matrix\n",
        "y_pred = cb.predict(X_test)\n",
        "cm = confusion_matrix(y_test, y_pred)\n",
        "\n",
        "print(classification_report(y_test, y_pred))\n",
        "\n",
        "plt.figure()\n",
        "sns.heatmap(cm, annot=True, fmt=\"d\", cbar=False)\n",
        "plt.title(\"CatBoost Confusion Matrix\")\n",
        "plt.xlabel(\"Predicted\")\n",
        "plt.ylabel(\"Actual\")\n",
        "plt.show()\n"
      ],
      "metadata": {
        "colab": {
          "base_uri": "https://localhost:8080/",
          "height": 628
        },
        "id": "XecQP3lZKX77",
        "outputId": "8ec6fb46-c29c-4970-fb03-046cfd6e1af3"
      },
      "execution_count": 6,
      "outputs": [
        {
          "output_type": "stream",
          "name": "stdout",
          "text": [
            "              precision    recall  f1-score   support\n",
            "\n",
            "           0       0.97      0.93      0.95        42\n",
            "           1       0.96      0.99      0.97        72\n",
            "\n",
            "    accuracy                           0.96       114\n",
            "   macro avg       0.97      0.96      0.96       114\n",
            "weighted avg       0.97      0.96      0.96       114\n",
            "\n"
          ]
        },
        {
          "output_type": "display_data",
          "data": {
            "text/plain": [
              "<Figure size 640x480 with 1 Axes>"
            ],
            "image/png": "[encoded data removed]"
          },
          "metadata": {}
        }
      ]
    },
    {
      "cell_type": "markdown",
      "source": [
        "**Question 10**\n",
        "\n",
        "You're working for a FinTech company trying to predict loan default using customer demographics and transaction behavior.\n",
        "The dataset is imbalanced, contains missing values, and has both numeric and categorical features.\n",
        "\n",
        "Describe your step-by-step data science pipeline using boosting techniques:\n",
        "\n",
        "Data preprocessing & handling missing/categorical values\n",
        "\n",
        "Choice between AdaBoost, XGBoost, or CatBoost\n",
        "\n",
        "Hyperparameter tuning strategy\n",
        "\n",
        "Evaluation metrics you'd choose and why\n",
        "\n",
        "How the business would benefit from your model"
      ],
      "metadata": {
        "id": "4BLSMkpcKL-H"
      }
    },
    {
      "cell_type": "code",
      "source": [
        "# Q10: End-to-end pipeline sketch for imbalanced loan default\n",
        "# !pip install catboost imbalanced-learn  # if needed\n",
        "\n",
        "import numpy as np\n",
        "import pandas as pd\n",
        "\n",
        "from sklearn.model_selection import StratifiedKFold, train_test_split\n",
        "from sklearn.metrics import roc_auc_score, average_precision_score, brier_score_loss\n",
        "from sklearn.calibration import CalibratedClassifierCV\n",
        "from sklearn.preprocessing import OneHotEncoder\n",
        "from sklearn.compose import ColumnTransformer\n",
        "from sklearn.pipeline import Pipeline\n",
        "from sklearn.impute import SimpleImputer\n",
        "\n",
        "from imblearn.pipeline import Pipeline as ImbPipeline\n",
        "from imblearn.over_sampling import SMOTENC  # use only if necessary and *train-only*\n",
        "from catboost import CatBoostClassifier\n",
        "\n",
        "# Example: Suppose df has mixed types\n",
        "# df = pd.read_csv(\"loan_data.csv\")\n",
        "# target = \"default\"\n",
        "# cat_cols = [\"gender\", \"city\", \"employment_type\"]\n",
        "# num_cols = [\"age\", \"income\", \"balance\", \"tx_count_30d\", \"max_utilization\"]\n",
        "\n",
        "# For illustration, we'll create placeholders:\n",
        "df = pd.DataFrame({\n",
        "    \"gender\": np.random.choice([\"M\", \"F\"], 2000),\n",
        "    \"city\": np.random.choice([\"A\", \"B\", \"C\"], 2000),\n",
        "    \"employment_type\": np.random.choice([\"salaried\", \"self\"], 2000),\n",
        "    \"age\": np.random.normal(35, 8, 2000),\n",
        "    \"income\": np.abs(np.random.normal(60000, 20000, 2000)),\n",
        "    \"balance\": np.abs(np.random.normal(15000, 12000, 2000)),\n",
        "    \"tx_count_30d\": np.random.poisson(12, 2000),\n",
        "    \"max_utilization\": np.random.beta(2, 5, 2000),\n",
        "})\n",
        "# Imbalanced target (10% defaults)\n",
        "rng = np.random.RandomState(42)\n",
        "df[\"default\"] = (rng.rand(2000) < 0.10).astype(int)\n",
        "\n",
        "target = \"default\"\n",
        "cat_cols = [\"gender\", \"city\", \"employment_type\"]\n",
        "num_cols = [\"age\", \"income\", \"balance\", \"tx_count_30d\", \"max_utilization\"]\n",
        "\n",
        "X = df[cat_cols + num_cols]\n",
        "y = df[target]\n",
        "\n",
        "X_train, X_test, y_train, y_test = train_test_split(\n",
        "    X, y, test_size=0.2, stratify=y, random_state=42\n",
        ")\n",
        "\n",
        "# CatBoost: handles missing + categorical internally\n",
        "# We'll still impute numerics to be explicit; cat features can stay as-is (strings)\n",
        "num_imputer = SimpleImputer(strategy=\"median\")\n",
        "\n",
        "# Build numerical preprocessing (optional; CatBoost can take NaN directly)\n",
        "# We'll convert to numpy arrays for CatBoost Pool.\n",
        "X_train_num = num_imputer.fit_transform(X_train[num_cols])\n",
        "X_test_num = num_imputer.transform(X_test[num_cols])\n",
        "\n",
        "# Reassemble matrices with categorical columns (as object arrays)\n",
        "X_train_proc = pd.concat([X_train[cat_cols].reset_index(drop=True),\n",
        "                          pd.DataFrame(X_train_num, columns=num_cols)], axis=1)\n",
        "X_test_proc = pd.concat([X_test[cat_cols].reset_index(drop=True),\n",
        "                         pd.DataFrame(X_test_num, columns=num_cols)], axis=1)\n",
        "\n",
        "# Identify categorical feature indices for CatBoost\n",
        "cat_indices = [X_train_proc.columns.get_loc(c) for c in cat_cols]\n",
        "\n",
        "cb = CatBoostClassifier(\n",
        "    iterations=2000,\n",
        "    learning_rate=0.03,\n",
        "    depth=6,\n",
        "    l2_leaf_reg=3.0,\n",
        "    subsample=0.8,\n",
        "    loss_function=\"Logloss\",\n",
        "    eval_metric=\"AUC\",\n",
        "    random_seed=42,\n",
        "    class_weights=[1.0, 5.0],  # weight positive class more (tune based on prevalence/costs)\n",
        "    od_type=\"Iter\",\n",
        "    od_wait=100,\n",
        "    verbose=False\n",
        ")\n",
        "\n",
        "cb.fit(\n",
        "    X_train_proc, y_train,\n",
        "    cat_features=cat_indices,\n",
        "    eval_set=(X_test_proc, y_test),\n",
        "    use_best_model=True\n",
        ")\n",
        "\n",
        "# Probabilities & metrics\n",
        "p_test = cb.predict_proba(X_test_proc)[:, 1]\n",
        "roc = roc_auc_score(y_test, p_test)\n",
        "pr = average_precision_score(y_test, p_test)\n",
        "brier = brier_score_loss(y_test, p_test)\n",
        "\n",
        "print(f\"ROC-AUC: {roc:.4f} | PR-AUC: {pr:.4f} | Brier: {brier:.4f}\")\n",
        "\n",
        "# (Optional) calibration if you need well-calibrated probabilities:\n",
        "# Calibrate via Platt scaling/Isotonic on validation folds (sketch):\n",
        "# calib = CalibratedClassifierCV(cb, method=\"isotonic\", cv=3)\n",
        "# calib.fit(X_train_proc, y_train)\n",
        "# p_cal = calib.predict_proba(X_test_proc)[:, 1]\n",
        "\n",
        "# (Optional) choose decision threshold based on business cost curve or F-beta:\n",
        "# threshold = 0.25\n",
        "# y_pred = (p_test >= threshold).astype(int)\n",
        "# from sklearn.metrics import classification_report\n",
        "# print(classification_report(y_test, y_pred))\n"
      ],
      "metadata": {
        "colab": {
          "base_uri": "https://localhost:8080/"
        },
        "id": "ucsOHrxjKXjP",
        "outputId": "e8a0a0b6-2cfd-43aa-f362-e38e5b9e8901"
      },
      "execution_count": 7,
      "outputs": [
        {
          "output_type": "stream",
          "name": "stdout",
          "text": [
            "ROC-AUC: 0.5500 | PR-AUC: 0.1187 | Brier: 0.2251\n"
          ]
        }
      ]
    }
  ]
}